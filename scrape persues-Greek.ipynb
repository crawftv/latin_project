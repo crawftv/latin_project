{
 "cells": [
  {
   "cell_type": "code",
   "execution_count": 123,
   "metadata": {},
   "outputs": [],
   "source": [
    "#!pip install nest_asyncio"
   ]
  },
  {
   "cell_type": "code",
   "execution_count": 124,
   "metadata": {},
   "outputs": [],
   "source": [
    "import requests\n",
    "from bs4 import BeautifulSoup\n",
    "import asyncio\n",
    "from concurrent.futures import ThreadPoolExecutor\n",
    "import nest_asyncio"
   ]
  },
  {
   "cell_type": "code",
   "execution_count": 125,
   "metadata": {},
   "outputs": [],
   "source": [
    "library = \"http://www.perseus.tufts.edu/hopper/collection?collection=Perseus:corpus:perseus,Greek+Texts\""
   ]
  },
  {
   "cell_type": "markdown",
   "metadata": {},
   "source": [
    "### Create a library"
   ]
  },
  {
   "cell_type": "code",
   "execution_count": 137,
   "metadata": {},
   "outputs": [],
   "source": [
    "r = requests.get(library).text\n",
    "soup = BeautifulSoup(r,\"html.parser\")\n",
    "library_list = soup.find_all(\"a\", {\"class\":\"aResultsHeader\"})\n",
    "library_urls = [i[\"href\"] for i in library_list]\n",
    "text_urls = [(i,) for i in library_urls]"
   ]
  },
  {
   "cell_type": "code",
   "execution_count": 142,
   "metadata": {},
   "outputs": [],
   "source": [
    "# with sqlite3.connect(\"greek.db\") as conn:\n",
    "#     conn.execute(\"DROP TABLE text_urls\")"
   ]
  },
  {
   "cell_type": "code",
   "execution_count": 141,
   "metadata": {},
   "outputs": [],
   "source": [
    "import sqlite3\n",
    "conn = sqlite3.connect('greek.db')\n",
    "c = conn.cursor()\n",
    "c.execute(\"\"\"CREATE TABLE text_urls (url text UNIQUE )\"\"\")\n",
    "for i in text_urls:\n",
    "    c.execute(\"\"\"INSERT INTO text_urls VALUES(?)\"\"\",i)\n",
    "conn.commit()"
   ]
  },
  {
   "cell_type": "markdown",
   "metadata": {},
   "source": [
    "### Get all pages"
   ]
  },
  {
   "cell_type": "markdown",
   "metadata": {},
   "source": [
    "##### Test"
   ]
  },
  {
   "cell_type": "code",
   "execution_count": 33,
   "metadata": {},
   "outputs": [
    {
     "data": {
      "text/plain": [
       "'http://www.perseus.tufts.edu/hopper/text?doc=Perseus%3atext%3a2008.01.0592'"
      ]
     },
     "execution_count": 33,
     "metadata": {},
     "output_type": "execute_result"
    }
   ],
   "source": [
    "\"http://www.perseus.tufts.edu/hopper/\"+library_urls[1]"
   ]
  },
  {
   "cell_type": "code",
   "execution_count": 34,
   "metadata": {},
   "outputs": [],
   "source": [
    "r = requests.get(\"http://www.perseus.tufts.edu/hopper/\"+library_urls[0]).text\n",
    "soup = BeautifulSoup(r,\"html.parser\")"
   ]
  },
  {
   "cell_type": "code",
   "execution_count": 35,
   "metadata": {},
   "outputs": [],
   "source": [
    "toc = soup.find_all(\"div\", {\"id\":\"toc\"})[0]"
   ]
  },
  {
   "cell_type": "code",
   "execution_count": 74,
   "metadata": {},
   "outputs": [
    {
     "data": {
      "text/plain": [
       "'?doc=Perseus%3Atext%3A2008.01.0590%3Abook%3D1%3Achapter%3Dpraef'"
      ]
     },
     "execution_count": 74,
     "metadata": {},
     "output_type": "execute_result"
    }
   ],
   "source": [
    "toc[2]"
   ]
  },
  {
   "cell_type": "markdown",
   "metadata": {},
   "source": [
    "##### Execution"
   ]
  },
  {
   "cell_type": "code",
   "execution_count": 40,
   "metadata": {},
   "outputs": [],
   "source": [
    "import asyncio\n",
    "from concurrent.futures import ThreadPoolExecutor\n",
    "import nest_asyncio"
   ]
  },
  {
   "cell_type": "code",
   "execution_count": 151,
   "metadata": {},
   "outputs": [],
   "source": [
    "from typing import Tuple\n",
    "# with sqlite3.connect(\"greek.db\") as conn:\n",
    "#     conn.execute(\"DROP TABLE chapter_urls\")\n",
    "# with sqlite3.connect(\"greek.db\") as conn:\n",
    "#     conn.execute(\"\"\"CREATE TABLE chapter_urls (chapter_urls text UNIQUE ,  text_url text)\"\"\")\n",
    "def get_all_pieces(url:Tuple[str,int]):\n",
    "    r = requests.get(\"http://www.perseus.tufts.edu/hopper/\"+url[0]).text\n",
    "    soup = BeautifulSoup(r,\"html.parser\")\n",
    "    #try:\n",
    "    toc = soup.find_all(\"div\",{\"id\":\"toc\"})[0]\n",
    "    toc = [(i[\"href\"],url[1]) for i in toc.find_all(\"a\") if \"javascript\" not in i[\"href\"] ]\n",
    "    with sqlite3.connect(\"greek.db\") as conn:\n",
    "        conn.executemany(\"\"\"INSERT INTO chapter_urls VALUES(?,?)\"\"\", toc )\n",
    "#     except:\n",
    "#         print(f'ERROR url = {url}')\n",
    "    "
   ]
  },
  {
   "cell_type": "code",
   "execution_count": 152,
   "metadata": {},
   "outputs": [],
   "source": [
    "with sqlite3.connect(\"greek.db\") as conn:\n",
    "    c =conn.execute(\"SELECT *,ROWID FROM text_urls\")\n",
    "    text_urls=c.fetchall()"
   ]
  },
  {
   "cell_type": "code",
   "execution_count": 153,
   "metadata": {},
   "outputs": [],
   "source": [
    "get_all_pieces(text_urls[0])"
   ]
  },
  {
   "cell_type": "code",
   "execution_count": 154,
   "metadata": {},
   "outputs": [
    {
     "data": {
      "text/plain": [
       "[('?doc=Perseus%3Atext%3A2008.01.0590%3Abook%3D1%3Achapter%3Dpraef', '1'),\n",
       " ('?doc=Perseus%3Atext%3A2008.01.0590%3Abook%3D1%3Achapter%3D1', '1'),\n",
       " ('?doc=Perseus%3Atext%3A2008.01.0590%3Abook%3D1%3Achapter%3D2', '1'),\n",
       " ('?doc=Perseus%3Atext%3A2008.01.0590%3Abook%3D1%3Achapter%3D3', '1'),\n",
       " ('?doc=Perseus%3Atext%3A2008.01.0590%3Abook%3D1%3Achapter%3D4', '1'),\n",
       " ('?doc=Perseus%3Atext%3A2008.01.0590%3Abook%3D1%3Achapter%3D5', '1'),\n",
       " ('?doc=Perseus%3Atext%3A2008.01.0590%3Abook%3D1%3Achapter%3D6', '1'),\n",
       " ('?doc=Perseus%3Atext%3A2008.01.0590%3Abook%3D1%3Achapter%3D7', '1'),\n",
       " ('?doc=Perseus%3Atext%3A2008.01.0590%3Abook%3D1%3Achapter%3D8', '1'),\n",
       " ('?doc=Perseus%3Atext%3A2008.01.0590%3Abook%3D1%3Achapter%3D9', '1'),\n",
       " ('?doc=Perseus%3Atext%3A2008.01.0590%3Abook%3D1%3Achapter%3D10', '1'),\n",
       " ('?doc=Perseus%3Atext%3A2008.01.0590%3Abook%3D1%3Achapter%3D11', '1'),\n",
       " ('?doc=Perseus%3Atext%3A2008.01.0590%3Abook%3D1%3Achapter%3D12', '1'),\n",
       " ('?doc=Perseus%3Atext%3A2008.01.0590%3Abook%3D1%3Achapter%3D13', '1'),\n",
       " ('?doc=Perseus%3Atext%3A2008.01.0590%3Abook%3D1%3Achapter%3D14', '1'),\n",
       " ('?doc=Perseus%3Atext%3A2008.01.0590%3Abook%3D1%3Achapter%3D15', '1'),\n",
       " ('?doc=Perseus%3Atext%3A2008.01.0590%3Abook%3D1%3Achapter%3D16', '1'),\n",
       " ('?doc=Perseus%3Atext%3A2008.01.0590%3Abook%3D1%3Achapter%3D17', '1'),\n",
       " ('?doc=Perseus%3Atext%3A2008.01.0590%3Abook%3D1%3Achapter%3D18', '1'),\n",
       " ('?doc=Perseus%3Atext%3A2008.01.0590%3Abook%3D1%3Achapter%3D19', '1'),\n",
       " ('?doc=Perseus%3Atext%3A2008.01.0590%3Abook%3D1%3Achapter%3D20', '1'),\n",
       " ('?doc=Perseus%3Atext%3A2008.01.0590%3Abook%3D1%3Achapter%3D21', '1'),\n",
       " ('?doc=Perseus%3Atext%3A2008.01.0590%3Abook%3D1%3Achapter%3D22', '1'),\n",
       " ('?doc=Perseus%3Atext%3A2008.01.0590%3Abook%3D1%3Achapter%3D23', '1'),\n",
       " ('?doc=Perseus%3Atext%3A2008.01.0590%3Abook%3D1%3Achapter%3D24', '1'),\n",
       " ('?doc=Perseus%3Atext%3A2008.01.0590%3Abook%3D1%3Achapter%3D25', '1'),\n",
       " ('?doc=Perseus%3Atext%3A2008.01.0590%3Abook%3D1%3Achapter%3D26', '1'),\n",
       " ('?doc=Perseus%3Atext%3A2008.01.0590%3Abook%3D1%3Achapter%3D27', '1'),\n",
       " ('?doc=Perseus%3Atext%3A2008.01.0590%3Abook%3D1%3Achapter%3D28', '1'),\n",
       " ('?doc=Perseus%3Atext%3A2008.01.0590%3Abook%3D1%3Achapter%3D29', '1'),\n",
       " ('?doc=Perseus%3Atext%3A2008.01.0590%3Abook%3D1%3Achapter%3D30', '1'),\n",
       " ('?doc=Perseus%3Atext%3A2008.01.0590%3Abook%3D1%3Achapter%3D31', '1'),\n",
       " ('?doc=Perseus%3Atext%3A2008.01.0590%3Abook%3D1%3Achapter%3D32', '1'),\n",
       " ('?doc=Perseus%3Atext%3A2008.01.0590%3Abook%3D1%3Achapter%3D33', '1'),\n",
       " ('?doc=Perseus%3Atext%3A2008.01.0590%3Abook%3D1%3Achapter%3D34', '1'),\n",
       " ('?doc=Perseus%3Atext%3A2008.01.0590%3Abook%3D1%3Achapter%3D35', '1'),\n",
       " ('?doc=Perseus%3Atext%3A2008.01.0590%3Abook%3D1%3Achapter%3D36', '1'),\n",
       " ('?doc=Perseus%3Atext%3A2008.01.0590%3Abook%3D1%3Achapter%3D37', '1'),\n",
       " ('?doc=Perseus%3Atext%3A2008.01.0590%3Abook%3D1%3Achapter%3D38', '1'),\n",
       " ('?doc=Perseus%3Atext%3A2008.01.0590%3Abook%3D1%3Achapter%3D39', '1'),\n",
       " ('?doc=Perseus%3Atext%3A2008.01.0590%3Abook%3D1%3Achapter%3D40', '1'),\n",
       " ('?doc=Perseus%3Atext%3A2008.01.0590%3Abook%3D1%3Achapter%3D41', '1'),\n",
       " ('?doc=Perseus%3Atext%3A2008.01.0590%3Abook%3D1%3Achapter%3D42', '1'),\n",
       " ('?doc=Perseus%3Atext%3A2008.01.0590%3Abook%3D1%3Achapter%3D43', '1'),\n",
       " ('?doc=Perseus%3Atext%3A2008.01.0590%3Abook%3D1%3Achapter%3D44', '1'),\n",
       " ('?doc=Perseus%3Atext%3A2008.01.0590%3Abook%3D1%3Achapter%3D45', '1'),\n",
       " ('?doc=Perseus%3Atext%3A2008.01.0590%3Abook%3D1%3Achapter%3D46', '1'),\n",
       " ('?doc=Perseus%3Atext%3A2008.01.0590%3Abook%3D1%3Achapter%3D47', '1'),\n",
       " ('?doc=Perseus%3Atext%3A2008.01.0590%3Abook%3D1%3Achapter%3D48', '1'),\n",
       " ('?doc=Perseus%3Atext%3A2008.01.0590%3Abook%3D1%3Achapter%3D49', '1'),\n",
       " ('?doc=Perseus%3Atext%3A2008.01.0590%3Abook%3D1%3Achapter%3D50', '1'),\n",
       " ('?doc=Perseus%3Atext%3A2008.01.0590%3Abook%3D1%3Achapter%3D51', '1'),\n",
       " ('?doc=Perseus%3Atext%3A2008.01.0590%3Abook%3D1%3Achapter%3D52', '1'),\n",
       " ('?doc=Perseus%3Atext%3A2008.01.0590%3Abook%3D1%3Achapter%3D53', '1'),\n",
       " ('?doc=Perseus%3Atext%3A2008.01.0590%3Abook%3D1%3Achapter%3D54', '1'),\n",
       " ('?doc=Perseus%3Atext%3A2008.01.0590%3Abook%3D1%3Achapter%3D55', '1'),\n",
       " ('?doc=Perseus%3Atext%3A2008.01.0590%3Abook%3D1%3Achapter%3D56', '1'),\n",
       " ('?doc=Perseus%3Atext%3A2008.01.0590%3Abook%3D1%3Achapter%3D57', '1'),\n",
       " ('?doc=Perseus%3Atext%3A2008.01.0590%3Abook%3D1%3Achapter%3D58', '1'),\n",
       " ('?doc=Perseus%3Atext%3A2008.01.0590%3Abook%3D1%3Achapter%3D59', '1'),\n",
       " ('?doc=Perseus%3Atext%3A2008.01.0590%3Abook%3D1%3Achapter%3D60', '1'),\n",
       " ('?doc=Perseus%3Atext%3A2008.01.0590%3Abook%3D2%3Achapter%3D1', '1'),\n",
       " ('?doc=Perseus%3Atext%3A2008.01.0590%3Abook%3D2%3Achapter%3D2', '1'),\n",
       " ('?doc=Perseus%3Atext%3A2008.01.0590%3Abook%3D2%3Achapter%3D3', '1'),\n",
       " ('?doc=Perseus%3Atext%3A2008.01.0590%3Abook%3D2%3Achapter%3D4', '1'),\n",
       " ('?doc=Perseus%3Atext%3A2008.01.0590%3Abook%3D2%3Achapter%3D5', '1'),\n",
       " ('?doc=Perseus%3Atext%3A2008.01.0590%3Abook%3D2%3Achapter%3D6', '1'),\n",
       " ('?doc=Perseus%3Atext%3A2008.01.0590%3Abook%3D2%3Achapter%3D7', '1'),\n",
       " ('?doc=Perseus%3Atext%3A2008.01.0590%3Abook%3D2%3Achapter%3D8', '1'),\n",
       " ('?doc=Perseus%3Atext%3A2008.01.0590%3Abook%3D2%3Achapter%3D9', '1'),\n",
       " ('?doc=Perseus%3Atext%3A2008.01.0590%3Abook%3D2%3Achapter%3D10', '1'),\n",
       " ('?doc=Perseus%3Atext%3A2008.01.0590%3Abook%3D2%3Achapter%3D11', '1'),\n",
       " ('?doc=Perseus%3Atext%3A2008.01.0590%3Abook%3D2%3Achapter%3D12', '1'),\n",
       " ('?doc=Perseus%3Atext%3A2008.01.0590%3Abook%3D2%3Achapter%3D13', '1'),\n",
       " ('?doc=Perseus%3Atext%3A2008.01.0590%3Abook%3D2%3Achapter%3D14', '1'),\n",
       " ('?doc=Perseus%3Atext%3A2008.01.0590%3Abook%3D2%3Achapter%3D15', '1'),\n",
       " ('?doc=Perseus%3Atext%3A2008.01.0590%3Abook%3D2%3Achapter%3D16', '1'),\n",
       " ('?doc=Perseus%3Atext%3A2008.01.0590%3Abook%3D2%3Achapter%3D17', '1'),\n",
       " ('?doc=Perseus%3Atext%3A2008.01.0590%3Abook%3D2%3Achapter%3D18', '1'),\n",
       " ('?doc=Perseus%3Atext%3A2008.01.0590%3Abook%3D2%3Achapter%3D19', '1'),\n",
       " ('?doc=Perseus%3Atext%3A2008.01.0590%3Abook%3D2%3Achapter%3D20', '1'),\n",
       " ('?doc=Perseus%3Atext%3A2008.01.0590%3Abook%3D2%3Achapter%3D21', '1'),\n",
       " ('?doc=Perseus%3Atext%3A2008.01.0590%3Abook%3D2%3Achapter%3D22', '1'),\n",
       " ('?doc=Perseus%3Atext%3A2008.01.0590%3Abook%3D2%3Achapter%3D23', '1'),\n",
       " ('?doc=Perseus%3Atext%3A2008.01.0590%3Abook%3D2%3Achapter%3D24', '1'),\n",
       " ('?doc=Perseus%3Atext%3A2008.01.0590%3Abook%3D2%3Achapter%3D25', '1'),\n",
       " ('?doc=Perseus%3Atext%3A2008.01.0590%3Abook%3D2%3Achapter%3D26', '1'),\n",
       " ('?doc=Perseus%3Atext%3A2008.01.0590%3Abook%3D2%3Achapter%3D27', '1'),\n",
       " ('?doc=Perseus%3Atext%3A2008.01.0590%3Abook%3D2%3Achapter%3D28', '1'),\n",
       " ('?doc=Perseus%3Atext%3A2008.01.0590%3Abook%3D2%3Achapter%3D29', '1'),\n",
       " ('?doc=Perseus%3Atext%3A2008.01.0590%3Abook%3D2%3Achapter%3D30', '1'),\n",
       " ('?doc=Perseus%3Atext%3A2008.01.0590%3Abook%3D2%3Achapter%3D31', '1'),\n",
       " ('?doc=Perseus%3Atext%3A2008.01.0590%3Abook%3D2%3Achapter%3D32', '1'),\n",
       " ('?doc=Perseus%3Atext%3A2008.01.0590%3Abook%3D2%3Achapter%3D33', '1'),\n",
       " ('?doc=Perseus%3Atext%3A2008.01.0590%3Abook%3D2%3Achapter%3D34', '1'),\n",
       " ('?doc=Perseus%3Atext%3A2008.01.0590%3Abook%3D2%3Achapter%3D35', '1'),\n",
       " ('?doc=Perseus%3Atext%3A2008.01.0590%3Abook%3D2%3Achapter%3D36', '1'),\n",
       " ('?doc=Perseus%3Atext%3A2008.01.0590%3Abook%3D2%3Achapter%3D37', '1'),\n",
       " ('?doc=Perseus%3Atext%3A2008.01.0590%3Abook%3D2%3Achapter%3D38', '1'),\n",
       " ('?doc=Perseus%3Atext%3A2008.01.0590%3Abook%3D2%3Achapter%3D39', '1'),\n",
       " ('?doc=Perseus%3Atext%3A2008.01.0590%3Abook%3D2%3Achapter%3D40', '1'),\n",
       " ('?doc=Perseus%3Atext%3A2008.01.0590%3Abook%3D2%3Achapter%3D41', '1'),\n",
       " ('?doc=Perseus%3Atext%3A2008.01.0590%3Abook%3D2%3Achapter%3D42', '1'),\n",
       " ('?doc=Perseus%3Atext%3A2008.01.0590%3Abook%3D2%3Achapter%3D43', '1'),\n",
       " ('?doc=Perseus%3Atext%3A2008.01.0590%3Abook%3D2%3Achapter%3D44', '1'),\n",
       " ('?doc=Perseus%3Atext%3A2008.01.0590%3Abook%3D2%3Achapter%3D45', '1'),\n",
       " ('?doc=Perseus%3Atext%3A2008.01.0590%3Abook%3D2%3Achapter%3D46', '1'),\n",
       " ('?doc=Perseus%3Atext%3A2008.01.0590%3Abook%3D2%3Achapter%3D47', '1'),\n",
       " ('?doc=Perseus%3Atext%3A2008.01.0590%3Abook%3D2%3Achapter%3D48', '1'),\n",
       " ('?doc=Perseus%3Atext%3A2008.01.0590%3Abook%3D2%3Achapter%3D49', '1'),\n",
       " ('?doc=Perseus%3Atext%3A2008.01.0590%3Abook%3D2%3Achapter%3D50', '1'),\n",
       " ('?doc=Perseus%3Atext%3A2008.01.0590%3Abook%3D2%3Achapter%3D51', '1'),\n",
       " ('?doc=Perseus%3Atext%3A2008.01.0590%3Abook%3D2%3Achapter%3D52', '1'),\n",
       " ('?doc=Perseus%3Atext%3A2008.01.0590%3Abook%3D2%3Achapter%3D53', '1'),\n",
       " ('?doc=Perseus%3Atext%3A2008.01.0590%3Abook%3D2%3Achapter%3D54', '1'),\n",
       " ('?doc=Perseus%3Atext%3A2008.01.0590%3Abook%3D2%3Achapter%3D55', '1'),\n",
       " ('?doc=Perseus%3Atext%3A2008.01.0590%3Abook%3D2%3Achapter%3D56', '1'),\n",
       " ('?doc=Perseus%3Atext%3A2008.01.0590%3Abook%3D2%3Achapter%3D57', '1'),\n",
       " ('?doc=Perseus%3Atext%3A2008.01.0590%3Abook%3D3%3Achapter%3D1', '1'),\n",
       " ('?doc=Perseus%3Atext%3A2008.01.0590%3Abook%3D3%3Achapter%3D2', '1'),\n",
       " ('?doc=Perseus%3Atext%3A2008.01.0590%3Abook%3D3%3Achapter%3D3', '1'),\n",
       " ('?doc=Perseus%3Atext%3A2008.01.0590%3Abook%3D3%3Achapter%3D4', '1'),\n",
       " ('?doc=Perseus%3Atext%3A2008.01.0590%3Abook%3D3%3Achapter%3D5', '1'),\n",
       " ('?doc=Perseus%3Atext%3A2008.01.0590%3Abook%3D3%3Achapter%3D6', '1'),\n",
       " ('?doc=Perseus%3Atext%3A2008.01.0590%3Abook%3D3%3Achapter%3D7', '1'),\n",
       " ('?doc=Perseus%3Atext%3A2008.01.0590%3Abook%3D3%3Achapter%3D8', '1'),\n",
       " ('?doc=Perseus%3Atext%3A2008.01.0590%3Abook%3D3%3Achapter%3D9', '1'),\n",
       " ('?doc=Perseus%3Atext%3A2008.01.0590%3Abook%3D3%3Achapter%3D10', '1'),\n",
       " ('?doc=Perseus%3Atext%3A2008.01.0590%3Abook%3D3%3Achapter%3D11', '1'),\n",
       " ('?doc=Perseus%3Atext%3A2008.01.0590%3Abook%3D3%3Achapter%3D12', '1'),\n",
       " ('?doc=Perseus%3Atext%3A2008.01.0590%3Abook%3D3%3Achapter%3D13', '1'),\n",
       " ('?doc=Perseus%3Atext%3A2008.01.0590%3Abook%3D3%3Achapter%3D14', '1'),\n",
       " ('?doc=Perseus%3Atext%3A2008.01.0590%3Abook%3D3%3Achapter%3D15', '1'),\n",
       " ('?doc=Perseus%3Atext%3A2008.01.0590%3Abook%3D3%3Achapter%3D16', '1'),\n",
       " ('?doc=Perseus%3Atext%3A2008.01.0590%3Abook%3D3%3Achapter%3D17', '1'),\n",
       " ('?doc=Perseus%3Atext%3A2008.01.0590%3Abook%3D3%3Achapter%3D18', '1'),\n",
       " ('?doc=Perseus%3Atext%3A2008.01.0590%3Abook%3D3%3Achapter%3D19', '1'),\n",
       " ('?doc=Perseus%3Atext%3A2008.01.0590%3Abook%3D3%3Achapter%3D20', '1'),\n",
       " ('?doc=Perseus%3Atext%3A2008.01.0590%3Abook%3D3%3Achapter%3D21', '1'),\n",
       " ('?doc=Perseus%3Atext%3A2008.01.0590%3Abook%3D3%3Achapter%3D22', '1'),\n",
       " ('?doc=Perseus%3Atext%3A2008.01.0590%3Abook%3D3%3Achapter%3D23', '1'),\n",
       " ('?doc=Perseus%3Atext%3A2008.01.0590%3Abook%3D3%3Achapter%3D24', '1'),\n",
       " ('?doc=Perseus%3Atext%3A2008.01.0590%3Abook%3D3%3Achapter%3D25', '1'),\n",
       " ('?doc=Perseus%3Atext%3A2008.01.0590%3Abook%3D3%3Achapter%3D26', '1'),\n",
       " ('?doc=Perseus%3Atext%3A2008.01.0590%3Abook%3D3%3Achapter%3D27', '1'),\n",
       " ('?doc=Perseus%3Atext%3A2008.01.0590%3Abook%3D3%3Achapter%3D28', '1'),\n",
       " ('?doc=Perseus%3Atext%3A2008.01.0590%3Abook%3D3%3Achapter%3D29', '1'),\n",
       " ('?doc=Perseus%3Atext%3A2008.01.0590%3Abook%3D3%3Achapter%3D30', '1'),\n",
       " ('?doc=Perseus%3Atext%3A2008.01.0590%3Abook%3D3%3Achapter%3D31', '1'),\n",
       " ('?doc=Perseus%3Atext%3A2008.01.0590%3Abook%3D3%3Achapter%3D32', '1'),\n",
       " ('?doc=Perseus%3Atext%3A2008.01.0590%3Abook%3D3%3Achapter%3D33', '1'),\n",
       " ('?doc=Perseus%3Atext%3A2008.01.0590%3Abook%3D3%3Achapter%3D34', '1'),\n",
       " ('?doc=Perseus%3Atext%3A2008.01.0590%3Abook%3D3%3Achapter%3D35', '1'),\n",
       " ('?doc=Perseus%3Atext%3A2008.01.0590%3Abook%3D3%3Achapter%3D36', '1'),\n",
       " ('?doc=Perseus%3Atext%3A2008.01.0590%3Abook%3D3%3Achapter%3D37', '1'),\n",
       " ('?doc=Perseus%3Atext%3A2008.01.0590%3Abook%3D3%3Achapter%3D38', '1'),\n",
       " ('?doc=Perseus%3Atext%3A2008.01.0590%3Abook%3D3%3Achapter%3D39', '1'),\n",
       " ('?doc=Perseus%3Atext%3A2008.01.0590%3Abook%3D3%3Achapter%3D40', '1'),\n",
       " ('?doc=Perseus%3Atext%3A2008.01.0590%3Abook%3D3%3Achapter%3D41', '1'),\n",
       " ('?doc=Perseus%3Atext%3A2008.01.0590%3Abook%3D3%3Achapter%3D42', '1'),\n",
       " ('?doc=Perseus%3Atext%3A2008.01.0590%3Abook%3D3%3Achapter%3D43', '1'),\n",
       " ('?doc=Perseus%3Atext%3A2008.01.0590%3Abook%3D3%3Achapter%3D44', '1'),\n",
       " ('?doc=Perseus%3Atext%3A2008.01.0590%3Abook%3D3%3Achapter%3D45', '1'),\n",
       " ('?doc=Perseus%3Atext%3A2008.01.0590%3Abook%3D3%3Achapter%3D46', '1'),\n",
       " ('?doc=Perseus%3Atext%3A2008.01.0590%3Abook%3D3%3Achapter%3D47', '1'),\n",
       " ('?doc=Perseus%3Atext%3A2008.01.0590%3Abook%3D4%3Achapter%3D1', '1'),\n",
       " ('?doc=Perseus%3Atext%3A2008.01.0590%3Abook%3D4%3Achapter%3D2', '1'),\n",
       " ('?doc=Perseus%3Atext%3A2008.01.0590%3Abook%3D4%3Achapter%3D3', '1'),\n",
       " ('?doc=Perseus%3Atext%3A2008.01.0590%3Abook%3D4%3Achapter%3D4', '1'),\n",
       " ('?doc=Perseus%3Atext%3A2008.01.0590%3Abook%3D4%3Achapter%3D5', '1'),\n",
       " ('?doc=Perseus%3Atext%3A2008.01.0590%3Abook%3D4%3Achapter%3D6', '1'),\n",
       " ('?doc=Perseus%3Atext%3A2008.01.0590%3Abook%3D4%3Achapter%3D7', '1'),\n",
       " ('?doc=Perseus%3Atext%3A2008.01.0590%3Abook%3D4%3Achapter%3D8', '1'),\n",
       " ('?doc=Perseus%3Atext%3A2008.01.0590%3Abook%3D4%3Achapter%3D9', '1'),\n",
       " ('?doc=Perseus%3Atext%3A2008.01.0590%3Abook%3D4%3Achapter%3D10', '1'),\n",
       " ('?doc=Perseus%3Atext%3A2008.01.0590%3Abook%3D4%3Achapter%3D11', '1'),\n",
       " ('?doc=Perseus%3Atext%3A2008.01.0590%3Abook%3D4%3Achapter%3D12', '1'),\n",
       " ('?doc=Perseus%3Atext%3A2008.01.0590%3Abook%3D4%3Achapter%3D13', '1'),\n",
       " ('?doc=Perseus%3Atext%3A2008.01.0590%3Abook%3D4%3Achapter%3D14', '1'),\n",
       " ('?doc=Perseus%3Atext%3A2008.01.0590%3Abook%3D4%3Achapter%3D15', '1'),\n",
       " ('?doc=Perseus%3Atext%3A2008.01.0590%3Abook%3D4%3Achapter%3D16', '1'),\n",
       " ('?doc=Perseus%3Atext%3A2008.01.0590%3Abook%3D4%3Achapter%3D17', '1'),\n",
       " ('?doc=Perseus%3Atext%3A2008.01.0590%3Abook%3D4%3Achapter%3D18', '1'),\n",
       " ('?doc=Perseus%3Atext%3A2008.01.0590%3Abook%3D4%3Achapter%3D19', '1'),\n",
       " ('?doc=Perseus%3Atext%3A2008.01.0590%3Abook%3D4%3Achapter%3D20', '1'),\n",
       " ('?doc=Perseus%3Atext%3A2008.01.0590%3Abook%3D4%3Achapter%3D21', '1'),\n",
       " ('?doc=Perseus%3Atext%3A2008.01.0590%3Abook%3D4%3Achapter%3D22', '1'),\n",
       " ('?doc=Perseus%3Atext%3A2008.01.0590%3Abook%3D4%3Achapter%3D23', '1'),\n",
       " ('?doc=Perseus%3Atext%3A2008.01.0590%3Abook%3D4%3Achapter%3D24', '1'),\n",
       " ('?doc=Perseus%3Atext%3A2008.01.0590%3Abook%3D4%3Achapter%3D25', '1'),\n",
       " ('?doc=Perseus%3Atext%3A2008.01.0590%3Abook%3D4%3Achapter%3D26', '1'),\n",
       " ('?doc=Perseus%3Atext%3A2008.01.0590%3Abook%3D4%3Achapter%3D27', '1'),\n",
       " ('?doc=Perseus%3Atext%3A2008.01.0590%3Abook%3D4%3Achapter%3D28', '1'),\n",
       " ('?doc=Perseus%3Atext%3A2008.01.0590%3Abook%3D4%3Achapter%3D29', '1'),\n",
       " ('?doc=Perseus%3Atext%3A2008.01.0590%3Abook%3D4%3Achapter%3D30', '1'),\n",
       " ('?doc=Perseus%3Atext%3A2008.01.0590%3Abook%3D4%3Achapter%3D31', '1'),\n",
       " ('?doc=Perseus%3Atext%3A2008.01.0590%3Abook%3D4%3Achapter%3D32', '1'),\n",
       " ('?doc=Perseus%3Atext%3A2008.01.0590%3Abook%3D4%3Achapter%3D33', '1'),\n",
       " ('?doc=Perseus%3Atext%3A2008.01.0590%3Abook%3D4%3Achapter%3D34', '1'),\n",
       " ('?doc=Perseus%3Atext%3A2008.01.0590%3Abook%3D4%3Achapter%3D35', '1'),\n",
       " ('?doc=Perseus%3Atext%3A2008.01.0590%3Abook%3D4%3Achapter%3D36', '1'),\n",
       " ('?doc=Perseus%3Atext%3A2008.01.0590%3Abook%3D4%3Achapter%3D37', '1'),\n",
       " ('?doc=Perseus%3Atext%3A2008.01.0590%3Abook%3D4%3Achapter%3D38', '1'),\n",
       " ('?doc=Perseus%3Atext%3A2008.01.0590%3Abook%3D4%3Achapter%3D39', '1'),\n",
       " ('?doc=Perseus%3Atext%3A2008.01.0590%3Abook%3D4%3Achapter%3D40', '1'),\n",
       " ('?doc=Perseus%3Atext%3A2008.01.0590%3Abook%3D4%3Achapter%3D41', '1'),\n",
       " ('?doc=Perseus%3Atext%3A2008.01.0590%3Abook%3D4%3Achapter%3D42', '1'),\n",
       " ('?doc=Perseus%3Atext%3A2008.01.0590%3Abook%3D4%3Achapter%3D43', '1'),\n",
       " ('?doc=Perseus%3Atext%3A2008.01.0590%3Abook%3D4%3Achapter%3D44', '1'),\n",
       " ('?doc=Perseus%3Atext%3A2008.01.0590%3Abook%3D4%3Achapter%3D45', '1'),\n",
       " ('?doc=Perseus%3Atext%3A2008.01.0590%3Abook%3D4%3Achapter%3D46', '1'),\n",
       " ('?doc=Perseus%3Atext%3A2008.01.0590%3Abook%3D4%3Achapter%3D47', '1'),\n",
       " ('?doc=Perseus%3Atext%3A2008.01.0590%3Abook%3D4%3Achapter%3D48', '1'),\n",
       " ('?doc=Perseus%3Atext%3A2008.01.0590%3Abook%3D4%3Achapter%3D49', '1'),\n",
       " ('?doc=Perseus%3Atext%3A2008.01.0590%3Abook%3D4%3Achapter%3D50', '1'),\n",
       " ('?doc=Perseus%3Atext%3A2008.01.0590%3Abook%3D4%3Achapter%3D51', '1'),\n",
       " ('?doc=Perseus%3Atext%3A2008.01.0590%3Abook%3D4%3Achapter%3D52', '1'),\n",
       " ('?doc=Perseus%3Atext%3A2008.01.0590%3Abook%3D4%3Achapter%3D53', '1'),\n",
       " ('?doc=Perseus%3Atext%3A2008.01.0590%3Abook%3D4%3Achapter%3D54', '1'),\n",
       " ('?doc=Perseus%3Atext%3A2008.01.0590%3Abook%3D4%3Achapter%3D55', '1'),\n",
       " ('?doc=Perseus%3Atext%3A2008.01.0590%3Abook%3D4%3Achapter%3D56', '1'),\n",
       " ('?doc=Perseus%3Atext%3A2008.01.0590%3Abook%3D4%3Achapter%3D57', '1'),\n",
       " ('?doc=Perseus%3Atext%3A2008.01.0590%3Abook%3D4%3Achapter%3D58', '1'),\n",
       " ('?doc=Perseus%3Atext%3A2008.01.0590%3Abook%3D4%3Achapter%3D59', '1'),\n",
       " ('?doc=Perseus%3Atext%3A2008.01.0590%3Abook%3D4%3Achapter%3D60', '1'),\n",
       " ('?doc=Perseus%3Atext%3A2008.01.0590%3Abook%3D5%3Achapter%3D1', '1'),\n",
       " ('?doc=Perseus%3Atext%3A2008.01.0590%3Abook%3D5%3Achapter%3D2', '1'),\n",
       " ('?doc=Perseus%3Atext%3A2008.01.0590%3Abook%3D5%3Achapter%3D3', '1'),\n",
       " ('?doc=Perseus%3Atext%3A2008.01.0590%3Abook%3D5%3Achapter%3D4', '1'),\n",
       " ('?doc=Perseus%3Atext%3A2008.01.0590%3Abook%3D5%3Achapter%3D5', '1'),\n",
       " ('?doc=Perseus%3Atext%3A2008.01.0590%3Abook%3D5%3Achapter%3D6', '1'),\n",
       " ('?doc=Perseus%3Atext%3A2008.01.0590%3Abook%3D5%3Achapter%3D7', '1'),\n",
       " ('?doc=Perseus%3Atext%3A2008.01.0590%3Abook%3D5%3Achapter%3D8', '1'),\n",
       " ('?doc=Perseus%3Atext%3A2008.01.0590%3Abook%3D5%3Achapter%3D9', '1'),\n",
       " ('?doc=Perseus%3Atext%3A2008.01.0590%3Abook%3D5%3Achapter%3D10', '1'),\n",
       " ('?doc=Perseus%3Atext%3A2008.01.0590%3Abook%3D5%3Achapter%3D11', '1'),\n",
       " ('?doc=Perseus%3Atext%3A2008.01.0590%3Abook%3D5%3Achapter%3D12', '1'),\n",
       " ('?doc=Perseus%3Atext%3A2008.01.0590%3Abook%3D5%3Achapter%3D13', '1'),\n",
       " ('?doc=Perseus%3Atext%3A2008.01.0590%3Abook%3D5%3Achapter%3D14', '1'),\n",
       " ('?doc=Perseus%3Atext%3A2008.01.0590%3Abook%3D5%3Achapter%3D15', '1'),\n",
       " ('?doc=Perseus%3Atext%3A2008.01.0590%3Abook%3D5%3Achapter%3D16', '1'),\n",
       " ('?doc=Perseus%3Atext%3A2008.01.0590%3Abook%3D5%3Achapter%3D17', '1'),\n",
       " ('?doc=Perseus%3Atext%3A2008.01.0590%3Abook%3D5%3Achapter%3D18', '1'),\n",
       " ('?doc=Perseus%3Atext%3A2008.01.0590%3Abook%3D5%3Achapter%3D19', '1'),\n",
       " ('?doc=Perseus%3Atext%3A2008.01.0590%3Abook%3D5%3Achapter%3D20', '1'),\n",
       " ('?doc=Perseus%3Atext%3A2008.01.0590%3Abook%3D5%3Achapter%3D21', '1'),\n",
       " ('?doc=Perseus%3Atext%3A2008.01.0590%3Abook%3D5%3Achapter%3D22', '1'),\n",
       " ('?doc=Perseus%3Atext%3A2008.01.0590%3Abook%3D5%3Achapter%3D23', '1'),\n",
       " ('?doc=Perseus%3Atext%3A2008.01.0590%3Abook%3D5%3Achapter%3D24', '1'),\n",
       " ('?doc=Perseus%3Atext%3A2008.01.0590%3Abook%3D5%3Achapter%3D25', '1'),\n",
       " ('?doc=Perseus%3Atext%3A2008.01.0590%3Abook%3D5%3Achapter%3D26', '1'),\n",
       " ('?doc=Perseus%3Atext%3A2008.01.0590%3Abook%3D5%3Achapter%3D27', '1'),\n",
       " ('?doc=Perseus%3Atext%3A2008.01.0590%3Abook%3D5%3Achapter%3D28', '1'),\n",
       " ('?doc=Perseus%3Atext%3A2008.01.0590%3Abook%3D5%3Achapter%3D29', '1'),\n",
       " ('?doc=Perseus%3Atext%3A2008.01.0590%3Abook%3D5%3Achapter%3D30', '1'),\n",
       " ('?doc=Perseus%3Atext%3A2008.01.0590%3Abook%3D5%3Achapter%3D31', '1'),\n",
       " ('?doc=Perseus%3Atext%3A2008.01.0590%3Abook%3D5%3Achapter%3D32', '1'),\n",
       " ('?doc=Perseus%3Atext%3A2008.01.0590%3Abook%3D5%3Achapter%3D33', '1'),\n",
       " ('?doc=Perseus%3Atext%3A2008.01.0590%3Abook%3D5%3Achapter%3D34', '1'),\n",
       " ('?doc=Perseus%3Atext%3A2008.01.0590%3Abook%3D5%3Achapter%3D35', '1'),\n",
       " ('?doc=Perseus%3Atext%3A2008.01.0590%3Abook%3D5%3Achapter%3D36', '1'),\n",
       " ('?doc=Perseus%3Atext%3A2008.01.0590%3Abook%3D5%3Achapter%3D37', '1'),\n",
       " ('?doc=Perseus%3Atext%3A2008.01.0590%3Abook%3D5%3Achapter%3D38', '1'),\n",
       " ('?doc=Perseus%3Atext%3A2008.01.0590%3Abook%3D5%3Achapter%3D39', '1'),\n",
       " ('?doc=Perseus%3Atext%3A2008.01.0590%3Abook%3D5%3Achapter%3D40', '1'),\n",
       " ('?doc=Perseus%3Atext%3A2008.01.0590%3Abook%3D5%3Achapter%3D41', '1'),\n",
       " ('?doc=Perseus%3Atext%3A2008.01.0590%3Abook%3D5%3Achapter%3D42', '1'),\n",
       " ('?doc=Perseus%3Atext%3A2008.01.0590%3Abook%3D5%3Achapter%3D43', '1'),\n",
       " ('?doc=Perseus%3Atext%3A2008.01.0590%3Abook%3D5%3Achapter%3D44', '1'),\n",
       " ('?doc=Perseus%3Atext%3A2008.01.0590%3Abook%3D5%3Achapter%3D45', '1'),\n",
       " ('?doc=Perseus%3Atext%3A2008.01.0590%3Abook%3D5%3Achapter%3D46', '1'),\n",
       " ('?doc=Perseus%3Atext%3A2008.01.0590%3Abook%3D5%3Achapter%3D47', '1'),\n",
       " ('?doc=Perseus%3Atext%3A2008.01.0590%3Abook%3D5%3Achapter%3D48', '1'),\n",
       " ('?doc=Perseus%3Atext%3A2008.01.0590%3Abook%3D5%3Achapter%3D49', '1'),\n",
       " ('?doc=Perseus%3Atext%3A2008.01.0590%3Abook%3D5%3Achapter%3D50', '1'),\n",
       " ('?doc=Perseus%3Atext%3A2008.01.0590%3Abook%3D5%3Achapter%3D51', '1'),\n",
       " ('?doc=Perseus%3Atext%3A2008.01.0590%3Abook%3D5%3Achapter%3D52', '1'),\n",
       " ('?doc=Perseus%3Atext%3A2008.01.0590%3Abook%3D5%3Achapter%3D53', '1'),\n",
       " ('?doc=Perseus%3Atext%3A2008.01.0590%3Abook%3D5%3Achapter%3D54', '1'),\n",
       " ('?doc=Perseus%3Atext%3A2008.01.0590%3Abook%3D5%3Achapter%3D55', '1'),\n",
       " ('?doc=Perseus%3Atext%3A2008.01.0590%3Abook%3D5%3Achapter%3D56', '1'),\n",
       " ('?doc=Perseus%3Atext%3A2008.01.0590%3Abook%3D6%3Achapter%3D1', '1'),\n",
       " ('?doc=Perseus%3Atext%3A2008.01.0590%3Abook%3D6%3Achapter%3D2', '1'),\n",
       " ('?doc=Perseus%3Atext%3A2008.01.0590%3Abook%3D6%3Achapter%3D3', '1'),\n",
       " ('?doc=Perseus%3Atext%3A2008.01.0590%3Abook%3D6%3Achapter%3D4', '1'),\n",
       " ('?doc=Perseus%3Atext%3A2008.01.0590%3Abook%3D6%3Achapter%3D5', '1'),\n",
       " ('?doc=Perseus%3Atext%3A2008.01.0590%3Abook%3D6%3Achapter%3D6', '1'),\n",
       " ('?doc=Perseus%3Atext%3A2008.01.0590%3Abook%3D6%3Achapter%3D7', '1'),\n",
       " ('?doc=Perseus%3Atext%3A2008.01.0590%3Abook%3D6%3Achapter%3D8', '1'),\n",
       " ('?doc=Perseus%3Atext%3A2008.01.0590%3Abook%3D6%3Achapter%3D9', '1'),\n",
       " ('?doc=Perseus%3Atext%3A2008.01.0590%3Abook%3D6%3Achapter%3D10', '1'),\n",
       " ('?doc=Perseus%3Atext%3A2008.01.0590%3Abook%3D6%3Achapter%3D11', '1'),\n",
       " ('?doc=Perseus%3Atext%3A2008.01.0590%3Abook%3D6%3Achapter%3D12', '1'),\n",
       " ('?doc=Perseus%3Atext%3A2008.01.0590%3Abook%3D6%3Achapter%3D13', '1'),\n",
       " ('?doc=Perseus%3Atext%3A2008.01.0590%3Abook%3D6%3Achapter%3D14', '1'),\n",
       " ('?doc=Perseus%3Atext%3A2008.01.0590%3Abook%3D6%3Achapter%3D15', '1'),\n",
       " ('?doc=Perseus%3Atext%3A2008.01.0590%3Abook%3D6%3Achapter%3D16', '1'),\n",
       " ('?doc=Perseus%3Atext%3A2008.01.0590%3Abook%3D6%3Achapter%3D17', '1'),\n",
       " ('?doc=Perseus%3Atext%3A2008.01.0590%3Abook%3D6%3Achapter%3D18', '1'),\n",
       " ('?doc=Perseus%3Atext%3A2008.01.0590%3Abook%3D6%3Achapter%3D19', '1'),\n",
       " ('?doc=Perseus%3Atext%3A2008.01.0590%3Abook%3D6%3Achapter%3D20', '1'),\n",
       " ('?doc=Perseus%3Atext%3A2008.01.0590%3Abook%3D6%3Achapter%3D21', '1'),\n",
       " ('?doc=Perseus%3Atext%3A2008.01.0590%3Abook%3D6%3Achapter%3D22', '1'),\n",
       " ('?doc=Perseus%3Atext%3A2008.01.0590%3Abook%3D6%3Achapter%3D23', '1'),\n",
       " ('?doc=Perseus%3Atext%3A2008.01.0590%3Abook%3D6%3Achapter%3D24', '1'),\n",
       " ('?doc=Perseus%3Atext%3A2008.01.0590%3Abook%3D6%3Achapter%3D25', '1'),\n",
       " ('?doc=Perseus%3Atext%3A2008.01.0590%3Abook%3D6%3Achapter%3D26', '1'),\n",
       " ('?doc=Perseus%3Atext%3A2008.01.0590%3Abook%3D6%3Achapter%3D27', '1'),\n",
       " ('?doc=Perseus%3Atext%3A2008.01.0590%3Abook%3D6%3Achapter%3D28', '1'),\n",
       " ('?doc=Perseus%3Atext%3A2008.01.0590%3Abook%3D6%3Achapter%3D29', '1'),\n",
       " ('?doc=Perseus%3Atext%3A2008.01.0590%3Abook%3D6%3Achapter%3D30', '1'),\n",
       " ('?doc=Perseus%3Atext%3A2008.01.0590%3Abook%3D6%3Achapter%3D31', '1'),\n",
       " ('?doc=Perseus%3Atext%3A2008.01.0590%3Abook%3D6%3Achapter%3D32', '1'),\n",
       " ('?doc=Perseus%3Atext%3A2008.01.0590%3Abook%3D6%3Achapter%3D33', '1'),\n",
       " ('?doc=Perseus%3Atext%3A2008.01.0590%3Abook%3D6%3Achapter%3D34', '1'),\n",
       " ('?doc=Perseus%3Atext%3A2008.01.0590%3Abook%3D6%3Achapter%3D35', '1'),\n",
       " ('?doc=Perseus%3Atext%3A2008.01.0590%3Abook%3D6%3Achapter%3D36', '1'),\n",
       " ('?doc=Perseus%3Atext%3A2008.01.0590%3Abook%3D6%3Achapter%3D37', '1'),\n",
       " ('?doc=Perseus%3Atext%3A2008.01.0590%3Abook%3D6%3Achapter%3D38', '1'),\n",
       " ('?doc=Perseus%3Atext%3A2008.01.0590%3Abook%3D6%3Achapter%3D39', '1'),\n",
       " ('?doc=Perseus%3Atext%3A2008.01.0590%3Abook%3D6%3Achapter%3D40', '1'),\n",
       " ('?doc=Perseus%3Atext%3A2008.01.0590%3Abook%3D6%3Achapter%3D41', '1'),\n",
       " ('?doc=Perseus%3Atext%3A2008.01.0590%3Abook%3D6%3Achapter%3D42', '1'),\n",
       " ('?doc=Perseus%3Atext%3A2008.01.0590%3Abook%3D6%3Achapter%3D43', '1'),\n",
       " ('?doc=Perseus%3Atext%3A2008.01.0590%3Abook%3D6%3Achapter%3D44', '1'),\n",
       " ('?doc=Perseus%3Atext%3A2008.01.0590%3Abook%3D6%3Achapter%3D45', '1'),\n",
       " ('?doc=Perseus%3Atext%3A2008.01.0590%3Abook%3D6%3Achapter%3D46', '1'),\n",
       " ('?doc=Perseus%3Atext%3A2008.01.0590%3Abook%3D6%3Achapter%3D47', '1'),\n",
       " ('?doc=Perseus%3Atext%3A2008.01.0590%3Abook%3D6%3Achapter%3D48', '1'),\n",
       " ('?doc=Perseus%3Atext%3A2008.01.0590%3Abook%3D6%3Achapter%3D49', '1'),\n",
       " ('?doc=Perseus%3Atext%3A2008.01.0590%3Abook%3D6%3Achapter%3D50', '1'),\n",
       " ('?doc=Perseus%3Atext%3A2008.01.0590%3Abook%3D6%3Achapter%3D51', '1'),\n",
       " ('?doc=Perseus%3Atext%3A2008.01.0590%3Abook%3D6%3Achapter%3D52', '1'),\n",
       " ('?doc=Perseus%3Atext%3A2008.01.0590%3Abook%3D6%3Achapter%3D53', '1'),\n",
       " ('?doc=Perseus%3Atext%3A2008.01.0590%3Abook%3D6%3Achapter%3D54', '1'),\n",
       " ('?doc=Perseus%3Atext%3A2008.01.0590%3Abook%3D6%3Achapter%3D55', '1'),\n",
       " ('?doc=Perseus%3Atext%3A2008.01.0590%3Abook%3D6%3Achapter%3D56', '1'),\n",
       " ('?doc=Perseus%3Atext%3A2008.01.0590%3Abook%3D6%3Achapter%3D57', '1'),\n",
       " ('?doc=Perseus%3Atext%3A2008.01.0590%3Abook%3D6%3Achapter%3D58', '1'),\n",
       " ('?doc=Perseus%3Atext%3A2008.01.0590%3Abook%3D6%3Achapter%3D59', '1'),\n",
       " ('?doc=Perseus%3Atext%3A2008.01.0590%3Abook%3D6%3Achapter%3D60', '1'),\n",
       " ('?doc=Perseus%3Atext%3A2008.01.0590%3Abook%3D6%3Achapter%3D61', '1'),\n",
       " ('?doc=Perseus%3Atext%3A2008.01.0590%3Abook%3D6%3Achapter%3D62', '1'),\n",
       " ('?doc=Perseus%3Atext%3A2008.01.0590%3Abook%3D6%3Achapter%3D63', '1'),\n",
       " ('?doc=Perseus%3Atext%3A2008.01.0590%3Abook%3D6%3Achapter%3D64', '1'),\n",
       " ('?doc=Perseus%3Atext%3A2008.01.0590%3Abook%3D6%3Achapter%3D65', '1'),\n",
       " ('?doc=Perseus%3Atext%3A2008.01.0590%3Abook%3D7%3Achapter%3D1', '1'),\n",
       " ('?doc=Perseus%3Atext%3A2008.01.0590%3Abook%3D7%3Achapter%3D2', '1'),\n",
       " ('?doc=Perseus%3Atext%3A2008.01.0590%3Abook%3D7%3Achapter%3D3', '1'),\n",
       " ('?doc=Perseus%3Atext%3A2008.01.0590%3Abook%3D7%3Achapter%3D4', '1'),\n",
       " ('?doc=Perseus%3Atext%3A2008.01.0590%3Abook%3D7%3Achapter%3D5', '1'),\n",
       " ('?doc=Perseus%3Atext%3A2008.01.0590%3Abook%3D7%3Achapter%3D6', '1'),\n",
       " ('?doc=Perseus%3Atext%3A2008.01.0590%3Abook%3D7%3Achapter%3D7', '1'),\n",
       " ('?doc=Perseus%3Atext%3A2008.01.0590%3Abook%3D7%3Achapter%3D8', '1'),\n",
       " ('?doc=Perseus%3Atext%3A2008.01.0590%3Abook%3D7%3Achapter%3D9', '1'),\n",
       " ('?doc=Perseus%3Atext%3A2008.01.0590%3Abook%3D7%3Achapter%3D10', '1'),\n",
       " ('?doc=Perseus%3Atext%3A2008.01.0590%3Abook%3D7%3Achapter%3D11', '1'),\n",
       " ('?doc=Perseus%3Atext%3A2008.01.0590%3Abook%3D7%3Achapter%3D12', '1'),\n",
       " ('?doc=Perseus%3Atext%3A2008.01.0590%3Abook%3D7%3Achapter%3D13', '1'),\n",
       " ('?doc=Perseus%3Atext%3A2008.01.0590%3Abook%3D7%3Achapter%3D14', '1'),\n",
       " ('?doc=Perseus%3Atext%3A2008.01.0590%3Abook%3D7%3Achapter%3D15', '1'),\n",
       " ('?doc=Perseus%3Atext%3A2008.01.0590%3Abook%3D7%3Achapter%3D16', '1'),\n",
       " ('?doc=Perseus%3Atext%3A2008.01.0590%3Abook%3D7%3Achapter%3D17', '1'),\n",
       " ('?doc=Perseus%3Atext%3A2008.01.0590%3Abook%3D7%3Achapter%3D18', '1'),\n",
       " ('?doc=Perseus%3Atext%3A2008.01.0590%3Abook%3D7%3Achapter%3D19', '1'),\n",
       " ('?doc=Perseus%3Atext%3A2008.01.0590%3Abook%3D7%3Achapter%3D20', '1'),\n",
       " ('?doc=Perseus%3Atext%3A2008.01.0590%3Abook%3D7%3Achapter%3D21', '1'),\n",
       " ('?doc=Perseus%3Atext%3A2008.01.0590%3Abook%3D7%3Achapter%3D22', '1'),\n",
       " ('?doc=Perseus%3Atext%3A2008.01.0590%3Abook%3D7%3Achapter%3D23', '1'),\n",
       " ('?doc=Perseus%3Atext%3A2008.01.0590%3Abook%3D7%3Achapter%3D24', '1'),\n",
       " ('?doc=Perseus%3Atext%3A2008.01.0590%3Abook%3D7%3Achapter%3D25', '1'),\n",
       " ('?doc=Perseus%3Atext%3A2008.01.0590%3Abook%3D7%3Achapter%3D26', '1'),\n",
       " ('?doc=Perseus%3Atext%3A2008.01.0590%3Abook%3D7%3Achapter%3D27', '1'),\n",
       " ('?doc=Perseus%3Atext%3A2008.01.0590%3Abook%3D7%3Achapter%3D28', '1'),\n",
       " ('?doc=Perseus%3Atext%3A2008.01.0590%3Abook%3D7%3Achapter%3D29', '1'),\n",
       " ('?doc=Perseus%3Atext%3A2008.01.0590%3Abook%3D7%3Achapter%3D30', '1'),\n",
       " ('?doc=Perseus%3Atext%3A2008.01.0590%3Abook%3D7%3Achapter%3D31', '1'),\n",
       " ('?doc=Perseus%3Atext%3A2008.01.0590%3Abook%3D7%3Achapter%3D32', '1'),\n",
       " ('?doc=Perseus%3Atext%3A2008.01.0590%3Abook%3D7%3Achapter%3D33', '1'),\n",
       " ('?doc=Perseus%3Atext%3A2008.01.0590%3Abook%3D7%3Achapter%3D34', '1'),\n",
       " ('?doc=Perseus%3Atext%3A2008.01.0590%3Abook%3D7%3Achapter%3D35', '1'),\n",
       " ('?doc=Perseus%3Atext%3A2008.01.0590%3Abook%3D7%3Achapter%3D36', '1'),\n",
       " ('?doc=Perseus%3Atext%3A2008.01.0590%3Abook%3D7%3Achapter%3D37', '1'),\n",
       " ('?doc=Perseus%3Atext%3A2008.01.0590%3Abook%3D7%3Achapter%3D38', '1'),\n",
       " ('?doc=Perseus%3Atext%3A2008.01.0590%3Abook%3D7%3Achapter%3D39', '1'),\n",
       " ('?doc=Perseus%3Atext%3A2008.01.0590%3Abook%3D7%3Achapter%3D40', '1'),\n",
       " ('?doc=Perseus%3Atext%3A2008.01.0590%3Abook%3D7%3Achapter%3D41', '1'),\n",
       " ('?doc=Perseus%3Atext%3A2008.01.0590%3Abook%3D7%3Achapter%3D42', '1'),\n",
       " ('?doc=Perseus%3Atext%3A2008.01.0590%3Abook%3D7%3Achapter%3D43', '1'),\n",
       " ('?doc=Perseus%3Atext%3A2008.01.0590%3Abook%3D7%3Achapter%3D44', '1'),\n",
       " ('?doc=Perseus%3Atext%3A2008.01.0590%3Abook%3D7%3Achapter%3D45', '1'),\n",
       " ('?doc=Perseus%3Atext%3A2008.01.0590%3Abook%3D7%3Achapter%3D46', '1'),\n",
       " ('?doc=Perseus%3Atext%3A2008.01.0590%3Abook%3D7%3Achapter%3D47', '1'),\n",
       " ('?doc=Perseus%3Atext%3A2008.01.0590%3Abook%3D7%3Achapter%3D48', '1'),\n",
       " ('?doc=Perseus%3Atext%3A2008.01.0590%3Abook%3D9%3Achapter%3D1', '1'),\n",
       " ('?doc=Perseus%3Atext%3A2008.01.0590%3Abook%3D9%3Achapter%3D2', '1'),\n",
       " ('?doc=Perseus%3Atext%3A2008.01.0590%3Abook%3D9%3Achapter%3D3', '1'),\n",
       " ('?doc=Perseus%3Atext%3A2008.01.0590%3Abook%3D9%3Achapter%3D4', '1'),\n",
       " ('?doc=Perseus%3Atext%3A2008.01.0590%3Abook%3D9%3Achapter%3D5', '1'),\n",
       " ('?doc=Perseus%3Atext%3A2008.01.0590%3Abook%3D9%3Achapter%3D6', '1'),\n",
       " ('?doc=Perseus%3Atext%3A2008.01.0590%3Abook%3D9%3Achapter%3D7', '1'),\n",
       " ('?doc=Perseus%3Atext%3A2008.01.0590%3Abook%3D9%3Achapter%3D8', '1'),\n",
       " ('?doc=Perseus%3Atext%3A2008.01.0590%3Abook%3D9%3Achapter%3D9', '1'),\n",
       " ('?doc=Perseus%3Atext%3A2008.01.0590%3Abook%3D9%3Achapter%3D10', '1'),\n",
       " ('?doc=Perseus%3Atext%3A2008.01.0590%3Abook%3D9%3Achapter%3D11', '1'),\n",
       " ('?doc=Perseus%3Atext%3A2008.01.0590%3Abook%3D9%3Achapter%3D12', '1'),\n",
       " ('?doc=Perseus%3Atext%3A2008.01.0590%3Abook%3D9%3Achapter%3D13', '1'),\n",
       " ('?doc=Perseus%3Atext%3A2008.01.0590%3Abook%3D9%3Achapter%3D14', '1'),\n",
       " ('?doc=Perseus%3Atext%3A2008.01.0590%3Abook%3D9%3Achapter%3D15', '1'),\n",
       " ('?doc=Perseus%3Atext%3A2008.01.0590%3Abook%3D9%3Achapter%3D16', '1'),\n",
       " ('?doc=Perseus%3Atext%3A2008.01.0590%3Abook%3D9%3Achapter%3D17', '1'),\n",
       " ('?doc=Perseus%3Atext%3A2008.01.0590%3Abook%3D9%3Achapter%3D18', '1'),\n",
       " ('?doc=Perseus%3Atext%3A2008.01.0590%3Abook%3D9%3Achapter%3D19', '1'),\n",
       " ('?doc=Perseus%3Atext%3A2008.01.0590%3Abook%3D9%3Achapter%3D20', '1'),\n",
       " ('?doc=Perseus%3Atext%3A2008.01.0590%3Abook%3D9%3Achapter%3D21', '1'),\n",
       " ('?doc=Perseus%3Atext%3A2008.01.0590%3Abook%3D9%3Achapter%3D22', '1'),\n",
       " ('?doc=Perseus%3Atext%3A2008.01.0590%3Abook%3D9%3Achapter%3D23', '1'),\n",
       " ('?doc=Perseus%3Atext%3A2008.01.0590%3Abook%3D9%3Achapter%3D24', '1'),\n",
       " ('?doc=Perseus%3Atext%3A2008.01.0590%3Abook%3D9%3Achapter%3D25', '1'),\n",
       " ('?doc=Perseus%3Atext%3A2008.01.0590%3Abook%3D9%3Achapter%3D26', '1'),\n",
       " ('?doc=Perseus%3Atext%3A2008.01.0590%3Abook%3D9%3Achapter%3D27', '1'),\n",
       " ('?doc=Perseus%3Atext%3A2008.01.0590%3Abook%3D9%3Achapter%3D28', '1'),\n",
       " ('?doc=Perseus%3Atext%3A2008.01.0590%3Abook%3D9%3Achapter%3Dpos%3D423', '1'),\n",
       " ('?doc=Perseus%3Atext%3A2008.01.0590%3Abook%3D9%3Achapter%3Dpos%3D424', '1'),\n",
       " ('?doc=Perseus%3Atext%3A2008.01.0590%3Abook%3D9%3Achapter%3Dpos%3D425', '1'),\n",
       " ('?doc=Perseus%3Atext%3A2008.01.0590%3Abook%3D9%3Achapter%3Dpos%3D426', '1'),\n",
       " ('?doc=Perseus%3Atext%3A2008.01.0590%3Abook%3D9%3Achapter%3Dpos%3D427', '1'),\n",
       " ('?doc=Perseus%3Atext%3A2008.01.0590%3Abook%3D9%3Achapter%3Dpos%3D428', '1'),\n",
       " ('?doc=Perseus%3Atext%3A2008.01.0590%3Abook%3D9%3Achapter%3Dpos%3D429', '1'),\n",
       " ('?doc=Perseus%3Atext%3A2008.01.0590%3Abook%3D9%3Achapter%3Dpos%3D430', '1'),\n",
       " ('?doc=Perseus%3Atext%3A2008.01.0590%3Abook%3D9%3Achapter%3Dpos%3D431', '1'),\n",
       " ('?doc=Perseus%3Atext%3A2008.01.0590%3Abook%3D9%3Achapter%3Dpos%3D432', '1'),\n",
       " ('?doc=Perseus%3Atext%3A2008.01.0590%3Abook%3D9%3Achapter%3Dpos%3D433', '1'),\n",
       " ('?doc=Perseus%3Atext%3A2008.01.0590%3Abook%3D9%3Achapter%3Dpos%3D434', '1'),\n",
       " ('?doc=Perseus%3Atext%3A2008.01.0590%3Abook%3D9%3Achapter%3Dpos%3D435', '1'),\n",
       " ('?doc=Perseus%3Atext%3A2008.01.0590%3Abook%3D9%3Achapter%3Dpos%3D436', '1'),\n",
       " ('?doc=Perseus%3Atext%3A2008.01.0590%3Abook%3D9%3Achapter%3Dpos%3D437', '1'),\n",
       " ('?doc=Perseus%3Atext%3A2008.01.0590%3Abook%3D9%3Achapter%3Dpos%3D438', '1'),\n",
       " ('?doc=Perseus%3Atext%3A2008.01.0590%3Abook%3D9%3Achapter%3Dpos%3D439', '1'),\n",
       " ('?doc=Perseus%3Atext%3A2008.01.0590%3Abook%3D9%3Achapter%3Dpos%3D440', '1'),\n",
       " ('?doc=Perseus%3Atext%3A2008.01.0590%3Abook%3D9%3Achapter%3Dpos%3D441', '1'),\n",
       " ('?doc=Perseus%3Atext%3A2008.01.0590%3Abook%3D9%3Achapter%3Dpos%3D442', '1'),\n",
       " ('?doc=Perseus%3Atext%3A2008.01.0590%3Abook%3D9%3Achapter%3Dpos%3D443', '1'),\n",
       " ('?doc=Perseus%3Atext%3A2008.01.0590%3Abook%3D9%3Achapter%3Dpos%3D444', '1'),\n",
       " ('?doc=Perseus%3Atext%3A2008.01.0590%3Abook%3D9%3Achapter%3Dpos%3D445', '1'),\n",
       " ('?doc=Perseus%3Atext%3A2008.01.0590%3Abook%3D9%3Achapter%3Dpos%3D446', '1'),\n",
       " ('?doc=Perseus%3Atext%3A2008.01.0590%3Abook%3D9%3Achapter%3Dpos%3D447', '1'),\n",
       " ('?doc=Perseus%3Atext%3A2008.01.0590%3Abook%3D9%3Achapter%3Dpos%3D448', '1'),\n",
       " ('?doc=Perseus%3Atext%3A2008.01.0590%3Abook%3D9%3Achapter%3Dpos%3D449', '1'),\n",
       " ('?doc=Perseus%3Atext%3A2008.01.0590%3Abook%3D9%3Achapter%3Dpos%3D450', '1'),\n",
       " ('?doc=Perseus%3Atext%3A2008.01.0590%3Abook%3D9%3Achapter%3D29', '1'),\n",
       " ('?doc=Perseus%3Atext%3A2008.01.0590%3Abook%3D9%3Achapter%3D30', '1'),\n",
       " ('?doc=Perseus%3Atext%3A2008.01.0590%3Abook%3D9%3Achapter%3D31', '1'),\n",
       " ('?doc=Perseus%3Atext%3A2008.01.0590%3Abook%3D9%3Achapter%3D32', '1'),\n",
       " ('?doc=Perseus%3Atext%3A2008.01.0590%3Abook%3D9%3Achapter%3D33', '1'),\n",
       " ('?doc=Perseus%3Atext%3A2008.01.0590%3Abook%3D9%3Achapter%3D34', '1'),\n",
       " ('?doc=Perseus%3Atext%3A2008.01.0590%3Abook%3D9%3Achapter%3D35', '1'),\n",
       " ('?doc=Perseus%3Atext%3A2008.01.0590%3Abook%3D9%3Achapter%3D36', '1'),\n",
       " ('?doc=Perseus%3Atext%3A2008.01.0590%3Abook%3D9%3Achapter%3D37', '1'),\n",
       " ('?doc=Perseus%3Atext%3A2008.01.0590%3Abook%3D9%3Achapter%3D38', '1'),\n",
       " ('?doc=Perseus%3Atext%3A2008.01.0590%3Abook%3D9%3Achapter%3D39', '1'),\n",
       " ('?doc=Perseus%3Atext%3A2008.01.0590%3Abook%3D9%3Achapter%3D40', '1'),\n",
       " ('?doc=Perseus%3Atext%3A2008.01.0590%3Abook%3D9%3Achapter%3D41', '1'),\n",
       " ('?doc=Perseus%3Atext%3A2008.01.0590%3Abook%3D9%3Achapter%3D42', '1'),\n",
       " ('?doc=Perseus%3Atext%3A2008.01.0590%3Abook%3D9%3Achapter%3D43', '1'),\n",
       " ('?doc=Perseus%3Atext%3A2008.01.0590%3Abook%3D9%3Achapter%3D44', '1'),\n",
       " ('?doc=Perseus%3Atext%3A2008.01.0590%3Abook%3D9%3Achapter%3D45', '1'),\n",
       " ('?doc=Perseus%3Atext%3A2008.01.0590%3Abook%3D9%3Achapter%3D46', '1'),\n",
       " ('?doc=Perseus%3Atext%3A2008.01.0590%3Abook%3D9%3Achapter%3D47', '1'),\n",
       " ('?doc=Perseus%3Atext%3A2008.01.0590%3Abook%3D9%3Achapter%3D48', '1'),\n",
       " ('?doc=Perseus%3Atext%3A2008.01.0590%3Abook%3D9%3Achapter%3D49', '1'),\n",
       " ('?doc=Perseus%3Atext%3A2008.01.0590%3Abook%3D9%3Achapter%3D50', '1'),\n",
       " ('?doc=Perseus%3Atext%3A2008.01.0590%3Abook%3D9%3Achapter%3D51', '1'),\n",
       " ('?doc=Perseus%3Atext%3A2008.01.0590%3Abook%3D9%3Achapter%3D52', '1'),\n",
       " ('?doc=Perseus%3Atext%3A2008.01.0590%3Abook%3D9%3Achapter%3D53', '1'),\n",
       " ('?doc=Perseus%3Atext%3A2008.01.0590%3Abook%3D9%3Achapter%3D54', '1'),\n",
       " ('?doc=Perseus%3Atext%3A2008.01.0590%3Abook%3D9%3Achapter%3D55', '1'),\n",
       " ('?doc=Perseus%3Atext%3A2008.01.0590%3Abook%3D9%3Achapter%3D56', '1'),\n",
       " ('?doc=Perseus%3Atext%3A2008.01.0590%3Abook%3D9%3Achapter%3D57', '1'),\n",
       " ('?doc=Perseus%3Atext%3A2008.01.0590%3Abook%3D9%3Achapter%3D58', '1'),\n",
       " ('?doc=Perseus%3Atext%3A2008.01.0590%3Abook%3D9%3Achapter%3D59', '1'),\n",
       " ('?doc=Perseus%3Atext%3A2008.01.0590%3Abook%3D9%3Achapter%3D60', '1'),\n",
       " ('?doc=Perseus%3Atext%3A2008.01.0590%3Abook%3D9%3Achapter%3D61', '1'),\n",
       " ('?doc=Perseus%3Atext%3A2008.01.0590%3Abook%3D9%3Achapter%3D62', '1'),\n",
       " ('?doc=Perseus%3Atext%3A2008.01.0590%3Abook%3D9%3Achapter%3D63', '1'),\n",
       " ('?doc=Perseus%3Atext%3A2008.01.0590%3Abook%3D9%3Achapter%3D64', '1'),\n",
       " ('?doc=Perseus%3Atext%3A2008.01.0590%3Abook%3D9%3Achapter%3D65', '1'),\n",
       " ('?doc=Perseus%3Atext%3A2008.01.0590%3Abook%3D9%3Achapter%3D66', '1'),\n",
       " ('?doc=Perseus%3Atext%3A2008.01.0590%3Abook%3D10%3Achapter%3D1', '1'),\n",
       " ('?doc=Perseus%3Atext%3A2008.01.0590%3Abook%3D10%3Achapter%3D2', '1'),\n",
       " ('?doc=Perseus%3Atext%3A2008.01.0590%3Abook%3D10%3Achapter%3D3', '1'),\n",
       " ('?doc=Perseus%3Atext%3A2008.01.0590%3Abook%3D10%3Achapter%3D4', '1'),\n",
       " ('?doc=Perseus%3Atext%3A2008.01.0590%3Abook%3D10%3Achapter%3D5', '1'),\n",
       " ('?doc=Perseus%3Atext%3A2008.01.0590%3Abook%3D10%3Achapter%3D6', '1'),\n",
       " ('?doc=Perseus%3Atext%3A2008.01.0590%3Abook%3D10%3Achapter%3D7', '1'),\n",
       " ('?doc=Perseus%3Atext%3A2008.01.0590%3Abook%3D10%3Achapter%3D8', '1'),\n",
       " ('?doc=Perseus%3Atext%3A2008.01.0590%3Abook%3D10%3Achapter%3D9', '1'),\n",
       " ('?doc=Perseus%3Atext%3A2008.01.0590%3Abook%3D10%3Achapter%3D10', '1'),\n",
       " ('?doc=Perseus%3Atext%3A2008.01.0590%3Abook%3D10%3Achapter%3D11', '1'),\n",
       " ('?doc=Perseus%3Atext%3A2008.01.0590%3Abook%3D10%3Achapter%3D12', '1'),\n",
       " ('?doc=Perseus%3Atext%3A2008.01.0590%3Abook%3D10%3Achapter%3D13', '1'),\n",
       " ('?doc=Perseus%3Atext%3A2008.01.0590%3Abook%3D10%3Achapter%3D14', '1'),\n",
       " ('?doc=Perseus%3Atext%3A2008.01.0590%3Abook%3D10%3Achapter%3D15', '1'),\n",
       " ('?doc=Perseus%3Atext%3A2008.01.0590%3Abook%3D10%3Achapter%3D16', '1'),\n",
       " ('?doc=Perseus%3Atext%3A2008.01.0590%3Abook%3D10%3Achapter%3D17', '1'),\n",
       " ('?doc=Perseus%3Atext%3A2008.01.0590%3Abook%3D10%3Achapter%3D18', '1'),\n",
       " ('?doc=Perseus%3Atext%3A2008.01.0590%3Abook%3D10%3Achapter%3D19', '1'),\n",
       " ('?doc=Perseus%3Atext%3A2008.01.0590%3Abook%3D10%3Achapter%3D20', '1'),\n",
       " ('?doc=Perseus%3Atext%3A2008.01.0590%3Abook%3D10%3Achapter%3D21', '1'),\n",
       " ('?doc=Perseus%3Atext%3A2008.01.0590%3Abook%3D10%3Achapter%3D22', '1'),\n",
       " ('?doc=Perseus%3Atext%3A2008.01.0590%3Abook%3D10%3Achapter%3D23', '1'),\n",
       " ('?doc=Perseus%3Atext%3A2008.01.0590%3Abook%3D10%3Achapter%3D24', '1'),\n",
       " ('?doc=Perseus%3Atext%3A2008.01.0590%3Abook%3D10%3Achapter%3D25', '1'),\n",
       " ('?doc=Perseus%3Atext%3A2008.01.0590%3Abook%3D10%3Achapter%3D26', '1'),\n",
       " ('?doc=Perseus%3Atext%3A2008.01.0590%3Abook%3D10%3Achapter%3D27', '1'),\n",
       " ('?doc=Perseus%3Atext%3A2008.01.0590%3Abook%3D10%3Achapter%3D28', '1'),\n",
       " ('?doc=Perseus%3Atext%3A2008.01.0590%3Abook%3D10%3Achapter%3D29', '1'),\n",
       " ('?doc=Perseus%3Atext%3A2008.01.0590%3Abook%3D10%3Achapter%3D30', '1'),\n",
       " ('?doc=Perseus%3Atext%3A2008.01.0590%3Abook%3D10%3Achapter%3D31', '1'),\n",
       " ('?doc=Perseus%3Atext%3A2008.01.0590%3Abook%3D10%3Achapter%3D32', '1'),\n",
       " ('?doc=Perseus%3Atext%3A2008.01.0590%3Abook%3D10%3Achapter%3D33', '1'),\n",
       " ('?doc=Perseus%3Atext%3A2008.01.0590%3Abook%3D10%3Achapter%3D34', '1'),\n",
       " ('?doc=Perseus%3Atext%3A2008.01.0590%3Abook%3D10%3Achapter%3D35', '1'),\n",
       " ('?doc=Perseus%3Atext%3A2008.01.0590%3Abook%3D10%3Achapter%3D36', '1'),\n",
       " ('?doc=Perseus%3Atext%3A2008.01.0590%3Abook%3D10%3Achapter%3D37', '1'),\n",
       " ('?doc=Perseus%3Atext%3A2008.01.0590%3Abook%3D10%3Achapter%3D38', '1'),\n",
       " ('?doc=Perseus%3Atext%3A2008.01.0590%3Abook%3D10%3Achapter%3D39', '1'),\n",
       " ('?doc=Perseus%3Atext%3A2008.01.0590%3Abook%3D10%3Achapter%3D40', '1'),\n",
       " ('?doc=Perseus%3Atext%3A2008.01.0590%3Abook%3D10%3Achapter%3D41', '1'),\n",
       " ('?doc=Perseus%3Atext%3A2008.01.0590%3Abook%3D10%3Achapter%3D42', '1'),\n",
       " ('?doc=Perseus%3Atext%3A2008.01.0590%3Abook%3D10%3Achapter%3D43', '1'),\n",
       " ('?doc=Perseus%3Atext%3A2008.01.0590%3Abook%3D10%3Achapter%3D44', '1'),\n",
       " ('?doc=Perseus%3Atext%3A2008.01.0590%3Abook%3D10%3Achapter%3D45', '1'),\n",
       " ('?doc=Perseus%3Atext%3A2008.01.0590%3Abook%3D10%3Achapter%3D46', '1'),\n",
       " ('?doc=Perseus%3Atext%3A2008.01.0590%3Abook%3D10%3Achapter%3D47', '1'),\n",
       " ('?doc=Perseus%3Atext%3A2008.01.0590%3Abook%3D10%3Achapter%3D48', '1'),\n",
       " ('?doc=Perseus%3Atext%3A2008.01.0590%3Abook%3D10%3Achapter%3D49', '1'),\n",
       " ('?doc=Perseus%3Atext%3A2008.01.0590%3Abook%3D10%3Achapter%3D50', '1'),\n",
       " ('?doc=Perseus%3Atext%3A2008.01.0590%3Abook%3D11%3Achapter%3D1', '1'),\n",
       " ('?doc=Perseus%3Atext%3A2008.01.0590%3Abook%3D11%3Achapter%3D2', '1'),\n",
       " ('?doc=Perseus%3Atext%3A2008.01.0590%3Abook%3D11%3Achapter%3D3', '1'),\n",
       " ('?doc=Perseus%3Atext%3A2008.01.0590%3Abook%3D11%3Achapter%3D4', '1'),\n",
       " ('?doc=Perseus%3Atext%3A2008.01.0590%3Abook%3D11%3Achapter%3D5', '1'),\n",
       " ('?doc=Perseus%3Atext%3A2008.01.0590%3Abook%3D11%3Achapter%3D6', '1'),\n",
       " ('?doc=Perseus%3Atext%3A2008.01.0590%3Abook%3D11%3Achapter%3D7', '1'),\n",
       " ('?doc=Perseus%3Atext%3A2008.01.0590%3Abook%3D11%3Achapter%3D8', '1'),\n",
       " ('?doc=Perseus%3Atext%3A2008.01.0590%3Abook%3D11%3Achapter%3D9', '1'),\n",
       " ('?doc=Perseus%3Atext%3A2008.01.0590%3Abook%3D11%3Achapter%3D10', '1'),\n",
       " ('?doc=Perseus%3Atext%3A2008.01.0590%3Abook%3D11%3Achapter%3D11', '1'),\n",
       " ('?doc=Perseus%3Atext%3A2008.01.0590%3Abook%3D11%3Achapter%3D12', '1'),\n",
       " ('?doc=Perseus%3Atext%3A2008.01.0590%3Abook%3D11%3Achapter%3D13', '1'),\n",
       " ('?doc=Perseus%3Atext%3A2008.01.0590%3Abook%3D11%3Achapter%3D14', '1'),\n",
       " ('?doc=Perseus%3Atext%3A2008.01.0590%3Abook%3D11%3Achapter%3D15', '1'),\n",
       " ('?doc=Perseus%3Atext%3A2008.01.0590%3Abook%3D11%3Achapter%3D16', '1'),\n",
       " ('?doc=Perseus%3Atext%3A2008.01.0590%3Abook%3D11%3Achapter%3D17', '1'),\n",
       " ('?doc=Perseus%3Atext%3A2008.01.0590%3Abook%3D11%3Achapter%3D18', '1'),\n",
       " ('?doc=Perseus%3Atext%3A2008.01.0590%3Abook%3D11%3Achapter%3D19', '1'),\n",
       " ('?doc=Perseus%3Atext%3A2008.01.0590%3Abook%3D11%3Achapter%3D20', '1'),\n",
       " ('?doc=Perseus%3Atext%3A2008.01.0590%3Abook%3D11%3Achapter%3D21', '1'),\n",
       " ('?doc=Perseus%3Atext%3A2008.01.0590%3Abook%3D11%3Achapter%3D22', '1'),\n",
       " ('?doc=Perseus%3Atext%3A2008.01.0590%3Abook%3D11%3Achapter%3D23', '1'),\n",
       " ('?doc=Perseus%3Atext%3A2008.01.0590%3Abook%3D11%3Achapter%3D24', '1'),\n",
       " ('?doc=Perseus%3Atext%3A2008.01.0590%3Abook%3D11%3Achapter%3D25', '1'),\n",
       " ('?doc=Perseus%3Atext%3A2008.01.0590%3Abook%3D11%3Achapter%3D26', '1'),\n",
       " ('?doc=Perseus%3Atext%3A2008.01.0590%3Abook%3D11%3Achapter%3D27', '1'),\n",
       " ('?doc=Perseus%3Atext%3A2008.01.0590%3Abook%3D11%3Achapter%3D28', '1'),\n",
       " ('?doc=Perseus%3Atext%3A2008.01.0590%3Abook%3D11%3Achapter%3D29', '1'),\n",
       " ('?doc=Perseus%3Atext%3A2008.01.0590%3Abook%3D11%3Achapter%3D30', '1'),\n",
       " ('?doc=Perseus%3Atext%3A2008.01.0590%3Abook%3D11%3Achapter%3D31', '1'),\n",
       " ('?doc=Perseus%3Atext%3A2008.01.0590%3Abook%3D11%3Achapter%3D32', '1'),\n",
       " ('?doc=Perseus%3Atext%3A2008.01.0590%3Abook%3D11%3Achapter%3D33', '1'),\n",
       " ('?doc=Perseus%3Atext%3A2008.01.0590%3Abook%3D11%3Achapter%3D34', '1'),\n",
       " ('?doc=Perseus%3Atext%3A2008.01.0590%3Abook%3D11%3Achapter%3D35', '1'),\n",
       " ('?doc=Perseus%3Atext%3A2008.01.0590%3Abook%3D11%3Achapter%3D36', '1'),\n",
       " ('?doc=Perseus%3Atext%3A2008.01.0590%3Abook%3D11%3Achapter%3D37', '1'),\n",
       " ('?doc=Perseus%3Atext%3A2008.01.0590%3Abook%3D11%3Achapter%3D38', '1'),\n",
       " ('?doc=Perseus%3Atext%3A2008.01.0590%3Abook%3D11%3Achapter%3D39', '1'),\n",
       " ('?doc=Perseus%3Atext%3A2008.01.0590%3Abook%3D11%3Achapter%3D40', '1'),\n",
       " ('?doc=Perseus%3Atext%3A2008.01.0590%3Abook%3D12%3Achapter%3D1', '1'),\n",
       " ('?doc=Perseus%3Atext%3A2008.01.0590%3Abook%3D12%3Achapter%3D2', '1'),\n",
       " ('?doc=Perseus%3Atext%3A2008.01.0590%3Abook%3D12%3Achapter%3D3', '1'),\n",
       " ('?doc=Perseus%3Atext%3A2008.01.0590%3Abook%3D12%3Achapter%3D4', '1'),\n",
       " ('?doc=Perseus%3Atext%3A2008.01.0590%3Abook%3D12%3Achapter%3D5', '1'),\n",
       " ('?doc=Perseus%3Atext%3A2008.01.0590%3Abook%3D12%3Achapter%3D6', '1'),\n",
       " ('?doc=Perseus%3Atext%3A2008.01.0590%3Abook%3D12%3Achapter%3D7', '1'),\n",
       " ('?doc=Perseus%3Atext%3A2008.01.0590%3Abook%3D12%3Achapter%3D8', '1'),\n",
       " ('?doc=Perseus%3Atext%3A2008.01.0590%3Abook%3D12%3Achapter%3D9', '1'),\n",
       " ('?doc=Perseus%3Atext%3A2008.01.0590%3Abook%3D12%3Achapter%3D10', '1'),\n",
       " ('?doc=Perseus%3Atext%3A2008.01.0590%3Abook%3D12%3Achapter%3D11', '1'),\n",
       " ('?doc=Perseus%3Atext%3A2008.01.0590%3Abook%3D12%3Achapter%3D12', '1'),\n",
       " ('?doc=Perseus%3Atext%3A2008.01.0590%3Abook%3D12%3Achapter%3D13', '1'),\n",
       " ('?doc=Perseus%3Atext%3A2008.01.0590%3Abook%3D12%3Achapter%3D14', '1'),\n",
       " ('?doc=Perseus%3Atext%3A2008.01.0590%3Abook%3D12%3Achapter%3D15', '1'),\n",
       " ('?doc=Perseus%3Atext%3A2008.01.0590%3Abook%3D12%3Achapter%3D16', '1'),\n",
       " ('?doc=Perseus%3Atext%3A2008.01.0590%3Abook%3D12%3Achapter%3D17', '1'),\n",
       " ('?doc=Perseus%3Atext%3A2008.01.0590%3Abook%3D12%3Achapter%3D18', '1'),\n",
       " ('?doc=Perseus%3Atext%3A2008.01.0590%3Abook%3D12%3Achapter%3D19', '1'),\n",
       " ('?doc=Perseus%3Atext%3A2008.01.0590%3Abook%3D12%3Achapter%3D20', '1'),\n",
       " ('?doc=Perseus%3Atext%3A2008.01.0590%3Abook%3D12%3Achapter%3D21', '1'),\n",
       " ('?doc=Perseus%3Atext%3A2008.01.0590%3Abook%3D12%3Achapter%3D22', '1'),\n",
       " ('?doc=Perseus%3Atext%3A2008.01.0590%3Abook%3D12%3Achapter%3D23', '1'),\n",
       " ('?doc=Perseus%3Atext%3A2008.01.0590%3Abook%3D12%3Achapter%3D24', '1'),\n",
       " ('?doc=Perseus%3Atext%3A2008.01.0590%3Abook%3D12%3Achapter%3D25', '1'),\n",
       " ('?doc=Perseus%3Atext%3A2008.01.0590%3Abook%3D12%3Achapter%3D26', '1'),\n",
       " ('?doc=Perseus%3Atext%3A2008.01.0590%3Abook%3D12%3Achapter%3D27', '1'),\n",
       " ('?doc=Perseus%3Atext%3A2008.01.0590%3Abook%3D12%3Achapter%3D28', '1'),\n",
       " ('?doc=Perseus%3Atext%3A2008.01.0590%3Abook%3D12%3Achapter%3D29', '1'),\n",
       " ('?doc=Perseus%3Atext%3A2008.01.0590%3Abook%3D12%3Achapter%3D30', '1'),\n",
       " ('?doc=Perseus%3Atext%3A2008.01.0590%3Abook%3D12%3Achapter%3D31', '1'),\n",
       " ('?doc=Perseus%3Atext%3A2008.01.0590%3Abook%3D12%3Achapter%3D32', '1'),\n",
       " ('?doc=Perseus%3Atext%3A2008.01.0590%3Abook%3D12%3Achapter%3D33', '1'),\n",
       " ('?doc=Perseus%3Atext%3A2008.01.0590%3Abook%3D12%3Achapter%3D34', '1'),\n",
       " ('?doc=Perseus%3Atext%3A2008.01.0590%3Abook%3D12%3Achapter%3D35', '1'),\n",
       " ('?doc=Perseus%3Atext%3A2008.01.0590%3Abook%3D12%3Achapter%3D36', '1'),\n",
       " ('?doc=Perseus%3Atext%3A2008.01.0590%3Abook%3D12%3Achapter%3D37', '1'),\n",
       " ('?doc=Perseus%3Atext%3A2008.01.0590%3Abook%3D12%3Achapter%3D38', '1'),\n",
       " ('?doc=Perseus%3Atext%3A2008.01.0590%3Abook%3D12%3Achapter%3D39', '1'),\n",
       " ('?doc=Perseus%3Atext%3A2008.01.0590%3Abook%3D12%3Achapter%3D40', '1'),\n",
       " ('?doc=Perseus%3Atext%3A2008.01.0590%3Abook%3D12%3Achapter%3D41', '1'),\n",
       " ('?doc=Perseus%3Atext%3A2008.01.0590%3Abook%3D12%3Achapter%3D42', '1'),\n",
       " ('?doc=Perseus%3Atext%3A2008.01.0590%3Abook%3D12%3Achapter%3D43', '1'),\n",
       " ('?doc=Perseus%3Atext%3A2008.01.0590%3Abook%3D12%3Achapter%3D44', '1'),\n",
       " ('?doc=Perseus%3Atext%3A2008.01.0590%3Abook%3D12%3Achapter%3D45', '1'),\n",
       " ('?doc=Perseus%3Atext%3A2008.01.0590%3Abook%3D12%3Achapter%3D46', '1'),\n",
       " ('?doc=Perseus%3Atext%3A2008.01.0590%3Abook%3D12%3Achapter%3D47', '1'),\n",
       " ('?doc=Perseus%3Atext%3A2008.01.0590%3Abook%3D13%3Achapter%3D1', '1'),\n",
       " ('?doc=Perseus%3Atext%3A2008.01.0590%3Abook%3D13%3Achapter%3D2', '1'),\n",
       " ('?doc=Perseus%3Atext%3A2008.01.0590%3Abook%3D13%3Achapter%3D3', '1'),\n",
       " ('?doc=Perseus%3Atext%3A2008.01.0590%3Abook%3D13%3Achapter%3D4', '1'),\n",
       " ('?doc=Perseus%3Atext%3A2008.01.0590%3Abook%3D13%3Achapter%3D5', '1'),\n",
       " ('?doc=Perseus%3Atext%3A2008.01.0590%3Abook%3D13%3Achapter%3D6', '1'),\n",
       " ('?doc=Perseus%3Atext%3A2008.01.0590%3Abook%3D13%3Achapter%3D7', '1'),\n",
       " ('?doc=Perseus%3Atext%3A2008.01.0590%3Abook%3D13%3Achapter%3D8', '1'),\n",
       " ('?doc=Perseus%3Atext%3A2008.01.0590%3Abook%3D13%3Achapter%3D9', '1'),\n",
       " ('?doc=Perseus%3Atext%3A2008.01.0590%3Abook%3D13%3Achapter%3D10', '1'),\n",
       " ('?doc=Perseus%3Atext%3A2008.01.0590%3Abook%3D13%3Achapter%3D11', '1'),\n",
       " ('?doc=Perseus%3Atext%3A2008.01.0590%3Abook%3D13%3Achapter%3D12', '1'),\n",
       " ('?doc=Perseus%3Atext%3A2008.01.0590%3Abook%3D13%3Achapter%3D13', '1'),\n",
       " ('?doc=Perseus%3Atext%3A2008.01.0590%3Abook%3D13%3Achapter%3D14', '1'),\n",
       " ('?doc=Perseus%3Atext%3A2008.01.0590%3Abook%3D13%3Achapter%3D15', '1'),\n",
       " ('?doc=Perseus%3Atext%3A2008.01.0590%3Abook%3D13%3Achapter%3D16', '1'),\n",
       " ('?doc=Perseus%3Atext%3A2008.01.0590%3Abook%3D13%3Achapter%3D17', '1'),\n",
       " ('?doc=Perseus%3Atext%3A2008.01.0590%3Abook%3D13%3Achapter%3D18', '1'),\n",
       " ('?doc=Perseus%3Atext%3A2008.01.0590%3Abook%3D13%3Achapter%3D19', '1'),\n",
       " ('?doc=Perseus%3Atext%3A2008.01.0590%3Abook%3D13%3Achapter%3D20', '1'),\n",
       " ('?doc=Perseus%3Atext%3A2008.01.0590%3Abook%3D13%3Achapter%3D21', '1'),\n",
       " ('?doc=Perseus%3Atext%3A2008.01.0590%3Abook%3D13%3Achapter%3D22', '1'),\n",
       " ('?doc=Perseus%3Atext%3A2008.01.0590%3Abook%3D13%3Achapter%3D23', '1'),\n",
       " ('?doc=Perseus%3Atext%3A2008.01.0590%3Abook%3D13%3Achapter%3D24', '1'),\n",
       " ('?doc=Perseus%3Atext%3A2008.01.0590%3Abook%3D13%3Achapter%3D25', '1'),\n",
       " ('?doc=Perseus%3Atext%3A2008.01.0590%3Abook%3D13%3Achapter%3D26', '1'),\n",
       " ('?doc=Perseus%3Atext%3A2008.01.0590%3Abook%3D13%3Achapter%3D27', '1'),\n",
       " ('?doc=Perseus%3Atext%3A2008.01.0590%3Abook%3D13%3Achapter%3D28', '1'),\n",
       " ('?doc=Perseus%3Atext%3A2008.01.0590%3Abook%3D14%3Achapter%3D1', '1'),\n",
       " ('?doc=Perseus%3Atext%3A2008.01.0590%3Abook%3D14%3Achapter%3D2', '1'),\n",
       " ('?doc=Perseus%3Atext%3A2008.01.0590%3Abook%3D14%3Achapter%3D3', '1'),\n",
       " ('?doc=Perseus%3Atext%3A2008.01.0590%3Abook%3D14%3Achapter%3D4', '1'),\n",
       " ('?doc=Perseus%3Atext%3A2008.01.0590%3Abook%3D14%3Achapter%3D5', '1'),\n",
       " ('?doc=Perseus%3Atext%3A2008.01.0590%3Abook%3D14%3Achapter%3D6', '1'),\n",
       " ('?doc=Perseus%3Atext%3A2008.01.0590%3Abook%3D14%3Achapter%3D7', '1'),\n",
       " ('?doc=Perseus%3Atext%3A2008.01.0590%3Abook%3D14%3Achapter%3D8', '1'),\n",
       " ('?doc=Perseus%3Atext%3A2008.01.0590%3Abook%3D14%3Achapter%3D9', '1'),\n",
       " ('?doc=Perseus%3Atext%3A2008.01.0590%3Abook%3D14%3Achapter%3D10', '1'),\n",
       " ('?doc=Perseus%3Atext%3A2008.01.0590%3Abook%3D14%3Achapter%3D11', '1'),\n",
       " ('?doc=Perseus%3Atext%3A2008.01.0590%3Abook%3D14%3Achapter%3D12', '1'),\n",
       " ('?doc=Perseus%3Atext%3A2008.01.0590%3Abook%3D14%3Achapter%3D13', '1'),\n",
       " ('?doc=Perseus%3Atext%3A2008.01.0590%3Abook%3D14%3Achapter%3D14', '1'),\n",
       " ('?doc=Perseus%3Atext%3A2008.01.0590%3Abook%3D14%3Achapter%3D15', '1'),\n",
       " ('?doc=Perseus%3Atext%3A2008.01.0590%3Abook%3D14%3Achapter%3D16', '1'),\n",
       " ('?doc=Perseus%3Atext%3A2008.01.0590%3Abook%3D14%3Achapter%3D17', '1'),\n",
       " ('?doc=Perseus%3Atext%3A2008.01.0590%3Abook%3D14%3Achapter%3D18', '1'),\n",
       " ('?doc=Perseus%3Atext%3A2008.01.0590%3Abook%3D14%3Achapter%3D19', '1'),\n",
       " ('?doc=Perseus%3Atext%3A2008.01.0590%3Abook%3D14%3Achapter%3D20', '1'),\n",
       " ('?doc=Perseus%3Atext%3A2008.01.0590%3Abook%3D14%3Achapter%3D21', '1'),\n",
       " ('?doc=Perseus%3Atext%3A2008.01.0590%3Abook%3D14%3Achapter%3D22', '1'),\n",
       " ('?doc=Perseus%3Atext%3A2008.01.0590%3Abook%3D14%3Achapter%3D23', '1'),\n",
       " ('?doc=Perseus%3Atext%3A2008.01.0590%3Abook%3D14%3Achapter%3D24', '1'),\n",
       " ('?doc=Perseus%3Atext%3A2008.01.0590%3Abook%3D14%3Achapter%3D25', '1'),\n",
       " ('?doc=Perseus%3Atext%3A2008.01.0590%3Abook%3D14%3Achapter%3D26', '1'),\n",
       " ('?doc=Perseus%3Atext%3A2008.01.0590%3Abook%3D14%3Achapter%3D27', '1'),\n",
       " ('?doc=Perseus%3Atext%3A2008.01.0590%3Abook%3D14%3Achapter%3D28', '1'),\n",
       " ('?doc=Perseus%3Atext%3A2008.01.0590%3Abook%3D14%3Achapter%3D29', '1'),\n",
       " ('?doc=Perseus%3Atext%3A2008.01.0590%3Abook%3D14%3Achapter%3D30', '1'),\n",
       " ('?doc=Perseus%3Atext%3A2008.01.0590%3Abook%3D15%3Achapter%3D1', '1'),\n",
       " ('?doc=Perseus%3Atext%3A2008.01.0590%3Abook%3D15%3Achapter%3D2', '1'),\n",
       " ('?doc=Perseus%3Atext%3A2008.01.0590%3Abook%3D15%3Achapter%3D3', '1'),\n",
       " ('?doc=Perseus%3Atext%3A2008.01.0590%3Abook%3D15%3Achapter%3D4', '1'),\n",
       " ('?doc=Perseus%3Atext%3A2008.01.0590%3Abook%3D15%3Achapter%3D5', '1'),\n",
       " ('?doc=Perseus%3Atext%3A2008.01.0590%3Abook%3D15%3Achapter%3D6', '1'),\n",
       " ('?doc=Perseus%3Atext%3A2008.01.0590%3Abook%3D15%3Achapter%3D7', '1'),\n",
       " ('?doc=Perseus%3Atext%3A2008.01.0590%3Abook%3D15%3Achapter%3D8', '1'),\n",
       " ('?doc=Perseus%3Atext%3A2008.01.0590%3Abook%3D15%3Achapter%3D9', '1'),\n",
       " ('?doc=Perseus%3Atext%3A2008.01.0590%3Abook%3D15%3Achapter%3D10', '1'),\n",
       " ('?doc=Perseus%3Atext%3A2008.01.0590%3Abook%3D15%3Achapter%3D11', '1'),\n",
       " ('?doc=Perseus%3Atext%3A2008.01.0590%3Abook%3D15%3Achapter%3D12', '1'),\n",
       " ('?doc=Perseus%3Atext%3A2008.01.0590%3Abook%3D15%3Achapter%3D13', '1'),\n",
       " ('?doc=Perseus%3Atext%3A2008.01.0590%3Abook%3D15%3Achapter%3D14', '1'),\n",
       " ('?doc=Perseus%3Atext%3A2008.01.0590%3Abook%3D15%3Achapter%3D15', '1'),\n",
       " ('?doc=Perseus%3Atext%3A2008.01.0590%3Abook%3D15%3Achapter%3D16', '1'),\n",
       " ('?doc=Perseus%3Atext%3A2008.01.0590%3Abook%3D15%3Achapter%3D17', '1'),\n",
       " ('?doc=Perseus%3Atext%3A2008.01.0590%3Abook%3D15%3Achapter%3D18', '1'),\n",
       " ('?doc=Perseus%3Atext%3A2008.01.0590%3Abook%3D15%3Achapter%3D19', '1'),\n",
       " ('?doc=Perseus%3Atext%3A2008.01.0590%3Abook%3D15%3Achapter%3D20', '1'),\n",
       " ('?doc=Perseus%3Atext%3A2008.01.0590%3Abook%3D15%3Achapter%3D21', '1'),\n",
       " ('?doc=Perseus%3Atext%3A2008.01.0590%3Abook%3D15%3Achapter%3D22', '1'),\n",
       " ('?doc=Perseus%3Atext%3A2008.01.0590%3Abook%3D15%3Achapter%3D23', '1'),\n",
       " ('?doc=Perseus%3Atext%3A2008.01.0590%3Abook%3D15%3Achapter%3D24', '1'),\n",
       " ('?doc=Perseus%3Atext%3A2008.01.0590%3Abook%3D15%3Achapter%3D25', '1'),\n",
       " ('?doc=Perseus%3Atext%3A2008.01.0590%3Abook%3D15%3Achapter%3D26', '1'),\n",
       " ('?doc=Perseus%3Atext%3A2008.01.0590%3Abook%3D15%3Achapter%3D27', '1'),\n",
       " ('?doc=Perseus%3Atext%3A2008.01.0590%3Abook%3D15%3Achapter%3D28', '1'),\n",
       " ('?doc=Perseus%3Atext%3A2008.01.0590%3Abook%3D15%3Achapter%3D29', '1'),\n",
       " ('?doc=Perseus%3Atext%3A2008.01.0590%3Abook%3D15%3Achapter%3D30', '1'),\n",
       " ('?doc=Perseus%3Atext%3A2008.01.0590%3Abook%3D16%3Achapter%3D1', '1'),\n",
       " ('?doc=Perseus%3Atext%3A2008.01.0590%3Abook%3D16%3Achapter%3D2', '1'),\n",
       " ('?doc=Perseus%3Atext%3A2008.01.0590%3Abook%3D16%3Achapter%3D3', '1'),\n",
       " ('?doc=Perseus%3Atext%3A2008.01.0590%3Abook%3D16%3Achapter%3D4', '1'),\n",
       " ('?doc=Perseus%3Atext%3A2008.01.0590%3Abook%3D16%3Achapter%3D5', '1'),\n",
       " ('?doc=Perseus%3Atext%3A2008.01.0590%3Abook%3D16%3Achapter%3D6', '1'),\n",
       " ('?doc=Perseus%3Atext%3A2008.01.0590%3Abook%3D16%3Achapter%3D7', '1'),\n",
       " ('?doc=Perseus%3Atext%3A2008.01.0590%3Abook%3D16%3Achapter%3D8', '1'),\n",
       " ('?doc=Perseus%3Atext%3A2008.01.0590%3Abook%3D16%3Achapter%3D9', '1'),\n",
       " ('?doc=Perseus%3Atext%3A2008.01.0590%3Abook%3D16%3Achapter%3D10', '1'),\n",
       " ('?doc=Perseus%3Atext%3A2008.01.0590%3Abook%3D16%3Achapter%3D11', '1'),\n",
       " ('?doc=Perseus%3Atext%3A2008.01.0590%3Abook%3D16%3Achapter%3D12', '1'),\n",
       " ('?doc=Perseus%3Atext%3A2008.01.0590%3Abook%3D16%3Achapter%3D13', '1'),\n",
       " ('?doc=Perseus%3Atext%3A2008.01.0590%3Abook%3D16%3Achapter%3D14', '1'),\n",
       " ('?doc=Perseus%3Atext%3A2008.01.0590%3Abook%3D16%3Achapter%3D15', '1'),\n",
       " ('?doc=Perseus%3Atext%3A2008.01.0590%3Abook%3D16%3Achapter%3D16', '1'),\n",
       " ('?doc=Perseus%3Atext%3A2008.01.0590%3Abook%3D16%3Achapter%3D17', '1'),\n",
       " ('?doc=Perseus%3Atext%3A2008.01.0590%3Abook%3D16%3Achapter%3D18', '1'),\n",
       " ('?doc=Perseus%3Atext%3A2008.01.0590%3Abook%3D16%3Achapter%3D19', '1'),\n",
       " ('?doc=Perseus%3Atext%3A2008.01.0590%3Abook%3D16%3Achapter%3D20', '1'),\n",
       " ('?doc=Perseus%3Atext%3A2008.01.0590%3Abook%3D16%3Achapter%3D21', '1'),\n",
       " ('?doc=Perseus%3Atext%3A2008.01.0590%3Abook%3D16%3Achapter%3D22', '1'),\n",
       " ('?doc=Perseus%3Atext%3A2008.01.0590%3Abook%3D16%3Achapter%3D23', '1'),\n",
       " ('?doc=Perseus%3Atext%3A2008.01.0590%3Abook%3D16%3Achapter%3D24', '1'),\n",
       " ('?doc=Perseus%3Atext%3A2008.01.0590%3Abook%3D16%3Achapter%3D25', '1'),\n",
       " ('?doc=Perseus%3Atext%3A2008.01.0590%3Abook%3D16%3Achapter%3D26', '1'),\n",
       " ('?doc=Perseus%3Atext%3A2008.01.0590%3Abook%3D16%3Achapter%3D27', '1'),\n",
       " ('?doc=Perseus%3Atext%3A2008.01.0590%3Abook%3D16%3Achapter%3D28', '1'),\n",
       " ('?doc=Perseus%3Atext%3A2008.01.0590%3Abook%3D16%3Achapter%3D29', '1'),\n",
       " ('?doc=Perseus%3Atext%3A2008.01.0590%3Abook%3D16%3Achapter%3D30', '1'),\n",
       " ('?doc=Perseus%3Atext%3A2008.01.0590%3Abook%3D16%3Achapter%3D31', '1'),\n",
       " ('?doc=Perseus%3Atext%3A2008.01.0590%3Abook%3D16%3Achapter%3D32', '1'),\n",
       " ('?doc=Perseus%3Atext%3A2008.01.0590%3Abook%3D16%3Achapter%3D33', '1'),\n",
       " ('?doc=Perseus%3Atext%3A2008.01.0590%3Abook%3D16%3Achapter%3D34', '1'),\n",
       " ('?doc=Perseus%3Atext%3A2008.01.0590%3Abook%3D16%3Achapter%3D35', '1'),\n",
       " ('?doc=Perseus%3Atext%3A2008.01.0590%3Abook%3D16%3Achapter%3D36', '1'),\n",
       " ('?doc=Perseus%3Atext%3A2008.01.0590%3Abook%3D16%3Achapter%3D37', '1'),\n",
       " ('?doc=Perseus%3Atext%3A2008.01.0590%3Abook%3D16%3Achapter%3D38', '1'),\n",
       " ('?doc=Perseus%3Atext%3A2008.01.0590%3Abook%3D16%3Achapter%3D39', '1'),\n",
       " ('?doc=Perseus%3Atext%3A2008.01.0590%3Abook%3D16%3Achapter%3D40', '1'),\n",
       " ('?doc=Perseus%3Atext%3A2008.01.0590%3Abook%3D16%3Achapter%3D41', '1'),\n",
       " ('?doc=Perseus%3Atext%3A2008.01.0590%3Abook%3D16%3Achapter%3D42', '1'),\n",
       " ('?doc=Perseus%3Atext%3A2008.01.0590%3Abook%3D17%3Achapter%3D1', '1'),\n",
       " ('?doc=Perseus%3Atext%3A2008.01.0590%3Abook%3D17%3Achapter%3D2', '1'),\n",
       " ('?doc=Perseus%3Atext%3A2008.01.0590%3Abook%3D17%3Achapter%3D3', '1'),\n",
       " ('?doc=Perseus%3Atext%3A2008.01.0590%3Abook%3D17%3Achapter%3D4', '1'),\n",
       " ('?doc=Perseus%3Atext%3A2008.01.0590%3Abook%3D17%3Achapter%3D5', '1'),\n",
       " ('?doc=Perseus%3Atext%3A2008.01.0590%3Abook%3D17%3Achapter%3D6', '1'),\n",
       " ('?doc=Perseus%3Atext%3A2008.01.0590%3Abook%3D17%3Achapter%3D7', '1'),\n",
       " ('?doc=Perseus%3Atext%3A2008.01.0590%3Abook%3D17%3Achapter%3D8', '1'),\n",
       " ('?doc=Perseus%3Atext%3A2008.01.0590%3Abook%3D17%3Achapter%3D9', '1'),\n",
       " ('?doc=Perseus%3Atext%3A2008.01.0590%3Abook%3D17%3Achapter%3D10', '1'),\n",
       " ('?doc=Perseus%3Atext%3A2008.01.0590%3Abook%3D17%3Achapter%3D11', '1'),\n",
       " ('?doc=Perseus%3Atext%3A2008.01.0590%3Abook%3D17%3Achapter%3D12', '1'),\n",
       " ('?doc=Perseus%3Atext%3A2008.01.0590%3Abook%3D17%3Achapter%3D13', '1'),\n",
       " ('?doc=Perseus%3Atext%3A2008.01.0590%3Abook%3D17%3Achapter%3D14', '1'),\n",
       " ('?doc=Perseus%3Atext%3A2008.01.0590%3Abook%3D17%3Achapter%3D15', '1'),\n",
       " ('?doc=Perseus%3Atext%3A2008.01.0590%3Abook%3D17%3Achapter%3D16', '1'),\n",
       " ('?doc=Perseus%3Atext%3A2008.01.0590%3Abook%3D17%3Achapter%3D17', '1'),\n",
       " ('?doc=Perseus%3Atext%3A2008.01.0590%3Abook%3D17%3Achapter%3D18', '1'),\n",
       " ('?doc=Perseus%3Atext%3A2008.01.0590%3Abook%3D17%3Achapter%3D19', '1'),\n",
       " ('?doc=Perseus%3Atext%3A2008.01.0590%3Abook%3D17%3Achapter%3D20', '1'),\n",
       " ('?doc=Perseus%3Atext%3A2008.01.0590%3Abook%3D17%3Achapter%3D21', '1'),\n",
       " ('?doc=Perseus%3Atext%3A2008.01.0590%3Abook%3D17%3Achapter%3D22', '1'),\n",
       " ('?doc=Perseus%3Atext%3A2008.01.0590%3Abook%3D17%3Achapter%3D23', '1'),\n",
       " ('?doc=Perseus%3Atext%3A2008.01.0590%3Abook%3D17%3Achapter%3D24', '1'),\n",
       " ('?doc=Perseus%3Atext%3A2008.01.0590%3Abook%3D17%3Achapter%3D25', '1'),\n",
       " ('?doc=Perseus%3Atext%3A2008.01.0590%3Abook%3D17%3Achapter%3D26', '1'),\n",
       " ('?doc=Perseus%3Atext%3A2008.01.0590%3Abook%3D17%3Achapter%3D27', '1'),\n",
       " ('?doc=Perseus%3Atext%3A2008.01.0590%3Abook%3D17%3Achapter%3D28', '1'),\n",
       " ('?doc=Perseus%3Atext%3A2008.01.0590%3Abook%3D17%3Achapter%3D29', '1'),\n",
       " ('?doc=Perseus%3Atext%3A2008.01.0590%3Abook%3D17%3Achapter%3D30', '1'),\n",
       " ('?doc=Perseus%3Atext%3A2008.01.0590%3Abook%3D17%3Achapter%3D31', '1'),\n",
       " ('?doc=Perseus%3Atext%3A2008.01.0590%3Abook%3D17%3Achapter%3D32', '1'),\n",
       " ('?doc=Perseus%3Atext%3A2008.01.0590%3Abook%3D17%3Achapter%3D33', '1'),\n",
       " ('?doc=Perseus%3Atext%3A2008.01.0590%3Abook%3D17%3Achapter%3D34', '1'),\n",
       " ('?doc=Perseus%3Atext%3A2008.01.0590%3Abook%3D17%3Achapter%3D35', '1'),\n",
       " ('?doc=Perseus%3Atext%3A2008.01.0590%3Abook%3D17%3Achapter%3D36', '1'),\n",
       " ('?doc=Perseus%3Atext%3A2008.01.0590%3Abook%3D17%3Achapter%3D37', '1'),\n",
       " ('?doc=Perseus%3Atext%3A2008.01.0590%3Abook%3D17%3Achapter%3D38', '1'),\n",
       " ('?doc=Perseus%3Atext%3A2008.01.0590%3Abook%3D17%3Achapter%3D39', '1'),\n",
       " ('?doc=Perseus%3Atext%3A2008.01.0590%3Abook%3D17%3Achapter%3D40', '1'),\n",
       " ('?doc=Perseus%3Atext%3A2008.01.0590%3Abook%3D17%3Achapter%3D41', '1'),\n",
       " ('?doc=Perseus%3Atext%3A2008.01.0590%3Abook%3D17%3Achapter%3D42', '1'),\n",
       " ('?doc=Perseus%3Atext%3A2008.01.0590%3Abook%3D17%3Achapter%3D43', '1'),\n",
       " ('?doc=Perseus%3Atext%3A2008.01.0590%3Abook%3D17%3Achapter%3D44', '1'),\n",
       " ('?doc=Perseus%3Atext%3A2008.01.0590%3Abook%3D17%3Achapter%3D45', '1'),\n",
       " ('?doc=Perseus%3Atext%3A2008.01.0590%3Abook%3D17%3Achapter%3D46', '1'),\n",
       " ('?doc=Perseus%3Atext%3A2008.01.0590%3Abook%3D17%3Achapter%3Depilogos', '1'),\n",
       " ('xmltoc?doc=Perseus%3Atext%3A2008.01.0590%3Abook%3D1%3Achapter%3Dpraef',\n",
       "  '1')]"
      ]
     },
     "execution_count": 154,
     "metadata": {},
     "output_type": "execute_result"
    }
   ],
   "source": [
    "with sqlite3.connect(\"greek.db\") as conn:\n",
    "    c = conn.execute(\"SELECT * FROM chapter_urls\")\n",
    "c.fetchall()"
   ]
  },
  {
   "cell_type": "code",
   "execution_count": 28,
   "metadata": {},
   "outputs": [],
   "source": [
    "async def get_index_data_asynchronous(all_pages_url, library_urls):\n",
    "    \"\"\"\n",
    "    1. Establish an executor and number of workers\n",
    "    2. Establish the session\n",
    "    3. Establish the event loop\n",
    "    4. Create the task by list comprenhensions\n",
    "    5. Gather tasks.\n",
    "    \"\"\"\n",
    "    with ThreadPoolExecutor(max_workers=40) as executor:\n",
    "        with requests.Session() as session:\n",
    "            loop = asyncio.new_event_loop()\n",
    "            tasks = [\n",
    "                loop.run_in_executor(\n",
    "                    executor, get_all_pieces, *(url, all_pages_url)\n",
    "                )\n",
    "                for url in library_urls\n",
    "            ]\n",
    "            for response in await asyncio.gather(*tasks):\n",
    "                pass"
   ]
  },
  {
   "cell_type": "code",
   "execution_count": 18,
   "metadata": {},
   "outputs": [],
   "source": [
    "def execute_async_index_event_loop(all_pages_url, library_urls):\n",
    "    \"\"\"\n",
    "    This function does something analogous to compiling the get_data_asynchronously function,\n",
    "    Then it executes loop.\n",
    "    1. Call the get_data_function\n",
    "    2. Get the event_loop\n",
    "    3. Run the tasks (Much easier to understand in python 3.7, \"ensure_future\" was changed to \"create_task\")\n",
    "    4. Edge_list and top_interactions will be passed to the next functions\n",
    "    \"\"\"\n",
    "    \n",
    "    future = asyncio.ensure_future(\n",
    "        get_index_data_asynchronous(all_pages_url, library_urls)\n",
    "    )\n",
    "    loop = asyncio.get_event_loop()\n",
    "    loop.run_until_complete(future)"
   ]
  },
  {
   "cell_type": "code",
   "execution_count": 30,
   "metadata": {},
   "outputs": [],
   "source": [
    "from tqdm import tqdm\n",
    "def async_web_scrape(iterable, individual_scrape_function, *args):\n",
    "    \"\"\"\n",
    "    This function does something analogous to compiling the get_data_asynchronously function,\n",
    "    Then it executes loop.\n",
    "    1. Call the get_data_function\n",
    "    2. Get the event_loop\n",
    "    3. Run the tasks (Much easier to understand in python 3.7, \"ensure_future\" was changed to \"create_task\")\n",
    "    4. Edge_list and top_interactions will be passed to the next functions\n",
    "    \"\"\"\n",
    "    nest_asyncio.apply()\n",
    "    async def create_scrape_loop(iterable, individual_scrape_function, *args):\n",
    "        \"\"\"\n",
    "        1. Establish an executor and number of workers\n",
    "        2. Establish the session\n",
    "        3. Establish the event loop\n",
    "        4. Create the task by list comprenhensions\n",
    "        5. Gather tasks.\n",
    "        \"\"\"\n",
    "        with ThreadPoolExecutor(max_workers=40) as executor:\n",
    "            with requests.Session() as session:\n",
    "                loop = asyncio.get_event_loop()\n",
    "                tasks = [\n",
    "                    loop.run_in_executor(\n",
    "                        executor, individual_scrape_function, *(url, *args)\n",
    "                    )\n",
    "                    for url in iterable\n",
    "                ]\n",
    "                for response in await asyncio.gather(*tasks):\n",
    "                    pass\n",
    "    \n",
    "    future = asyncio.ensure_future(\n",
    "        create_scrape_loop(iterable, individual_scrape_function,*args)\n",
    "    )\n",
    "    loop = asyncio.get_event_loop()\n",
    "    loop.run_until_complete(future)"
   ]
  },
  {
   "cell_type": "code",
   "execution_count": 31,
   "metadata": {},
   "outputs": [],
   "source": [
    "all_pages_url = []\n",
    "async_web_scrape(library_urls[0:10], get_all_pieces, all_pages_url)"
   ]
  },
  {
   "cell_type": "code",
   "execution_count": 32,
   "metadata": {},
   "outputs": [
    {
     "data": {
      "text/plain": [
       "3004"
      ]
     },
     "execution_count": 32,
     "metadata": {},
     "output_type": "execute_result"
    }
   ],
   "source": [
    "len(all_pages_url)"
   ]
  },
  {
   "cell_type": "code",
   "execution_count": 33,
   "metadata": {},
   "outputs": [
    {
     "name": "stdout",
     "output_type": "stream",
     "text": [
      "ERROR url = http://www.perseus.tufts.edu/hopper/text?doc=Perseus%3atext%3a1999.01.0139%3aspeech%3d6\n"
     ]
    },
    {
     "ename": "RuntimeError",
     "evalue": "Task <Task pending name='Task-5' coro=<get_index_data_asynchronous() running at <ipython-input-28-ef37061d2d89>:18>> got Future <_GatheringFuture pending> attached to a different loop",
     "output_type": "error",
     "traceback": [
      "\u001b[1;31m---------------------------------------------------------------------------\u001b[0m",
      "\u001b[1;31mRuntimeError\u001b[0m                              Traceback (most recent call last)",
      "\u001b[1;32m<ipython-input-33-e8dfcf4eaef8>\u001b[0m in \u001b[0;36m<module>\u001b[1;34m\u001b[0m\n\u001b[0;32m      1\u001b[0m \u001b[0mnest_asyncio\u001b[0m\u001b[1;33m.\u001b[0m\u001b[0mapply\u001b[0m\u001b[1;33m(\u001b[0m\u001b[1;33m)\u001b[0m\u001b[1;33m\u001b[0m\u001b[1;33m\u001b[0m\u001b[0m\n\u001b[0;32m      2\u001b[0m \u001b[0mall_pages_url\u001b[0m \u001b[1;33m=\u001b[0m \u001b[1;33m[\u001b[0m\u001b[1;33m]\u001b[0m\u001b[1;33m\u001b[0m\u001b[1;33m\u001b[0m\u001b[0m\n\u001b[1;32m----> 3\u001b[1;33m \u001b[0mexecute_async_index_event_loop\u001b[0m\u001b[1;33m(\u001b[0m\u001b[0mall_pages_url\u001b[0m\u001b[1;33m,\u001b[0m \u001b[0mlibrary_urls\u001b[0m\u001b[1;33m)\u001b[0m\u001b[1;33m\u001b[0m\u001b[1;33m\u001b[0m\u001b[0m\n\u001b[0m",
      "\u001b[1;32m<ipython-input-18-16ff5e886ea6>\u001b[0m in \u001b[0;36mexecute_async_index_event_loop\u001b[1;34m(all_pages_url, library_urls)\u001b[0m\n\u001b[0;32m     13\u001b[0m     )\n\u001b[0;32m     14\u001b[0m     \u001b[0mloop\u001b[0m \u001b[1;33m=\u001b[0m \u001b[0masyncio\u001b[0m\u001b[1;33m.\u001b[0m\u001b[0mget_event_loop\u001b[0m\u001b[1;33m(\u001b[0m\u001b[1;33m)\u001b[0m\u001b[1;33m\u001b[0m\u001b[1;33m\u001b[0m\u001b[0m\n\u001b[1;32m---> 15\u001b[1;33m     \u001b[0mloop\u001b[0m\u001b[1;33m.\u001b[0m\u001b[0mrun_until_complete\u001b[0m\u001b[1;33m(\u001b[0m\u001b[0mfuture\u001b[0m\u001b[1;33m)\u001b[0m\u001b[1;33m\u001b[0m\u001b[1;33m\u001b[0m\u001b[0m\n\u001b[0m",
      "\u001b[1;32me:\\projects\\latin_project\\.venv\\lib\\site-packages\\nest_asyncio.py\u001b[0m in \u001b[0;36mrun_until_complete\u001b[1;34m(self, future)\u001b[0m\n\u001b[0;32m     93\u001b[0m                 raise RuntimeError(\n\u001b[0;32m     94\u001b[0m                     'Event loop stopped before Future completed.')\n\u001b[1;32m---> 95\u001b[1;33m             \u001b[1;32mreturn\u001b[0m \u001b[0mf\u001b[0m\u001b[1;33m.\u001b[0m\u001b[0mresult\u001b[0m\u001b[1;33m(\u001b[0m\u001b[1;33m)\u001b[0m\u001b[1;33m\u001b[0m\u001b[1;33m\u001b[0m\u001b[0m\n\u001b[0m\u001b[0;32m     96\u001b[0m         \u001b[1;32mfinally\u001b[0m\u001b[1;33m:\u001b[0m\u001b[1;33m\u001b[0m\u001b[1;33m\u001b[0m\u001b[0m\n\u001b[0;32m     97\u001b[0m             \u001b[0mevents\u001b[0m\u001b[1;33m.\u001b[0m\u001b[0m_set_running_loop\u001b[0m\u001b[1;33m(\u001b[0m\u001b[0mold_running_loop\u001b[0m\u001b[1;33m)\u001b[0m\u001b[1;33m\u001b[0m\u001b[1;33m\u001b[0m\u001b[0m\n",
      "\u001b[1;32mc:\\users\\cwcol\\appdata\\local\\programs\\python\\python38\\lib\\asyncio\\futures.py\u001b[0m in \u001b[0;36mresult\u001b[1;34m(self)\u001b[0m\n\u001b[0;32m    176\u001b[0m         \u001b[0mself\u001b[0m\u001b[1;33m.\u001b[0m\u001b[0m__log_traceback\u001b[0m \u001b[1;33m=\u001b[0m \u001b[1;32mFalse\u001b[0m\u001b[1;33m\u001b[0m\u001b[1;33m\u001b[0m\u001b[0m\n\u001b[0;32m    177\u001b[0m         \u001b[1;32mif\u001b[0m \u001b[0mself\u001b[0m\u001b[1;33m.\u001b[0m\u001b[0m_exception\u001b[0m \u001b[1;32mis\u001b[0m \u001b[1;32mnot\u001b[0m \u001b[1;32mNone\u001b[0m\u001b[1;33m:\u001b[0m\u001b[1;33m\u001b[0m\u001b[1;33m\u001b[0m\u001b[0m\n\u001b[1;32m--> 178\u001b[1;33m             \u001b[1;32mraise\u001b[0m \u001b[0mself\u001b[0m\u001b[1;33m.\u001b[0m\u001b[0m_exception\u001b[0m\u001b[1;33m\u001b[0m\u001b[1;33m\u001b[0m\u001b[0m\n\u001b[0m\u001b[0;32m    179\u001b[0m         \u001b[1;32mreturn\u001b[0m \u001b[0mself\u001b[0m\u001b[1;33m.\u001b[0m\u001b[0m_result\u001b[0m\u001b[1;33m\u001b[0m\u001b[1;33m\u001b[0m\u001b[0m\n\u001b[0;32m    180\u001b[0m \u001b[1;33m\u001b[0m\u001b[0m\n",
      "\u001b[1;32mc:\\users\\cwcol\\appdata\\local\\programs\\python\\python38\\lib\\asyncio\\tasks.py\u001b[0m in \u001b[0;36m__step\u001b[1;34m(***failed resolving arguments***)\u001b[0m\n\u001b[0;32m    280\u001b[0m                 \u001b[0mresult\u001b[0m \u001b[1;33m=\u001b[0m \u001b[0mcoro\u001b[0m\u001b[1;33m.\u001b[0m\u001b[0msend\u001b[0m\u001b[1;33m(\u001b[0m\u001b[1;32mNone\u001b[0m\u001b[1;33m)\u001b[0m\u001b[1;33m\u001b[0m\u001b[1;33m\u001b[0m\u001b[0m\n\u001b[0;32m    281\u001b[0m             \u001b[1;32melse\u001b[0m\u001b[1;33m:\u001b[0m\u001b[1;33m\u001b[0m\u001b[1;33m\u001b[0m\u001b[0m\n\u001b[1;32m--> 282\u001b[1;33m                 \u001b[0mresult\u001b[0m \u001b[1;33m=\u001b[0m \u001b[0mcoro\u001b[0m\u001b[1;33m.\u001b[0m\u001b[0mthrow\u001b[0m\u001b[1;33m(\u001b[0m\u001b[0mexc\u001b[0m\u001b[1;33m)\u001b[0m\u001b[1;33m\u001b[0m\u001b[1;33m\u001b[0m\u001b[0m\n\u001b[0m\u001b[0;32m    283\u001b[0m         \u001b[1;32mexcept\u001b[0m \u001b[0mStopIteration\u001b[0m \u001b[1;32mas\u001b[0m \u001b[0mexc\u001b[0m\u001b[1;33m:\u001b[0m\u001b[1;33m\u001b[0m\u001b[1;33m\u001b[0m\u001b[0m\n\u001b[0;32m    284\u001b[0m             \u001b[1;32mif\u001b[0m \u001b[0mself\u001b[0m\u001b[1;33m.\u001b[0m\u001b[0m_must_cancel\u001b[0m\u001b[1;33m:\u001b[0m\u001b[1;33m\u001b[0m\u001b[1;33m\u001b[0m\u001b[0m\n",
      "\u001b[1;32m<ipython-input-28-ef37061d2d89>\u001b[0m in \u001b[0;36mget_index_data_asynchronous\u001b[1;34m(all_pages_url, library_urls)\u001b[0m\n\u001b[0;32m     16\u001b[0m                 \u001b[1;32mfor\u001b[0m \u001b[0murl\u001b[0m \u001b[1;32min\u001b[0m \u001b[0mlibrary_urls\u001b[0m\u001b[1;33m\u001b[0m\u001b[1;33m\u001b[0m\u001b[0m\n\u001b[0;32m     17\u001b[0m             ]\n\u001b[1;32m---> 18\u001b[1;33m             \u001b[1;32mfor\u001b[0m \u001b[0mresponse\u001b[0m \u001b[1;32min\u001b[0m \u001b[1;32mawait\u001b[0m \u001b[0masyncio\u001b[0m\u001b[1;33m.\u001b[0m\u001b[0mgather\u001b[0m\u001b[1;33m(\u001b[0m\u001b[1;33m*\u001b[0m\u001b[0mtasks\u001b[0m\u001b[1;33m)\u001b[0m\u001b[1;33m:\u001b[0m\u001b[1;33m\u001b[0m\u001b[1;33m\u001b[0m\u001b[0m\n\u001b[0m\u001b[0;32m     19\u001b[0m                 \u001b[1;32mpass\u001b[0m\u001b[1;33m\u001b[0m\u001b[1;33m\u001b[0m\u001b[0m\n",
      "\u001b[1;31mRuntimeError\u001b[0m: Task <Task pending name='Task-5' coro=<get_index_data_asynchronous() running at <ipython-input-28-ef37061d2d89>:18>> got Future <_GatheringFuture pending> attached to a different loop"
     ]
    }
   ],
   "source": [
    "nest_asyncio.apply()\n",
    "all_pages_url = []\n",
    "execute_async_index_event_loop(all_pages_url, library_urls)"
   ]
  },
  {
   "cell_type": "code",
   "execution_count": 36,
   "metadata": {},
   "outputs": [
    {
     "data": {
      "text/plain": [
       "198743"
      ]
     },
     "execution_count": 36,
     "metadata": {},
     "output_type": "execute_result"
    }
   ],
   "source": [
    "len(all_pages_url)"
   ]
  },
  {
   "cell_type": "code",
   "execution_count": 37,
   "metadata": {},
   "outputs": [],
   "source": [
    "all_pages_url = [i for i in all_pages_url if \"javascript\" not in i]"
   ]
  },
  {
   "cell_type": "code",
   "execution_count": 38,
   "metadata": {},
   "outputs": [],
   "source": [
    "all_pages_url = set(all_pages_url)"
   ]
  },
  {
   "cell_type": "code",
   "execution_count": 39,
   "metadata": {},
   "outputs": [
    {
     "data": {
      "text/plain": [
       "129518"
      ]
     },
     "execution_count": 39,
     "metadata": {},
     "output_type": "execute_result"
    }
   ],
   "source": [
    "len(all_pages_url)"
   ]
  },
  {
   "cell_type": "code",
   "execution_count": 40,
   "metadata": {},
   "outputs": [],
   "source": [
    "import pickle\n",
    "filename = \"library.pkl\"\n",
    "outfile = open(filename,'wb')\n",
    "pickle.dump(all_pages_url, outfile)\n",
    "outfile.close()"
   ]
  },
  {
   "cell_type": "markdown",
   "metadata": {},
   "source": [
    "### Get all texts\n",
    "##### Test"
   ]
  },
  {
   "cell_type": "code",
   "execution_count": 41,
   "metadata": {},
   "outputs": [],
   "source": [
    "import pickle\n",
    "filename= \"library.pkl\"\n",
    "infile =open(filename,'rb')\n",
    "all_pages_url = pickle.load(infile)\n",
    "infile.close()"
   ]
  },
  {
   "cell_type": "code",
   "execution_count": 42,
   "metadata": {},
   "outputs": [],
   "source": [
    "all_pages_url = list(all_pages_url)"
   ]
  },
  {
   "cell_type": "code",
   "execution_count": 43,
   "metadata": {},
   "outputs": [],
   "source": [
    "url = all_pages_url[1]\n",
    "url = \"http://www.perseus.tufts.edu/hopper/text\"+url\n",
    "r = requests.get(url).text\n",
    "soup = BeautifulSoup(r,\"html.parser\")\n",
    "text = soup.find_all(\"a\",{\"class\":\"text\"})"
   ]
  },
  {
   "cell_type": "code",
   "execution_count": 44,
   "metadata": {
    "scrolled": true
   },
   "outputs": [
    {
     "data": {
      "text/plain": [
       "54"
      ]
     },
     "execution_count": 44,
     "metadata": {},
     "output_type": "execute_result"
    }
   ],
   "source": [
    "len([i.text for i in text])"
   ]
  },
  {
   "cell_type": "code",
   "execution_count": 45,
   "metadata": {},
   "outputs": [
    {
     "data": {
      "text/plain": [
       "'?doc=Perseus%3Atext%3A1999.01.0143%3Aspeech%3D8%3Asection%3D43'"
      ]
     },
     "execution_count": 45,
     "metadata": {},
     "output_type": "execute_result"
    }
   ],
   "source": [
    "all_pages_url[1]"
   ]
  },
  {
   "cell_type": "code",
   "execution_count": 12,
   "metadata": {},
   "outputs": [],
   "source": [
    "class WordMixin:\n",
    "     def __init__(self,greek,english):\n",
    "        self.greek = greek\n",
    "        self.english = english\n",
    "        super().__init__()\n",
    "        \n",
    "class Noun(WordMixin):\n",
    "    def __init__(self,number,gender,case):\n",
    "        self.number = number\n",
    "        self.gender = gender\n",
    "        self.case = case\n",
    "\n",
    "class Adjective(Noun):\n",
    "    def __init__(self):\n",
    "        super().__init__()\n",
    "\n",
    "        \n",
    "        \n",
    "class Conjunction(WordMixin):\n",
    "    def __init__(self,greek,english,part):\n",
    "        self.part = part\n",
    "\n",
    "class Article(WordMixin):\n",
    "    def __init__(self,number,gender,case,declension):\n",
    "        self.number = number\n",
    "        self.gender = gender\n",
    "        self.case = case\n",
    "        self.declension = declension\n",
    "        \n",
    "        \n",
    "class Verb(WordMixin):\n",
    "    def __init__(self,person,number,class_,voice):\n",
    "        self.person = person\n",
    "        self.number = number\n",
    "        self.class_ = class_\n",
    "        self.voice = voice\n",
    "        \n",
    "        \n",
    "        \n",
    "        \n",
    "        "
   ]
  },
  {
   "cell_type": "markdown",
   "metadata": {},
   "source": [
    "##### Execution"
   ]
  },
  {
   "cell_type": "code",
   "execution_count": 58,
   "metadata": {},
   "outputs": [],
   "source": [
    "# import os\n",
    "# os.listdir(os.getcwd())"
   ]
  },
  {
   "cell_type": "code",
   "execution_count": 61,
   "metadata": {},
   "outputs": [
    {
     "data": {
      "text/plain": [
       "<sqlite3.Cursor at 0x24a6c152030>"
      ]
     },
     "execution_count": 61,
     "metadata": {},
     "output_type": "execute_result"
    }
   ],
   "source": [
    "import sqlite3\n",
    "conn = sqlite3.connect('greek.db')\n",
    "conn.execute('''CREATE TABLE greek_db\n",
    "(url TEXT, litho TEXT)''')\n",
    "conn.execute(\"\"\"CREATE_TABLE words\n",
    "(word TEXT, defintion TEXT, )\"\"\")"
   ]
  },
  {
   "cell_type": "code",
   "execution_count": 67,
   "metadata": {},
   "outputs": [],
   "source": [
    "from urllib.parse import unquote\n",
    "def get_all_texts(session, base_url):\n",
    "    url = \"http://www.perseus.tufts.edu/hopper/text\"+base_url\n",
    "    r = requests.get(url).text\n",
    "    soup = BeautifulSoup(r,\"html.parser\")\n",
    "    text = soup.find_all(\"a\",{\"class\":\"text\"})\n",
    "    text = \" \".join([i.text for i in text])\n",
    "    with sqlite3.connect(\"greek.db\") as conn: \n",
    "        conn.execute(\"\"\"INSERT into greek_db VALUES(?,?)\"\"\",(base_url,text))"
   ]
  },
  {
   "cell_type": "code",
   "execution_count": 68,
   "metadata": {},
   "outputs": [],
   "source": [
    "get_all_texts(requests.session, all_pages_url[1])"
   ]
  },
  {
   "cell_type": "code",
   "execution_count": 1,
   "metadata": {},
   "outputs": [],
   "source": [
    "async def get_index_data_asynchronous(all_pages_url):\n",
    "    \"\"\"\n",
    "    1. Establish an executor and number of workers\n",
    "    2. Establish the session\n",
    "    3. Establish the event loop\n",
    "    4. Create the task by list comprenhensions\n",
    "    5. Gather tasks.\n",
    "    \"\"\"\n",
    "    with ThreadPoolExecutor(max_workers=200) as executor:\n",
    "        with requests.Session() as session:\n",
    "            loop = asyncio.get_event_loop()\n",
    "            tasks = [\n",
    "                loop.run_in_executor(\n",
    "                    executor, get_all_texts, *(session, url)\n",
    "                )\n",
    "                for url in all_pages_url\n",
    "            ]\n",
    "            for response in await asyncio.gather(*tasks):\n",
    "                pass"
   ]
  },
  {
   "cell_type": "code",
   "execution_count": 72,
   "metadata": {},
   "outputs": [],
   "source": [
    "def execute_async_index_event_loop(all_pages_url):\n",
    "    \"\"\"\n",
    "    This function does something analogous to compiling the get_data_asynchronously function,\n",
    "    Then it executes loop.\n",
    "    1. Call the get_data_function\n",
    "    2. Get the event_loop\n",
    "    3. Run the tasks (Much easier to understand in python 3.7, \"ensure_future\" was changed to \"create_task\")\n",
    "    4. Edge_list and top_interactions will be passed to the next functions\n",
    "    \"\"\"\n",
    "    future = asyncio.ensure_future(\n",
    "        get_index_data_asynchronous(all_pages_url)\n",
    "    )\n",
    "    loop = asyncio.get_event_loop()\n",
    "    loop.run_until_complete(future)"
   ]
  },
  {
   "cell_type": "code",
   "execution_count": null,
   "metadata": {},
   "outputs": [
    {
     "name": "stderr",
     "output_type": "stream",
     "text": [
      " 66%|█████████████████████████████████████████████████▋                         | 85824/129518 [30:13<15:23, 47.33it/s]\n"
     ]
    }
   ],
   "source": [
    "%%time\n",
    "nest_asyncio.apply()\n",
    "all_texts = []\n",
    "execute_async_index_event_loop(all_pages_url)"
   ]
  },
  {
   "cell_type": "markdown",
   "metadata": {},
   "source": [
    "### Create Corpus"
   ]
  },
  {
   "cell_type": "code",
   "execution_count": null,
   "metadata": {},
   "outputs": [],
   "source": [
    "import os"
   ]
  },
  {
   "cell_type": "code",
   "execution_count": null,
   "metadata": {},
   "outputs": [],
   "source": [
    "len(os.listdir(\"texts/\"))"
   ]
  },
  {
   "cell_type": "code",
   "execution_count": null,
   "metadata": {},
   "outputs": [],
   "source": [
    "docs = [\"texts/\"+i for i in os.listdir(\"texts/\")]"
   ]
  },
  {
   "cell_type": "code",
   "execution_count": null,
   "metadata": {},
   "outputs": [],
   "source": [
    "o = open(docs[0])\n",
    "o = o.read()"
   ]
  },
  {
   "cell_type": "code",
   "execution_count": null,
   "metadata": {},
   "outputs": [],
   "source": [
    "[ i.strip('\\n') for i in o.split(\" \")]"
   ]
  },
  {
   "cell_type": "code",
   "execution_count": null,
   "metadata": {},
   "outputs": [],
   "source": [
    "def doc_stream(path):\n",
    "    for f in os.listdir(path):\n",
    "        with open(os.path.join(path,f)) as t:\n",
    "            text = t.read()\n",
    "            text = [ i.strip('\\n') for i in text.split(\" \")]\n",
    "            yield text"
   ]
  },
  {
   "cell_type": "code",
   "execution_count": null,
   "metadata": {},
   "outputs": [],
   "source": [
    "!pip install gensim"
   ]
  },
  {
   "cell_type": "code",
   "execution_count": null,
   "metadata": {},
   "outputs": [],
   "source": [
    "from gensim import corpora\n",
    "dictionary = corpora.dictionary.Dictionary()"
   ]
  },
  {
   "cell_type": "code",
   "execution_count": null,
   "metadata": {},
   "outputs": [],
   "source": [
    "ds = doc_stream(\"texts/\")"
   ]
  },
  {
   "cell_type": "code",
   "execution_count": null,
   "metadata": {},
   "outputs": [],
   "source": [
    "latin_dict = corpora.Dictionary(ds)"
   ]
  },
  {
   "cell_type": "code",
   "execution_count": null,
   "metadata": {},
   "outputs": [],
   "source": [
    "latin_dict.save(\"latin_gensim_dict\")"
   ]
  },
  {
   "cell_type": "code",
   "execution_count": null,
   "metadata": {},
   "outputs": [],
   "source": [
    "keys = latin_dict.cfs.keys()\n",
    "values = latin_dict.cfs.values()\n",
    "word = [latin_dict[i] for i in keys]"
   ]
  },
  {
   "cell_type": "code",
   "execution_count": null,
   "metadata": {},
   "outputs": [],
   "source": [
    "import pandas as pd"
   ]
  },
  {
   "cell_type": "code",
   "execution_count": null,
   "metadata": {},
   "outputs": [],
   "source": [
    "df = pd.DataFrame()"
   ]
  },
  {
   "cell_type": "code",
   "execution_count": null,
   "metadata": {},
   "outputs": [],
   "source": [
    "df[\"word\"] = word"
   ]
  },
  {
   "cell_type": "code",
   "execution_count": null,
   "metadata": {},
   "outputs": [],
   "source": [
    "df[\"frequency\"] = values"
   ]
  },
  {
   "cell_type": "code",
   "execution_count": null,
   "metadata": {},
   "outputs": [],
   "source": [
    "df.sort_values(\"frequency\",ascending=False,inplace=True)"
   ]
  },
  {
   "cell_type": "code",
   "execution_count": null,
   "metadata": {},
   "outputs": [],
   "source": [
    "df[\"percent_of_corpus\"] = df[\"frequency\"] / latin_dict.num_pos"
   ]
  },
  {
   "cell_type": "code",
   "execution_count": null,
   "metadata": {},
   "outputs": [],
   "source": [
    "df.head()"
   ]
  },
  {
   "cell_type": "code",
   "execution_count": null,
   "metadata": {},
   "outputs": [],
   "source": [
    "from gensim.models.phrases import Phrases"
   ]
  },
  {
   "cell_type": "code",
   "execution_count": null,
   "metadata": {},
   "outputs": [],
   "source": [
    "bigrams = Phrases(doc_stream(\"texts/\")) "
   ]
  },
  {
   "cell_type": "code",
   "execution_count": null,
   "metadata": {},
   "outputs": [],
   "source": [
    "bigrams.vocab"
   ]
  },
  {
   "cell_type": "code",
   "execution_count": null,
   "metadata": {},
   "outputs": [],
   "source": [
    "trigrams = Phrases(bigrams[doc_stream(\"texts/\")])"
   ]
  },
  {
   "cell_type": "code",
   "execution_count": null,
   "metadata": {},
   "outputs": [],
   "source": [
    "t = trigrams.vocab"
   ]
  },
  {
   "cell_type": "code",
   "execution_count": null,
   "metadata": {},
   "outputs": [],
   "source": [
    "keys = t.keys()\n",
    "values = t.values()"
   ]
  },
  {
   "cell_type": "code",
   "execution_count": null,
   "metadata": {},
   "outputs": [],
   "source": [
    "df2 = pd.DataFrame()"
   ]
  },
  {
   "cell_type": "code",
   "execution_count": null,
   "metadata": {},
   "outputs": [],
   "source": [
    "keys = [i.decode(\"UTF-8\") for i in keys]\n",
    "keys = [i.split(\"_\") for i in keys]\n",
    "keys = [\" \".join(i) for i in keys]"
   ]
  },
  {
   "cell_type": "code",
   "execution_count": null,
   "metadata": {},
   "outputs": [],
   "source": [
    "df2[\"phrases\"] = keys\n",
    "df2[\"values\"] = values"
   ]
  },
  {
   "cell_type": "code",
   "execution_count": null,
   "metadata": {},
   "outputs": [],
   "source": [
    "df2.sort_values(\"values\",ascending=False, inplace=True)"
   ]
  },
  {
   "cell_type": "code",
   "execution_count": null,
   "metadata": {},
   "outputs": [],
   "source": [
    "df2[\"values\"].plot()"
   ]
  },
  {
   "cell_type": "code",
   "execution_count": null,
   "metadata": {},
   "outputs": [],
   "source": [
    "import pickle"
   ]
  },
  {
   "cell_type": "code",
   "execution_count": null,
   "metadata": {},
   "outputs": [],
   "source": [
    "filename = \"df2.pkl\"\n",
    "outfile = open(filename,'wb')\n",
    "pickle.dump(df2, outfile)\n",
    "outfile.close()"
   ]
  },
  {
   "cell_type": "markdown",
   "metadata": {},
   "source": [
    "### Data Transformation"
   ]
  },
  {
   "cell_type": "code",
   "execution_count": null,
   "metadata": {},
   "outputs": [],
   "source": [
    "#!pipenv install seaborn"
   ]
  },
  {
   "cell_type": "code",
   "execution_count": null,
   "metadata": {},
   "outputs": [],
   "source": [
    "import matplotlib.pyplot as plt\n",
    "import pickle\n",
    "import pandas as pd\n",
    "import seaborn as sns"
   ]
  },
  {
   "cell_type": "code",
   "execution_count": null,
   "metadata": {},
   "outputs": [],
   "source": [
    "import pickle\n",
    "filename= \"df2.pkl\"\n",
    "infile =open(filename,'rb')\n",
    "df2 = pickle.load(infile)\n",
    "infile.close()"
   ]
  },
  {
   "cell_type": "code",
   "execution_count": null,
   "metadata": {},
   "outputs": [],
   "source": [
    "useful_values = df2[df2[\"values\"]>500]"
   ]
  },
  {
   "cell_type": "code",
   "execution_count": null,
   "metadata": {},
   "outputs": [],
   "source": [
    "useful_values"
   ]
  },
  {
   "cell_type": "code",
   "execution_count": null,
   "metadata": {},
   "outputs": [],
   "source": [
    "sns.lineplot(data=useful_values[\"values\"])"
   ]
  },
  {
   "cell_type": "code",
   "execution_count": null,
   "metadata": {},
   "outputs": [],
   "source": [
    "df2[\"len\"]= df2[\"phrases\"].apply(lambda x: len(x.split(\" \")))"
   ]
  },
  {
   "cell_type": "code",
   "execution_count": null,
   "metadata": {},
   "outputs": [],
   "source": [
    "num_words = df2[\"values\"].sum()"
   ]
  },
  {
   "cell_type": "code",
   "execution_count": null,
   "metadata": {},
   "outputs": [],
   "source": [
    "df2[\"percent\"] = df2[\"values\"] / num_words"
   ]
  },
  {
   "cell_type": "code",
   "execution_count": null,
   "metadata": {},
   "outputs": [],
   "source": [
    "df2[\"zipf\"] = df2[\"percent\"].cumsum()"
   ]
  },
  {
   "cell_type": "markdown",
   "metadata": {},
   "source": [
    "### Unigram"
   ]
  },
  {
   "cell_type": "code",
   "execution_count": null,
   "metadata": {},
   "outputs": [],
   "source": [
    "words_df = df2[df2[\"len\"]==1]"
   ]
  },
  {
   "cell_type": "code",
   "execution_count": null,
   "metadata": {},
   "outputs": [],
   "source": [
    "num_words = words_df[\"values\"].sum()\n",
    "words_df[\"percent\"] = words_df[\"values\"]/num_words\n",
    "words_df[\"zipf\"] = words_df[\"percent\"].cumsum()"
   ]
  },
  {
   "cell_type": "code",
   "execution_count": null,
   "metadata": {},
   "outputs": [],
   "source": [
    "plt.plot(words_df[\"zipf\"].values)"
   ]
  },
  {
   "cell_type": "code",
   "execution_count": null,
   "metadata": {},
   "outputs": [],
   "source": [
    "words_df[words_df[\"zipf\"]<=.5].count()"
   ]
  },
  {
   "cell_type": "code",
   "execution_count": null,
   "metadata": {},
   "outputs": [],
   "source": [
    "words_df[words_df[\"zipf\"]<=.5].tail(20)"
   ]
  },
  {
   "cell_type": "code",
   "execution_count": null,
   "metadata": {},
   "outputs": [],
   "source": [
    "words_df[words_df[\"zipf\"]<=.6].count()"
   ]
  },
  {
   "cell_type": "code",
   "execution_count": null,
   "metadata": {},
   "outputs": [],
   "source": [
    "words_df[words_df[\"zipf\"]<=.65].count()"
   ]
  },
  {
   "cell_type": "code",
   "execution_count": null,
   "metadata": {},
   "outputs": [],
   "source": [
    "words_df[words_df[\"zipf\"]<=.8].count()"
   ]
  },
  {
   "cell_type": "code",
   "execution_count": null,
   "metadata": {},
   "outputs": [],
   "source": [
    "words_df[words_df[\"zipf\"]<=.6]"
   ]
  },
  {
   "cell_type": "markdown",
   "metadata": {},
   "source": [
    "### bigram"
   ]
  },
  {
   "cell_type": "code",
   "execution_count": null,
   "metadata": {},
   "outputs": [],
   "source": [
    "bigram = df2[df2[\"len\"]==2]\n",
    "num_words = bigram[\"values\"].sum()\n",
    "bigram[\"percent\"] = bigram[\"values\"]/num_words\n",
    "bigram[\"zipf\"] = bigram[\"percent\"].cumsum()"
   ]
  },
  {
   "cell_type": "code",
   "execution_count": null,
   "metadata": {},
   "outputs": [],
   "source": [
    "plt.plot(bigram[\"zipf\"].values)"
   ]
  },
  {
   "cell_type": "code",
   "execution_count": null,
   "metadata": {},
   "outputs": [],
   "source": [
    "top_bigrams = bigram[bigram[\"zipf\"]<=.1]"
   ]
  },
  {
   "cell_type": "code",
   "execution_count": null,
   "metadata": {},
   "outputs": [],
   "source": [
    "top_bigrams[0:40]"
   ]
  },
  {
   "cell_type": "markdown",
   "metadata": {},
   "source": [
    "### Trigrams"
   ]
  },
  {
   "cell_type": "code",
   "execution_count": null,
   "metadata": {},
   "outputs": [],
   "source": [
    "trigram = df2[df2[\"len\"]==3]\n",
    "num_words = trigram[\"values\"].sum()\n",
    "trigram[\"percent\"] = trigram[\"values\"]/num_words\n",
    "trigram[\"zipf\"] = trigram[\"percent\"].cumsum()"
   ]
  },
  {
   "cell_type": "code",
   "execution_count": null,
   "metadata": {},
   "outputs": [],
   "source": [
    "plt.plot(trigram[\"zipf\"].values)"
   ]
  },
  {
   "cell_type": "code",
   "execution_count": null,
   "metadata": {},
   "outputs": [],
   "source": [
    "top_trigrams = trigram[trigram[\"zipf\"]<=.1]"
   ]
  },
  {
   "cell_type": "code",
   "execution_count": null,
   "metadata": {},
   "outputs": [],
   "source": [
    "trigram[trigram[\"zipf\"]<=.1].count()"
   ]
  },
  {
   "cell_type": "code",
   "execution_count": null,
   "metadata": {},
   "outputs": [],
   "source": [
    "top_trigrams[:40]"
   ]
  },
  {
   "cell_type": "code",
   "execution_count": null,
   "metadata": {},
   "outputs": [],
   "source": []
  }
 ],
 "metadata": {
  "@webio": {
   "lastCommId": null,
   "lastKernelId": null
  },
  "kernelspec": {
   "display_name": "Python 3",
   "language": "python",
   "name": "python3"
  },
  "language_info": {
   "codemirror_mode": {
    "name": "ipython",
    "version": 3
   },
   "file_extension": ".py",
   "mimetype": "text/x-python",
   "name": "python",
   "nbconvert_exporter": "python",
   "pygments_lexer": "ipython3",
   "version": "3.8.2"
  }
 },
 "nbformat": 4,
 "nbformat_minor": 2
}
