{
 "cells": [
  {
   "cell_type": "code",
   "execution_count": null,
   "metadata": {},
   "outputs": [],
   "source": [
    "#!pip install requests asyncio bs4 nest_asyncio"
   ]
  },
  {
   "cell_type": "code",
   "execution_count": null,
   "metadata": {},
   "outputs": [],
   "source": [
    "import requests\n",
    "from bs4 import BeautifulSoup\n",
    "import asyncio\n",
    "from concurrent.futures import ThreadPoolExecutor\n",
    "import nest_asyncio"
   ]
  },
  {
   "cell_type": "code",
   "execution_count": null,
   "metadata": {},
   "outputs": [],
   "source": [
    "library = \"http://www.perseus.tufts.edu/hopper/collection?collection=Perseus:corpus:perseus,Latin+Texts\""
   ]
  },
  {
   "cell_type": "markdown",
   "metadata": {},
   "source": [
    "### Create a library"
   ]
  },
  {
   "cell_type": "code",
   "execution_count": null,
   "metadata": {},
   "outputs": [],
   "source": [
    "r = requests.get(library).text\n",
    "soup = BeautifulSoup(r,\"html.parser\")"
   ]
  },
  {
   "cell_type": "code",
   "execution_count": null,
   "metadata": {},
   "outputs": [],
   "source": [
    "library_list = soup.find_all(\"a\", {\"class\":\"aResultsHeader\"})"
   ]
  },
  {
   "cell_type": "code",
   "execution_count": null,
   "metadata": {},
   "outputs": [],
   "source": [
    "library_urls = [i[\"href\"] for i in library_list]"
   ]
  },
  {
   "cell_type": "code",
   "execution_count": null,
   "metadata": {},
   "outputs": [],
   "source": [
    "library_urls"
   ]
  },
  {
   "cell_type": "code",
   "execution_count": null,
   "metadata": {},
   "outputs": [],
   "source": [
    "library_urls"
   ]
  },
  {
   "cell_type": "markdown",
   "metadata": {},
   "source": [
    "### Get all pages"
   ]
  },
  {
   "cell_type": "markdown",
   "metadata": {},
   "source": [
    "##### Test"
   ]
  },
  {
   "cell_type": "code",
   "execution_count": null,
   "metadata": {},
   "outputs": [],
   "source": [
    "\"http://www.perseus.tufts.edu/hopper/\"+library_urls[0]"
   ]
  },
  {
   "cell_type": "code",
   "execution_count": null,
   "metadata": {},
   "outputs": [],
   "source": [
    "r = requests.get(\"http://www.perseus.tufts.edu/hopper/\"+library_urls[0]).text\n",
    "soup = BeautifulSoup(r,\"html.parser\")"
   ]
  },
  {
   "cell_type": "code",
   "execution_count": null,
   "metadata": {},
   "outputs": [],
   "source": [
    "toc = soup.find_all(\"div\", {\"id\":\"toc\"})[0]"
   ]
  },
  {
   "cell_type": "code",
   "execution_count": null,
   "metadata": {},
   "outputs": [],
   "source": [
    "[ i[\"href\"] for i in toc.find_all(\"a\")]"
   ]
  },
  {
   "cell_type": "markdown",
   "metadata": {},
   "source": [
    "##### Execution"
   ]
  },
  {
   "cell_type": "code",
   "execution_count": null,
   "metadata": {},
   "outputs": [],
   "source": [
    "#!pipenv install nest_asyncio"
   ]
  },
  {
   "cell_type": "code",
   "execution_count": null,
   "metadata": {},
   "outputs": [],
   "source": [
    "import asyncio\n",
    "from concurrent.futures import ThreadPoolExecutor\n",
    "import nest_asyncio"
   ]
  },
  {
   "cell_type": "code",
   "execution_count": null,
   "metadata": {},
   "outputs": [],
   "source": [
    "def get_all_pieces(session, url, all_pages_urls):\n",
    "    url = \"http://www.perseus.tufts.edu/hopper/\"+url\n",
    "    r = requests.get(url).text\n",
    "    soup = BeautifulSoup(r,\"html.parser\")\n",
    "    try:\n",
    "        toc = soup.find_all(\"div\",{\"id\":\"toc\"})[0]\n",
    "        toc = [i[\"href\"] for i in toc.find_all(\"a\")]\n",
    "        all_pages_urls += toc\n",
    "    except:\n",
    "        print(f'ERROR url = {url}')\n",
    "    "
   ]
  },
  {
   "cell_type": "code",
   "execution_count": null,
   "metadata": {},
   "outputs": [],
   "source": [
    "async def get_index_data_asynchronous(all_pages_url, library_urls):\n",
    "    \"\"\"\n",
    "    1. Establish an executor and number of workers\n",
    "    2. Establish the session\n",
    "    3. Establish the event loop\n",
    "    4. Create the task by list comprenhensions\n",
    "    5. Gather tasks.\n",
    "    \"\"\"\n",
    "    with ThreadPoolExecutor(max_workers=40) as executor:\n",
    "        with requests.Session() as session:\n",
    "            loop = asyncio.get_event_loop()\n",
    "            tasks = [\n",
    "                loop.run_in_executor(\n",
    "                    executor, get_all_pieces, *(session, url, all_pages_url)\n",
    "                )\n",
    "                for url in library_urls\n",
    "            ]\n",
    "            for response in await asyncio.gather(*tasks):\n",
    "                pass"
   ]
  },
  {
   "cell_type": "code",
   "execution_count": null,
   "metadata": {},
   "outputs": [],
   "source": [
    "def execute_async_index_event_loop(all_pages_url, library_urls):\n",
    "    \"\"\"\n",
    "    This function does something analogous to compiling the get_data_asynchronously function,\n",
    "    Then it executes loop.\n",
    "    1. Call the get_data_function\n",
    "    2. Get the event_loop\n",
    "    3. Run the tasks (Much easier to understand in python 3.7, \"ensure_future\" was changed to \"create_task\")\n",
    "    4. Edge_list and top_interactions will be passed to the next functions\n",
    "    \"\"\"\n",
    "    future = asyncio.ensure_future(\n",
    "        get_index_data_asynchronous(all_pages_url, library_urls)\n",
    "    )\n",
    "    loop = asyncio.get_event_loop()\n",
    "    loop.run_until_complete(future)"
   ]
  },
  {
   "cell_type": "code",
   "execution_count": null,
   "metadata": {},
   "outputs": [],
   "source": [
    "nest_asyncio.apply()\n",
    "all_pages_url = []\n",
    "execute_async_index_event_loop(all_pages_url, library_urls)"
   ]
  },
  {
   "cell_type": "code",
   "execution_count": null,
   "metadata": {},
   "outputs": [],
   "source": [
    "all_pages_url = [i for i in all_pages_url if \"javascript\" not in i]"
   ]
  },
  {
   "cell_type": "code",
   "execution_count": null,
   "metadata": {},
   "outputs": [],
   "source": [
    "all_pages_url = set(all_pages_url)"
   ]
  },
  {
   "cell_type": "code",
   "execution_count": null,
   "metadata": {},
   "outputs": [],
   "source": [
    "len(all_pages_url)"
   ]
  },
  {
   "cell_type": "code",
   "execution_count": null,
   "metadata": {},
   "outputs": [],
   "source": [
    "import pickle\n",
    "filename = \"library.pkl\"\n",
    "outfile = open(filename,'wb')\n",
    "pickle.dump(all_pages_url, outfile)\n",
    "outfile.close()"
   ]
  },
  {
   "cell_type": "markdown",
   "metadata": {},
   "source": [
    "### Get all texts\n",
    "##### Test"
   ]
  },
  {
   "cell_type": "code",
   "execution_count": null,
   "metadata": {},
   "outputs": [],
   "source": [
    "import pickle\n",
    "filename= \"library.pkl\"\n",
    "infile =open(filename,'rb')\n",
    "all_pages_url = pickle.load(infile)\n",
    "infile.close()"
   ]
  },
  {
   "cell_type": "code",
   "execution_count": null,
   "metadata": {},
   "outputs": [],
   "source": [
    "all_pages_url = list(all_pages_url)"
   ]
  },
  {
   "cell_type": "code",
   "execution_count": null,
   "metadata": {},
   "outputs": [],
   "source": [
    "url = all_pages_url[1]\n",
    "url = \"http://www.perseus.tufts.edu/hopper/text\"+url\n",
    "r = requests.get(url).text\n",
    "soup = BeautifulSoup(r,\"html.parser\")\n",
    "text = soup.find_all(\"a\",{\"class\":\"text\"})"
   ]
  },
  {
   "cell_type": "code",
   "execution_count": null,
   "metadata": {
    "scrolled": true
   },
   "outputs": [],
   "source": [
    "len([i.text for i in text])"
   ]
  },
  {
   "cell_type": "code",
   "execution_count": null,
   "metadata": {},
   "outputs": [],
   "source": [
    "url"
   ]
  },
  {
   "cell_type": "markdown",
   "metadata": {},
   "source": [
    "##### Execution"
   ]
  },
  {
   "cell_type": "code",
   "execution_count": null,
   "metadata": {},
   "outputs": [],
   "source": [
    "def get_all_texts(session, base_url):\n",
    "    url = \"http://www.perseus.tufts.edu/hopper/text\"+base_url\n",
    "    r = requests.get(url).text\n",
    "    soup = BeautifulSoup(r,\"html.parser\")\n",
    "    text = soup.find_all(\"a\",{\"class\":\"text\"})\n",
    "    text = \" \".join([i.text for i in text])\n",
    "    f = open(\"texts/\"+base_url,'w')\n",
    "    f.write(text)\n",
    "    f.close()"
   ]
  },
  {
   "cell_type": "code",
   "execution_count": null,
   "metadata": {},
   "outputs": [],
   "source": []
  },
  {
   "cell_type": "code",
   "execution_count": null,
   "metadata": {},
   "outputs": [],
   "source": [
    "async def get_index_data_asynchronous(all_pages_url):\n",
    "    \"\"\"\n",
    "    1. Establish an executor and number of workers\n",
    "    2. Establish the session\n",
    "    3. Establish the event loop\n",
    "    4. Create the task by list comprenhensions\n",
    "    5. Gather tasks.\n",
    "    \"\"\"\n",
    "    with ThreadPoolExecutor(max_workers=200) as executor:\n",
    "        with requests.Session() as session:\n",
    "            loop = asyncio.get_event_loop()\n",
    "            tasks = [\n",
    "                loop.run_in_executor(\n",
    "                    executor, get_all_texts, *(session, url)\n",
    "                )\n",
    "                for url in all_pages_url\n",
    "            ]\n",
    "            for response in await asyncio.gather(*tasks):\n",
    "                pass"
   ]
  },
  {
   "cell_type": "code",
   "execution_count": null,
   "metadata": {},
   "outputs": [],
   "source": [
    "def execute_async_index_event_loop(all_pages_url):\n",
    "    \"\"\"\n",
    "    This function does something analogous to compiling the get_data_asynchronously function,\n",
    "    Then it executes loop.\n",
    "    1. Call the get_data_function\n",
    "    2. Get the event_loop\n",
    "    3. Run the tasks (Much easier to understand in python 3.7, \"ensure_future\" was changed to \"create_task\")\n",
    "    4. Edge_list and top_interactions will be passed to the next functions\n",
    "    \"\"\"\n",
    "    future = asyncio.ensure_future(\n",
    "        get_index_data_asynchronous(all_pages_url)\n",
    "    )\n",
    "    loop = asyncio.get_event_loop()\n",
    "    loop.run_until_complete(future)"
   ]
  },
  {
   "cell_type": "code",
   "execution_count": null,
   "metadata": {},
   "outputs": [],
   "source": []
  },
  {
   "cell_type": "code",
   "execution_count": null,
   "metadata": {},
   "outputs": [],
   "source": [
    "%%time\n",
    "nest_asyncio.apply()\n",
    "all_texts = []\n",
    "execute_async_index_event_loop(all_pages_url)"
   ]
  },
  {
   "cell_type": "markdown",
   "metadata": {},
   "source": [
    "### Create Corpus"
   ]
  },
  {
   "cell_type": "code",
   "execution_count": null,
   "metadata": {},
   "outputs": [],
   "source": [
    "import os"
   ]
  },
  {
   "cell_type": "code",
   "execution_count": null,
   "metadata": {},
   "outputs": [],
   "source": [
    "len(os.listdir(\"texts/\"))"
   ]
  },
  {
   "cell_type": "code",
   "execution_count": null,
   "metadata": {},
   "outputs": [],
   "source": [
    "docs = [\"texts/\"+i for i in os.listdir(\"texts/\")]"
   ]
  },
  {
   "cell_type": "code",
   "execution_count": null,
   "metadata": {},
   "outputs": [],
   "source": [
    "o = open(docs[0])\n",
    "o = o.read()"
   ]
  },
  {
   "cell_type": "code",
   "execution_count": null,
   "metadata": {},
   "outputs": [],
   "source": [
    "[ i.strip('\\n') for i in o.split(\" \")]"
   ]
  },
  {
   "cell_type": "code",
   "execution_count": null,
   "metadata": {},
   "outputs": [],
   "source": [
    "def doc_stream(path):\n",
    "    for f in os.listdir(path):\n",
    "        with open(os.path.join(path,f)) as t:\n",
    "            text = t.read()\n",
    "            text = [ i.strip('\\n') for i in text.split(\" \")]\n",
    "            yield text"
   ]
  },
  {
   "cell_type": "code",
   "execution_count": null,
   "metadata": {},
   "outputs": [],
   "source": [
    "!pip install gensim"
   ]
  },
  {
   "cell_type": "code",
   "execution_count": null,
   "metadata": {},
   "outputs": [],
   "source": [
    "from gensim import corpora\n",
    "dictionary = corpora.dictionary.Dictionary()"
   ]
  },
  {
   "cell_type": "code",
   "execution_count": null,
   "metadata": {},
   "outputs": [],
   "source": [
    "ds = doc_stream(\"texts/\")"
   ]
  },
  {
   "cell_type": "code",
   "execution_count": null,
   "metadata": {},
   "outputs": [],
   "source": [
    "latin_dict = corpora.Dictionary(ds)"
   ]
  },
  {
   "cell_type": "code",
   "execution_count": null,
   "metadata": {},
   "outputs": [],
   "source": [
    "latin_dict.save(\"latin_gensim_dict\")"
   ]
  },
  {
   "cell_type": "code",
   "execution_count": null,
   "metadata": {},
   "outputs": [],
   "source": [
    "keys = latin_dict.cfs.keys()\n",
    "values = latin_dict.cfs.values()\n",
    "word = [latin_dict[i] for i in keys]"
   ]
  },
  {
   "cell_type": "code",
   "execution_count": null,
   "metadata": {},
   "outputs": [],
   "source": [
    "import pandas as pd"
   ]
  },
  {
   "cell_type": "code",
   "execution_count": null,
   "metadata": {},
   "outputs": [],
   "source": [
    "df = pd.DataFrame()"
   ]
  },
  {
   "cell_type": "code",
   "execution_count": null,
   "metadata": {},
   "outputs": [],
   "source": [
    "df[\"word\"] = word"
   ]
  },
  {
   "cell_type": "code",
   "execution_count": null,
   "metadata": {},
   "outputs": [],
   "source": [
    "df[\"frequency\"] = values"
   ]
  },
  {
   "cell_type": "code",
   "execution_count": null,
   "metadata": {},
   "outputs": [],
   "source": [
    "df.sort_values(\"frequency\",ascending=False,inplace=True)"
   ]
  },
  {
   "cell_type": "code",
   "execution_count": null,
   "metadata": {},
   "outputs": [],
   "source": [
    "df[\"percent_of_corpus\"] = df[\"frequency\"] / latin_dict.num_pos"
   ]
  },
  {
   "cell_type": "code",
   "execution_count": null,
   "metadata": {},
   "outputs": [],
   "source": [
    "df.head()"
   ]
  },
  {
   "cell_type": "code",
   "execution_count": null,
   "metadata": {},
   "outputs": [],
   "source": [
    "from gensim.models.phrases import Phrases"
   ]
  },
  {
   "cell_type": "code",
   "execution_count": null,
   "metadata": {},
   "outputs": [],
   "source": [
    "bigrams = Phrases(doc_stream(\"texts/\")) "
   ]
  },
  {
   "cell_type": "code",
   "execution_count": null,
   "metadata": {},
   "outputs": [],
   "source": [
    "bigrams.vocab"
   ]
  },
  {
   "cell_type": "code",
   "execution_count": null,
   "metadata": {},
   "outputs": [],
   "source": [
    "trigrams = Phrases(bigrams[doc_stream(\"texts/\")])"
   ]
  },
  {
   "cell_type": "code",
   "execution_count": null,
   "metadata": {},
   "outputs": [],
   "source": [
    "t = trigrams.vocab"
   ]
  },
  {
   "cell_type": "code",
   "execution_count": null,
   "metadata": {},
   "outputs": [],
   "source": [
    "keys = t.keys()\n",
    "values = t.values()"
   ]
  },
  {
   "cell_type": "code",
   "execution_count": null,
   "metadata": {},
   "outputs": [],
   "source": [
    "df2 = pd.DataFrame()"
   ]
  },
  {
   "cell_type": "code",
   "execution_count": null,
   "metadata": {},
   "outputs": [],
   "source": [
    "keys = [i.decode(\"UTF-8\") for i in keys]\n",
    "keys = [i.split(\"_\") for i in keys]\n",
    "keys = [\" \".join(i) for i in keys]"
   ]
  },
  {
   "cell_type": "code",
   "execution_count": null,
   "metadata": {},
   "outputs": [],
   "source": [
    "df2[\"phrases\"] = keys\n",
    "df2[\"values\"] = values"
   ]
  },
  {
   "cell_type": "code",
   "execution_count": null,
   "metadata": {},
   "outputs": [],
   "source": [
    "df2.sort_values(\"values\",ascending=False, inplace=True)"
   ]
  },
  {
   "cell_type": "code",
   "execution_count": null,
   "metadata": {},
   "outputs": [],
   "source": [
    "df2[\"values\"].plot()"
   ]
  },
  {
   "cell_type": "code",
   "execution_count": null,
   "metadata": {},
   "outputs": [],
   "source": [
    "import pickle"
   ]
  },
  {
   "cell_type": "code",
   "execution_count": null,
   "metadata": {},
   "outputs": [],
   "source": [
    "filename = \"df2.pkl\"\n",
    "outfile = open(filename,'wb')\n",
    "pickle.dump(df2, outfile)\n",
    "outfile.close()"
   ]
  },
  {
   "cell_type": "markdown",
   "metadata": {},
   "source": [
    "### Data Transformation"
   ]
  },
  {
   "cell_type": "code",
   "execution_count": 1,
   "metadata": {},
   "outputs": [],
   "source": [
    "#!pipenv install seaborn"
   ]
  },
  {
   "cell_type": "code",
   "execution_count": 2,
   "metadata": {},
   "outputs": [],
   "source": [
    "import matplotlib.pyplot as plt\n",
    "import pickle\n",
    "import pandas as pd\n",
    "import seaborn as sns"
   ]
  },
  {
   "cell_type": "code",
   "execution_count": 3,
   "metadata": {},
   "outputs": [],
   "source": [
    "import pickle\n",
    "filename= \"df2.pkl\"\n",
    "infile =open(filename,'rb')\n",
    "df2 = pickle.load(infile)\n",
    "infile.close()"
   ]
  },
  {
   "cell_type": "code",
   "execution_count": 4,
   "metadata": {},
   "outputs": [],
   "source": [
    "useful_values = df2[df2[\"values\"]>500]"
   ]
  },
  {
   "cell_type": "code",
   "execution_count": 5,
   "metadata": {},
   "outputs": [
    {
     "data": {
      "text/html": [
       "<div>\n",
       "<style scoped>\n",
       "    .dataframe tbody tr th:only-of-type {\n",
       "        vertical-align: middle;\n",
       "    }\n",
       "\n",
       "    .dataframe tbody tr th {\n",
       "        vertical-align: top;\n",
       "    }\n",
       "\n",
       "    .dataframe thead th {\n",
       "        text-align: right;\n",
       "    }\n",
       "</style>\n",
       "<table border=\"1\" class=\"dataframe\">\n",
       "  <thead>\n",
       "    <tr style=\"text-align: right;\">\n",
       "      <th></th>\n",
       "      <th>phrases</th>\n",
       "      <th>values</th>\n",
       "    </tr>\n",
       "  </thead>\n",
       "  <tbody>\n",
       "    <tr>\n",
       "      <td>15</td>\n",
       "      <td>et</td>\n",
       "      <td>193169</td>\n",
       "    </tr>\n",
       "    <tr>\n",
       "      <td>63</td>\n",
       "      <td>in</td>\n",
       "      <td>103819</td>\n",
       "    </tr>\n",
       "    <tr>\n",
       "      <td>1</td>\n",
       "      <td>est</td>\n",
       "      <td>67748</td>\n",
       "    </tr>\n",
       "    <tr>\n",
       "      <td>82</td>\n",
       "      <td>non</td>\n",
       "      <td>59465</td>\n",
       "    </tr>\n",
       "    <tr>\n",
       "      <td>9</td>\n",
       "      <td>ut</td>\n",
       "      <td>52925</td>\n",
       "    </tr>\n",
       "    <tr>\n",
       "      <td>...</td>\n",
       "      <td>...</td>\n",
       "      <td>...</td>\n",
       "    </tr>\n",
       "    <tr>\n",
       "      <td>8058</td>\n",
       "      <td>quom</td>\n",
       "      <td>502</td>\n",
       "    </tr>\n",
       "    <tr>\n",
       "      <td>262</td>\n",
       "      <td>ad modum</td>\n",
       "      <td>502</td>\n",
       "    </tr>\n",
       "    <tr>\n",
       "      <td>8781</td>\n",
       "      <td>quia non</td>\n",
       "      <td>501</td>\n",
       "    </tr>\n",
       "    <tr>\n",
       "      <td>5795</td>\n",
       "      <td>templum</td>\n",
       "      <td>501</td>\n",
       "    </tr>\n",
       "    <tr>\n",
       "      <td>2686</td>\n",
       "      <td>melior</td>\n",
       "      <td>501</td>\n",
       "    </tr>\n",
       "  </tbody>\n",
       "</table>\n",
       "<p>1150 rows × 2 columns</p>\n",
       "</div>"
      ],
      "text/plain": [
       "       phrases  values\n",
       "15          et  193169\n",
       "63          in  103819\n",
       "1          est   67748\n",
       "82         non   59465\n",
       "9           ut   52925\n",
       "...        ...     ...\n",
       "8058      quom     502\n",
       "262   ad modum     502\n",
       "8781  quia non     501\n",
       "5795   templum     501\n",
       "2686    melior     501\n",
       "\n",
       "[1150 rows x 2 columns]"
      ]
     },
     "execution_count": 5,
     "metadata": {},
     "output_type": "execute_result"
    }
   ],
   "source": [
    "useful_values"
   ]
  },
  {
   "cell_type": "code",
   "execution_count": 6,
   "metadata": {},
   "outputs": [
    {
     "data": {
      "text/plain": [
       "<matplotlib.axes._subplots.AxesSubplot at 0x7f79563e0358>"
      ]
     },
     "execution_count": 6,
     "metadata": {},
     "output_type": "execute_result"
    },
    {
     "data": {
      "image/png": "[encoded data removed]",
      "text/plain": [
       "<Figure size 432x288 with 1 Axes>"
      ]
     },
     "metadata": {
      "needs_background": "light"
     },
     "output_type": "display_data"
    }
   ],
   "source": [
    "sns.lineplot(data=useful_values[\"values\"])"
   ]
  },
  {
   "cell_type": "code",
   "execution_count": 7,
   "metadata": {},
   "outputs": [],
   "source": [
    "df2[\"len\"]= df2[\"phrases\"].apply(lambda x: len(x.split(\" \")))"
   ]
  },
  {
   "cell_type": "code",
   "execution_count": 8,
   "metadata": {},
   "outputs": [],
   "source": [
    "num_words = df2[\"values\"].sum()"
   ]
  },
  {
   "cell_type": "code",
   "execution_count": 10,
   "metadata": {},
   "outputs": [],
   "source": [
    "df2[\"percent\"] = df2[\"values\"] / num_words"
   ]
  },
  {
   "cell_type": "code",
   "execution_count": 12,
   "metadata": {},
   "outputs": [],
   "source": [
    "df2[\"zipf\"] = df2[\"percent\"].cumsum()"
   ]
  },
  {
   "cell_type": "code",
   "execution_count": 18,
   "metadata": {},
   "outputs": [
    {
     "data": {
      "text/plain": [
       "[<matplotlib.lines.Line2D at 0x7f795f2a5898>]"
      ]
     },
     "execution_count": 18,
     "metadata": {},
     "output_type": "execute_result"
    },
    {
     "data": {
      "image/png": "[encoded data removed]",
      "text/plain": [
       "<Figure size 432x288 with 1 Axes>"
      ]
     },
     "metadata": {
      "needs_background": "light"
     },
     "output_type": "display_data"
    }
   ],
   "source": [
    "plt.plot(df2[\"zipf\"].values)"
   ]
  },
  {
   "cell_type": "markdown",
   "metadata": {},
   "source": [
    "### Unigram"
   ]
  },
  {
   "cell_type": "code",
   "execution_count": 23,
   "metadata": {},
   "outputs": [],
   "source": [
    "words_df = df2[df2[\"len\"]==1]"
   ]
  },
  {
   "cell_type": "code",
   "execution_count": 25,
   "metadata": {},
   "outputs": [
    {
     "name": "stderr",
     "output_type": "stream",
     "text": [
      "/home/cwcollins/.local/share/virtualenvs/latin_project-iWf3JHF9/lib/python3.6/site-packages/ipykernel_launcher.py:2: SettingWithCopyWarning: \n",
      "A value is trying to be set on a copy of a slice from a DataFrame.\n",
      "Try using .loc[row_indexer,col_indexer] = value instead\n",
      "\n",
      "See the caveats in the documentation: http://pandas.pydata.org/pandas-docs/stable/user_guide/indexing.html#returning-a-view-versus-a-copy\n",
      "  \n",
      "/home/cwcollins/.local/share/virtualenvs/latin_project-iWf3JHF9/lib/python3.6/site-packages/ipykernel_launcher.py:3: SettingWithCopyWarning: \n",
      "A value is trying to be set on a copy of a slice from a DataFrame.\n",
      "Try using .loc[row_indexer,col_indexer] = value instead\n",
      "\n",
      "See the caveats in the documentation: http://pandas.pydata.org/pandas-docs/stable/user_guide/indexing.html#returning-a-view-versus-a-copy\n",
      "  This is separate from the ipykernel package so we can avoid doing imports until\n"
     ]
    }
   ],
   "source": [
    "num_words = words_df[\"values\"].sum()\n",
    "words_df[\"percent\"] = words_df[\"values\"]/num_words\n",
    "words_df[\"zipf\"] = words_df[\"percent\"].cumsum()"
   ]
  },
  {
   "cell_type": "code",
   "execution_count": 30,
   "metadata": {},
   "outputs": [
    {
     "data": {
      "text/plain": [
       "[<matplotlib.lines.Line2D at 0x7f795f177908>]"
      ]
     },
     "execution_count": 30,
     "metadata": {},
     "output_type": "execute_result"
    },
    {
     "data": {
      "image/png": "[encoded data removed]",
      "text/plain": [
       "<Figure size 432x288 with 1 Axes>"
      ]
     },
     "metadata": {
      "needs_background": "light"
     },
     "output_type": "display_data"
    }
   ],
   "source": [
    "plt.plot(words_df[\"zipf\"].values)"
   ]
  },
  {
   "cell_type": "code",
   "execution_count": 52,
   "metadata": {},
   "outputs": [
    {
     "data": {
      "text/plain": [
       "phrases    1269\n",
       "values     1269\n",
       "len        1269\n",
       "percent    1269\n",
       "zipf       1269\n",
       "dtype: int64"
      ]
     },
     "execution_count": 52,
     "metadata": {},
     "output_type": "execute_result"
    }
   ],
   "source": [
    "words_df[words_df[\"zipf\"]<=.5].count()"
   ]
  },
  {
   "cell_type": "code",
   "execution_count": 33,
   "metadata": {},
   "outputs": [
    {
     "data": {
      "text/plain": [
       "phrases    3325\n",
       "values     3325\n",
       "len        3325\n",
       "percent    3325\n",
       "zipf       3325\n",
       "dtype: int64"
      ]
     },
     "execution_count": 33,
     "metadata": {},
     "output_type": "execute_result"
    }
   ],
   "source": [
    "words_df[words_df[\"zipf\"]<=.6].count()"
   ]
  },
  {
   "cell_type": "code",
   "execution_count": 54,
   "metadata": {},
   "outputs": [
    {
     "data": {
      "text/plain": [
       "phrases    5258\n",
       "values     5258\n",
       "len        5258\n",
       "percent    5258\n",
       "zipf       5258\n",
       "dtype: int64"
      ]
     },
     "execution_count": 54,
     "metadata": {},
     "output_type": "execute_result"
    }
   ],
   "source": [
    "words_df[words_df[\"zipf\"]<=.65].count()"
   ]
  },
  {
   "cell_type": "code",
   "execution_count": 32,
   "metadata": {},
   "outputs": [
    {
     "data": {
      "text/plain": [
       "phrases    20549\n",
       "values     20549\n",
       "len        20549\n",
       "percent    20549\n",
       "zipf       20549\n",
       "dtype: int64"
      ]
     },
     "execution_count": 32,
     "metadata": {},
     "output_type": "execute_result"
    }
   ],
   "source": [
    "words_df[words_df[\"zipf\"]<=.8].count()"
   ]
  },
  {
   "cell_type": "code",
   "execution_count": 51,
   "metadata": {},
   "outputs": [
    {
     "data": {
      "text/html": [
       "<div>\n",
       "<style scoped>\n",
       "    .dataframe tbody tr th:only-of-type {\n",
       "        vertical-align: middle;\n",
       "    }\n",
       "\n",
       "    .dataframe tbody tr th {\n",
       "        vertical-align: top;\n",
       "    }\n",
       "\n",
       "    .dataframe thead th {\n",
       "        text-align: right;\n",
       "    }\n",
       "</style>\n",
       "<table border=\"1\" class=\"dataframe\">\n",
       "  <thead>\n",
       "    <tr style=\"text-align: right;\">\n",
       "      <th></th>\n",
       "      <th>phrases</th>\n",
       "      <th>values</th>\n",
       "      <th>len</th>\n",
       "      <th>percent</th>\n",
       "      <th>zipf</th>\n",
       "    </tr>\n",
       "  </thead>\n",
       "  <tbody>\n",
       "    <tr>\n",
       "      <td>15</td>\n",
       "      <td>et</td>\n",
       "      <td>193169</td>\n",
       "      <td>1</td>\n",
       "      <td>0.036658</td>\n",
       "      <td>0.036658</td>\n",
       "    </tr>\n",
       "    <tr>\n",
       "      <td>63</td>\n",
       "      <td>in</td>\n",
       "      <td>103819</td>\n",
       "      <td>1</td>\n",
       "      <td>0.019702</td>\n",
       "      <td>0.056360</td>\n",
       "    </tr>\n",
       "    <tr>\n",
       "      <td>1</td>\n",
       "      <td>est</td>\n",
       "      <td>67748</td>\n",
       "      <td>1</td>\n",
       "      <td>0.012857</td>\n",
       "      <td>0.069217</td>\n",
       "    </tr>\n",
       "    <tr>\n",
       "      <td>82</td>\n",
       "      <td>non</td>\n",
       "      <td>59465</td>\n",
       "      <td>1</td>\n",
       "      <td>0.011285</td>\n",
       "      <td>0.080502</td>\n",
       "    </tr>\n",
       "    <tr>\n",
       "      <td>9</td>\n",
       "      <td>ut</td>\n",
       "      <td>52925</td>\n",
       "      <td>1</td>\n",
       "      <td>0.010044</td>\n",
       "      <td>0.090546</td>\n",
       "    </tr>\n",
       "    <tr>\n",
       "      <td>...</td>\n",
       "      <td>...</td>\n",
       "      <td>...</td>\n",
       "      <td>...</td>\n",
       "      <td>...</td>\n",
       "      <td>...</td>\n",
       "    </tr>\n",
       "    <tr>\n",
       "      <td>6477</td>\n",
       "      <td>negoti</td>\n",
       "      <td>170</td>\n",
       "      <td>1</td>\n",
       "      <td>0.000032</td>\n",
       "      <td>0.599862</td>\n",
       "    </tr>\n",
       "    <tr>\n",
       "      <td>38588</td>\n",
       "      <td>argumento</td>\n",
       "      <td>170</td>\n",
       "      <td>1</td>\n",
       "      <td>0.000032</td>\n",
       "      <td>0.599895</td>\n",
       "    </tr>\n",
       "    <tr>\n",
       "      <td>1620</td>\n",
       "      <td>haut</td>\n",
       "      <td>170</td>\n",
       "      <td>1</td>\n",
       "      <td>0.000032</td>\n",
       "      <td>0.599927</td>\n",
       "    </tr>\n",
       "    <tr>\n",
       "      <td>4795</td>\n",
       "      <td>subiecta</td>\n",
       "      <td>170</td>\n",
       "      <td>1</td>\n",
       "      <td>0.000032</td>\n",
       "      <td>0.599959</td>\n",
       "    </tr>\n",
       "    <tr>\n",
       "      <td>30834</td>\n",
       "      <td>dedere</td>\n",
       "      <td>170</td>\n",
       "      <td>1</td>\n",
       "      <td>0.000032</td>\n",
       "      <td>0.599992</td>\n",
       "    </tr>\n",
       "  </tbody>\n",
       "</table>\n",
       "<p>3325 rows × 5 columns</p>\n",
       "</div>"
      ],
      "text/plain": [
       "         phrases  values  len   percent      zipf\n",
       "15            et  193169    1  0.036658  0.036658\n",
       "63            in  103819    1  0.019702  0.056360\n",
       "1            est   67748    1  0.012857  0.069217\n",
       "82           non   59465    1  0.011285  0.080502\n",
       "9             ut   52925    1  0.010044  0.090546\n",
       "...          ...     ...  ...       ...       ...\n",
       "6477      negoti     170    1  0.000032  0.599862\n",
       "38588  argumento     170    1  0.000032  0.599895\n",
       "1620        haut     170    1  0.000032  0.599927\n",
       "4795    subiecta     170    1  0.000032  0.599959\n",
       "30834     dedere     170    1  0.000032  0.599992\n",
       "\n",
       "[3325 rows x 5 columns]"
      ]
     },
     "execution_count": 51,
     "metadata": {},
     "output_type": "execute_result"
    }
   ],
   "source": [
    "words_df[words_df[\"zipf\"]<=.6]"
   ]
  },
  {
   "cell_type": "markdown",
   "metadata": {},
   "source": [
    "### bigram"
   ]
  },
  {
   "cell_type": "code",
   "execution_count": 34,
   "metadata": {},
   "outputs": [
    {
     "name": "stderr",
     "output_type": "stream",
     "text": [
      "/home/cwcollins/.local/share/virtualenvs/latin_project-iWf3JHF9/lib/python3.6/site-packages/ipykernel_launcher.py:3: SettingWithCopyWarning: \n",
      "A value is trying to be set on a copy of a slice from a DataFrame.\n",
      "Try using .loc[row_indexer,col_indexer] = value instead\n",
      "\n",
      "See the caveats in the documentation: http://pandas.pydata.org/pandas-docs/stable/user_guide/indexing.html#returning-a-view-versus-a-copy\n",
      "  This is separate from the ipykernel package so we can avoid doing imports until\n",
      "/home/cwcollins/.local/share/virtualenvs/latin_project-iWf3JHF9/lib/python3.6/site-packages/ipykernel_launcher.py:4: SettingWithCopyWarning: \n",
      "A value is trying to be set on a copy of a slice from a DataFrame.\n",
      "Try using .loc[row_indexer,col_indexer] = value instead\n",
      "\n",
      "See the caveats in the documentation: http://pandas.pydata.org/pandas-docs/stable/user_guide/indexing.html#returning-a-view-versus-a-copy\n",
      "  after removing the cwd from sys.path.\n"
     ]
    }
   ],
   "source": [
    "bigram = df2[df2[\"len\"]==2]\n",
    "num_words = bigram[\"values\"].sum()\n",
    "bigram[\"percent\"] = bigram[\"values\"]/num_words\n",
    "bigram[\"zipf\"] = bigram[\"percent\"].cumsum()"
   ]
  },
  {
   "cell_type": "code",
   "execution_count": 38,
   "metadata": {},
   "outputs": [
    {
     "data": {
      "text/plain": [
       "[<matplotlib.lines.Line2D at 0x7f795f0b6e10>]"
      ]
     },
     "execution_count": 38,
     "metadata": {},
     "output_type": "execute_result"
    },
    {
     "data": {
      "image/png": "[encoded data removed]",
      "text/plain": [
       "<Figure size 432x288 with 1 Axes>"
      ]
     },
     "metadata": {
      "needs_background": "light"
     },
     "output_type": "display_data"
    }
   ],
   "source": [
    "plt.plot(bigram[\"zipf\"].values)"
   ]
  },
  {
   "cell_type": "code",
   "execution_count": 45,
   "metadata": {},
   "outputs": [],
   "source": [
    "top_bigrams = bigram[bigram[\"zipf\"]<=.1]"
   ]
  },
  {
   "cell_type": "code",
   "execution_count": 48,
   "metadata": {},
   "outputs": [
    {
     "data": {
      "text/html": [
       "<div>\n",
       "<style scoped>\n",
       "    .dataframe tbody tr th:only-of-type {\n",
       "        vertical-align: middle;\n",
       "    }\n",
       "\n",
       "    .dataframe tbody tr th {\n",
       "        vertical-align: top;\n",
       "    }\n",
       "\n",
       "    .dataframe thead th {\n",
       "        text-align: right;\n",
       "    }\n",
       "</style>\n",
       "<table border=\"1\" class=\"dataframe\">\n",
       "  <thead>\n",
       "    <tr style=\"text-align: right;\">\n",
       "      <th></th>\n",
       "      <th>phrases</th>\n",
       "      <th>values</th>\n",
       "      <th>len</th>\n",
       "      <th>percent</th>\n",
       "      <th>zipf</th>\n",
       "    </tr>\n",
       "  </thead>\n",
       "  <tbody>\n",
       "    <tr>\n",
       "      <td>2536</td>\n",
       "      <td>et in</td>\n",
       "      <td>5177</td>\n",
       "      <td>2</td>\n",
       "      <td>0.000994</td>\n",
       "      <td>0.000994</td>\n",
       "    </tr>\n",
       "    <tr>\n",
       "      <td>2833</td>\n",
       "      <td>id est</td>\n",
       "      <td>3241</td>\n",
       "      <td>2</td>\n",
       "      <td>0.000622</td>\n",
       "      <td>0.001616</td>\n",
       "    </tr>\n",
       "    <tr>\n",
       "      <td>598</td>\n",
       "      <td>non est</td>\n",
       "      <td>2606</td>\n",
       "      <td>2</td>\n",
       "      <td>0.000500</td>\n",
       "      <td>0.002116</td>\n",
       "    </tr>\n",
       "    <tr>\n",
       "      <td>3732</td>\n",
       "      <td>est et</td>\n",
       "      <td>2546</td>\n",
       "      <td>2</td>\n",
       "      <td>0.000489</td>\n",
       "      <td>0.002605</td>\n",
       "    </tr>\n",
       "    <tr>\n",
       "      <td>6984</td>\n",
       "      <td>et non</td>\n",
       "      <td>1955</td>\n",
       "      <td>2</td>\n",
       "      <td>0.000375</td>\n",
       "      <td>0.002980</td>\n",
       "    </tr>\n",
       "    <tr>\n",
       "      <td>14307</td>\n",
       "      <td>et cum</td>\n",
       "      <td>1834</td>\n",
       "      <td>2</td>\n",
       "      <td>0.000352</td>\n",
       "      <td>0.003332</td>\n",
       "    </tr>\n",
       "    <tr>\n",
       "      <td>1199</td>\n",
       "      <td>est in</td>\n",
       "      <td>1818</td>\n",
       "      <td>2</td>\n",
       "      <td>0.000349</td>\n",
       "      <td>0.003681</td>\n",
       "    </tr>\n",
       "    <tr>\n",
       "      <td>1416</td>\n",
       "      <td>est quod</td>\n",
       "      <td>1817</td>\n",
       "      <td>2</td>\n",
       "      <td>0.000349</td>\n",
       "      <td>0.004029</td>\n",
       "    </tr>\n",
       "    <tr>\n",
       "      <td>1384</td>\n",
       "      <td>est ut</td>\n",
       "      <td>1699</td>\n",
       "      <td>2</td>\n",
       "      <td>0.000326</td>\n",
       "      <td>0.004355</td>\n",
       "    </tr>\n",
       "    <tr>\n",
       "      <td>4905</td>\n",
       "      <td>in quo</td>\n",
       "      <td>1698</td>\n",
       "      <td>2</td>\n",
       "      <td>0.000326</td>\n",
       "      <td>0.004681</td>\n",
       "    </tr>\n",
       "    <tr>\n",
       "      <td>1050</td>\n",
       "      <td>sed etiam</td>\n",
       "      <td>1573</td>\n",
       "      <td>2</td>\n",
       "      <td>0.000302</td>\n",
       "      <td>0.004983</td>\n",
       "    </tr>\n",
       "    <tr>\n",
       "      <td>9189</td>\n",
       "      <td>id quod</td>\n",
       "      <td>1563</td>\n",
       "      <td>2</td>\n",
       "      <td>0.000300</td>\n",
       "      <td>0.005283</td>\n",
       "    </tr>\n",
       "    <tr>\n",
       "      <td>2220</td>\n",
       "      <td>et ad</td>\n",
       "      <td>1531</td>\n",
       "      <td>2</td>\n",
       "      <td>0.000294</td>\n",
       "      <td>0.005577</td>\n",
       "    </tr>\n",
       "    <tr>\n",
       "      <td>5027</td>\n",
       "      <td>ut in</td>\n",
       "      <td>1503</td>\n",
       "      <td>2</td>\n",
       "      <td>0.000288</td>\n",
       "      <td>0.005866</td>\n",
       "    </tr>\n",
       "    <tr>\n",
       "      <td>9496</td>\n",
       "      <td>usque ad</td>\n",
       "      <td>1446</td>\n",
       "      <td>2</td>\n",
       "      <td>0.000278</td>\n",
       "      <td>0.006143</td>\n",
       "    </tr>\n",
       "    <tr>\n",
       "      <td>5461</td>\n",
       "      <td>ea quae</td>\n",
       "      <td>1433</td>\n",
       "      <td>2</td>\n",
       "      <td>0.000275</td>\n",
       "      <td>0.006418</td>\n",
       "    </tr>\n",
       "    <tr>\n",
       "      <td>3979</td>\n",
       "      <td>rei publicae</td>\n",
       "      <td>1298</td>\n",
       "      <td>2</td>\n",
       "      <td>0.000249</td>\n",
       "      <td>0.006667</td>\n",
       "    </tr>\n",
       "    <tr>\n",
       "      <td>8061</td>\n",
       "      <td>ad me</td>\n",
       "      <td>1291</td>\n",
       "      <td>2</td>\n",
       "      <td>0.000248</td>\n",
       "      <td>0.006915</td>\n",
       "    </tr>\n",
       "    <tr>\n",
       "      <td>2807</td>\n",
       "      <td>ab eo</td>\n",
       "      <td>1263</td>\n",
       "      <td>2</td>\n",
       "      <td>0.000242</td>\n",
       "      <td>0.007157</td>\n",
       "    </tr>\n",
       "    <tr>\n",
       "      <td>4404</td>\n",
       "      <td>si quid</td>\n",
       "      <td>1228</td>\n",
       "      <td>2</td>\n",
       "      <td>0.000236</td>\n",
       "      <td>0.007393</td>\n",
       "    </tr>\n",
       "    <tr>\n",
       "      <td>113</td>\n",
       "      <td>non modo</td>\n",
       "      <td>1220</td>\n",
       "      <td>2</td>\n",
       "      <td>0.000234</td>\n",
       "      <td>0.007627</td>\n",
       "    </tr>\n",
       "    <tr>\n",
       "      <td>2335</td>\n",
       "      <td>et si</td>\n",
       "      <td>1210</td>\n",
       "      <td>2</td>\n",
       "      <td>0.000232</td>\n",
       "      <td>0.007860</td>\n",
       "    </tr>\n",
       "    <tr>\n",
       "      <td>504</td>\n",
       "      <td>in qua</td>\n",
       "      <td>1199</td>\n",
       "      <td>2</td>\n",
       "      <td>0.000230</td>\n",
       "      <td>0.008090</td>\n",
       "    </tr>\n",
       "    <tr>\n",
       "      <td>603</td>\n",
       "      <td>hoc est</td>\n",
       "      <td>1188</td>\n",
       "      <td>2</td>\n",
       "      <td>0.000228</td>\n",
       "      <td>0.008318</td>\n",
       "    </tr>\n",
       "    <tr>\n",
       "      <td>273</td>\n",
       "      <td>in eo</td>\n",
       "      <td>1141</td>\n",
       "      <td>2</td>\n",
       "      <td>0.000219</td>\n",
       "      <td>0.008537</td>\n",
       "    </tr>\n",
       "    <tr>\n",
       "      <td>2422</td>\n",
       "      <td>a me</td>\n",
       "      <td>1121</td>\n",
       "      <td>2</td>\n",
       "      <td>0.000215</td>\n",
       "      <td>0.008752</td>\n",
       "    </tr>\n",
       "    <tr>\n",
       "      <td>658</td>\n",
       "      <td>inter se</td>\n",
       "      <td>1093</td>\n",
       "      <td>2</td>\n",
       "      <td>0.000210</td>\n",
       "      <td>0.008962</td>\n",
       "    </tr>\n",
       "    <tr>\n",
       "      <td>5002</td>\n",
       "      <td>quod in</td>\n",
       "      <td>1090</td>\n",
       "      <td>2</td>\n",
       "      <td>0.000209</td>\n",
       "      <td>0.009171</td>\n",
       "    </tr>\n",
       "    <tr>\n",
       "      <td>14434</td>\n",
       "      <td>ad te</td>\n",
       "      <td>1076</td>\n",
       "      <td>2</td>\n",
       "      <td>0.000207</td>\n",
       "      <td>0.009377</td>\n",
       "    </tr>\n",
       "    <tr>\n",
       "      <td>237</td>\n",
       "      <td>necesse est</td>\n",
       "      <td>1036</td>\n",
       "      <td>2</td>\n",
       "      <td>0.000199</td>\n",
       "      <td>0.009576</td>\n",
       "    </tr>\n",
       "    <tr>\n",
       "      <td>1378</td>\n",
       "      <td>nam et</td>\n",
       "      <td>1034</td>\n",
       "      <td>2</td>\n",
       "      <td>0.000198</td>\n",
       "      <td>0.009775</td>\n",
       "    </tr>\n",
       "    <tr>\n",
       "      <td>25</td>\n",
       "      <td>non potest</td>\n",
       "      <td>1031</td>\n",
       "      <td>2</td>\n",
       "      <td>0.000198</td>\n",
       "      <td>0.009973</td>\n",
       "    </tr>\n",
       "    <tr>\n",
       "      <td>4210</td>\n",
       "      <td>in hoc</td>\n",
       "      <td>1031</td>\n",
       "      <td>2</td>\n",
       "      <td>0.000198</td>\n",
       "      <td>0.010170</td>\n",
       "    </tr>\n",
       "    <tr>\n",
       "      <td>10670</td>\n",
       "      <td>in quibus</td>\n",
       "      <td>1012</td>\n",
       "      <td>2</td>\n",
       "      <td>0.000194</td>\n",
       "      <td>0.010365</td>\n",
       "    </tr>\n",
       "    <tr>\n",
       "      <td>13761</td>\n",
       "      <td>si non</td>\n",
       "      <td>1000</td>\n",
       "      <td>2</td>\n",
       "      <td>0.000192</td>\n",
       "      <td>0.010557</td>\n",
       "    </tr>\n",
       "    <tr>\n",
       "      <td>3124</td>\n",
       "      <td>neque enim</td>\n",
       "      <td>985</td>\n",
       "      <td>2</td>\n",
       "      <td>0.000189</td>\n",
       "      <td>0.010746</td>\n",
       "    </tr>\n",
       "    <tr>\n",
       "      <td>4</td>\n",
       "      <td>est enim</td>\n",
       "      <td>982</td>\n",
       "      <td>2</td>\n",
       "      <td>0.000188</td>\n",
       "      <td>0.010934</td>\n",
       "    </tr>\n",
       "    <tr>\n",
       "      <td>37050</td>\n",
       "      <td>et qui</td>\n",
       "      <td>975</td>\n",
       "      <td>2</td>\n",
       "      <td>0.000187</td>\n",
       "      <td>0.011121</td>\n",
       "    </tr>\n",
       "    <tr>\n",
       "      <td>6912</td>\n",
       "      <td>non solum</td>\n",
       "      <td>973</td>\n",
       "      <td>2</td>\n",
       "      <td>0.000187</td>\n",
       "      <td>0.011308</td>\n",
       "    </tr>\n",
       "    <tr>\n",
       "      <td>7769</td>\n",
       "      <td>per se</td>\n",
       "      <td>971</td>\n",
       "      <td>2</td>\n",
       "      <td>0.000186</td>\n",
       "      <td>0.011494</td>\n",
       "    </tr>\n",
       "  </tbody>\n",
       "</table>\n",
       "</div>"
      ],
      "text/plain": [
       "            phrases  values  len   percent      zipf\n",
       "2536          et in    5177    2  0.000994  0.000994\n",
       "2833         id est    3241    2  0.000622  0.001616\n",
       "598         non est    2606    2  0.000500  0.002116\n",
       "3732         est et    2546    2  0.000489  0.002605\n",
       "6984         et non    1955    2  0.000375  0.002980\n",
       "14307        et cum    1834    2  0.000352  0.003332\n",
       "1199         est in    1818    2  0.000349  0.003681\n",
       "1416       est quod    1817    2  0.000349  0.004029\n",
       "1384         est ut    1699    2  0.000326  0.004355\n",
       "4905         in quo    1698    2  0.000326  0.004681\n",
       "1050      sed etiam    1573    2  0.000302  0.004983\n",
       "9189        id quod    1563    2  0.000300  0.005283\n",
       "2220          et ad    1531    2  0.000294  0.005577\n",
       "5027          ut in    1503    2  0.000288  0.005866\n",
       "9496       usque ad    1446    2  0.000278  0.006143\n",
       "5461        ea quae    1433    2  0.000275  0.006418\n",
       "3979   rei publicae    1298    2  0.000249  0.006667\n",
       "8061          ad me    1291    2  0.000248  0.006915\n",
       "2807          ab eo    1263    2  0.000242  0.007157\n",
       "4404        si quid    1228    2  0.000236  0.007393\n",
       "113        non modo    1220    2  0.000234  0.007627\n",
       "2335          et si    1210    2  0.000232  0.007860\n",
       "504          in qua    1199    2  0.000230  0.008090\n",
       "603         hoc est    1188    2  0.000228  0.008318\n",
       "273           in eo    1141    2  0.000219  0.008537\n",
       "2422           a me    1121    2  0.000215  0.008752\n",
       "658        inter se    1093    2  0.000210  0.008962\n",
       "5002        quod in    1090    2  0.000209  0.009171\n",
       "14434         ad te    1076    2  0.000207  0.009377\n",
       "237     necesse est    1036    2  0.000199  0.009576\n",
       "1378         nam et    1034    2  0.000198  0.009775\n",
       "25       non potest    1031    2  0.000198  0.009973\n",
       "4210         in hoc    1031    2  0.000198  0.010170\n",
       "10670     in quibus    1012    2  0.000194  0.010365\n",
       "13761        si non    1000    2  0.000192  0.010557\n",
       "3124     neque enim     985    2  0.000189  0.010746\n",
       "4          est enim     982    2  0.000188  0.010934\n",
       "37050        et qui     975    2  0.000187  0.011121\n",
       "6912      non solum     973    2  0.000187  0.011308\n",
       "7769         per se     971    2  0.000186  0.011494"
      ]
     },
     "execution_count": 48,
     "metadata": {},
     "output_type": "execute_result"
    }
   ],
   "source": [
    "top_bigrams[0:40]"
   ]
  },
  {
   "cell_type": "markdown",
   "metadata": {},
   "source": [
    "### Trigrams"
   ]
  },
  {
   "cell_type": "code",
   "execution_count": 55,
   "metadata": {},
   "outputs": [
    {
     "name": "stderr",
     "output_type": "stream",
     "text": [
      "/home/cwcollins/.local/share/virtualenvs/latin_project-iWf3JHF9/lib/python3.6/site-packages/ipykernel_launcher.py:3: SettingWithCopyWarning: \n",
      "A value is trying to be set on a copy of a slice from a DataFrame.\n",
      "Try using .loc[row_indexer,col_indexer] = value instead\n",
      "\n",
      "See the caveats in the documentation: http://pandas.pydata.org/pandas-docs/stable/user_guide/indexing.html#returning-a-view-versus-a-copy\n",
      "  This is separate from the ipykernel package so we can avoid doing imports until\n",
      "/home/cwcollins/.local/share/virtualenvs/latin_project-iWf3JHF9/lib/python3.6/site-packages/ipykernel_launcher.py:4: SettingWithCopyWarning: \n",
      "A value is trying to be set on a copy of a slice from a DataFrame.\n",
      "Try using .loc[row_indexer,col_indexer] = value instead\n",
      "\n",
      "See the caveats in the documentation: http://pandas.pydata.org/pandas-docs/stable/user_guide/indexing.html#returning-a-view-versus-a-copy\n",
      "  after removing the cwd from sys.path.\n"
     ]
    }
   ],
   "source": [
    "trigram = df2[df2[\"len\"]==3]\n",
    "num_words = trigram[\"values\"].sum()\n",
    "trigram[\"percent\"] = trigram[\"values\"]/num_words\n",
    "trigram[\"zipf\"] = trigram[\"percent\"].cumsum()"
   ]
  },
  {
   "cell_type": "code",
   "execution_count": 56,
   "metadata": {},
   "outputs": [
    {
     "data": {
      "text/plain": [
       "[<matplotlib.lines.Line2D at 0x7f795f4588d0>]"
      ]
     },
     "execution_count": 56,
     "metadata": {},
     "output_type": "execute_result"
    },
    {
     "data": {
      "image/png": "[encoded data removed]",
      "text/plain": [
       "<Figure size 432x288 with 1 Axes>"
      ]
     },
     "metadata": {
      "needs_background": "light"
     },
     "output_type": "display_data"
    }
   ],
   "source": [
    "plt.plot(trigram[\"zipf\"].values)"
   ]
  },
  {
   "cell_type": "code",
   "execution_count": 58,
   "metadata": {},
   "outputs": [],
   "source": [
    "top_trigrams = trigram[trigram[\"zipf\"]<=.1]"
   ]
  },
  {
   "cell_type": "code",
   "execution_count": 62,
   "metadata": {},
   "outputs": [
    {
     "data": {
      "text/plain": [
       "phrases    4194\n",
       "values     4194\n",
       "len        4194\n",
       "percent    4194\n",
       "zipf       4194\n",
       "dtype: int64"
      ]
     },
     "execution_count": 62,
     "metadata": {},
     "output_type": "execute_result"
    }
   ],
   "source": [
    "trigram[trigram[\"zipf\"]<=.1].count()"
   ]
  },
  {
   "cell_type": "code",
   "execution_count": 61,
   "metadata": {},
   "outputs": [
    {
     "data": {
      "text/html": [
       "<div>\n",
       "<style scoped>\n",
       "    .dataframe tbody tr th:only-of-type {\n",
       "        vertical-align: middle;\n",
       "    }\n",
       "\n",
       "    .dataframe tbody tr th {\n",
       "        vertical-align: top;\n",
       "    }\n",
       "\n",
       "    .dataframe thead th {\n",
       "        text-align: right;\n",
       "    }\n",
       "</style>\n",
       "<table border=\"1\" class=\"dataframe\">\n",
       "  <thead>\n",
       "    <tr style=\"text-align: right;\">\n",
       "      <th></th>\n",
       "      <th>phrases</th>\n",
       "      <th>values</th>\n",
       "      <th>len</th>\n",
       "      <th>percent</th>\n",
       "      <th>zipf</th>\n",
       "    </tr>\n",
       "  </thead>\n",
       "  <tbody>\n",
       "    <tr>\n",
       "      <td>263</td>\n",
       "      <td>quem ad modum</td>\n",
       "      <td>481</td>\n",
       "      <td>3</td>\n",
       "      <td>0.000830</td>\n",
       "      <td>0.000830</td>\n",
       "    </tr>\n",
       "    <tr>\n",
       "      <td>4100</td>\n",
       "      <td>quam ob rem</td>\n",
       "      <td>407</td>\n",
       "      <td>3</td>\n",
       "      <td>0.000702</td>\n",
       "      <td>0.001532</td>\n",
       "    </tr>\n",
       "    <tr>\n",
       "      <td>46954</td>\n",
       "      <td>in re publica</td>\n",
       "      <td>252</td>\n",
       "      <td>3</td>\n",
       "      <td>0.000435</td>\n",
       "      <td>0.001967</td>\n",
       "    </tr>\n",
       "    <tr>\n",
       "      <td>4052</td>\n",
       "      <td>de re publica</td>\n",
       "      <td>217</td>\n",
       "      <td>3</td>\n",
       "      <td>0.000374</td>\n",
       "      <td>0.002341</td>\n",
       "    </tr>\n",
       "    <tr>\n",
       "      <td>23927</td>\n",
       "      <td>et factum est</td>\n",
       "      <td>198</td>\n",
       "      <td>3</td>\n",
       "      <td>0.000342</td>\n",
       "      <td>0.002682</td>\n",
       "    </tr>\n",
       "    <tr>\n",
       "      <td>2809</td>\n",
       "      <td>ab eo quod</td>\n",
       "      <td>197</td>\n",
       "      <td>3</td>\n",
       "      <td>0.000340</td>\n",
       "      <td>0.003022</td>\n",
       "    </tr>\n",
       "    <tr>\n",
       "      <td>23472</td>\n",
       "      <td>haec dicit Dominus</td>\n",
       "      <td>136</td>\n",
       "      <td>3</td>\n",
       "      <td>0.000235</td>\n",
       "      <td>0.003257</td>\n",
       "    </tr>\n",
       "    <tr>\n",
       "      <td>34050</td>\n",
       "      <td>in die illa</td>\n",
       "      <td>136</td>\n",
       "      <td>3</td>\n",
       "      <td>0.000235</td>\n",
       "      <td>0.003491</td>\n",
       "    </tr>\n",
       "    <tr>\n",
       "      <td>44828</td>\n",
       "      <td>ut supra diximus</td>\n",
       "      <td>125</td>\n",
       "      <td>3</td>\n",
       "      <td>0.000216</td>\n",
       "      <td>0.003707</td>\n",
       "    </tr>\n",
       "    <tr>\n",
       "      <td>253916</td>\n",
       "      <td>ex eo quod</td>\n",
       "      <td>121</td>\n",
       "      <td>3</td>\n",
       "      <td>0.000209</td>\n",
       "      <td>0.003916</td>\n",
       "    </tr>\n",
       "    <tr>\n",
       "      <td>92898</td>\n",
       "      <td>ac si diceret</td>\n",
       "      <td>120</td>\n",
       "      <td>3</td>\n",
       "      <td>0.000207</td>\n",
       "      <td>0.004123</td>\n",
       "    </tr>\n",
       "    <tr>\n",
       "      <td>40926</td>\n",
       "      <td>Dominus ad Mosen</td>\n",
       "      <td>118</td>\n",
       "      <td>3</td>\n",
       "      <td>0.000204</td>\n",
       "      <td>0.004326</td>\n",
       "    </tr>\n",
       "    <tr>\n",
       "      <td>5462</td>\n",
       "      <td>ad ea quae</td>\n",
       "      <td>112</td>\n",
       "      <td>3</td>\n",
       "      <td>0.000193</td>\n",
       "      <td>0.004520</td>\n",
       "    </tr>\n",
       "    <tr>\n",
       "      <td>7752</td>\n",
       "      <td>solum sed etiam</td>\n",
       "      <td>108</td>\n",
       "      <td>3</td>\n",
       "      <td>0.000186</td>\n",
       "      <td>0.004706</td>\n",
       "    </tr>\n",
       "    <tr>\n",
       "      <td>79944</td>\n",
       "      <td>factum est ut</td>\n",
       "      <td>105</td>\n",
       "      <td>3</td>\n",
       "      <td>0.000181</td>\n",
       "      <td>0.004887</td>\n",
       "    </tr>\n",
       "    <tr>\n",
       "      <td>14972</td>\n",
       "      <td>sed etiam in</td>\n",
       "      <td>100</td>\n",
       "      <td>3</td>\n",
       "      <td>0.000173</td>\n",
       "      <td>0.005059</td>\n",
       "    </tr>\n",
       "    <tr>\n",
       "      <td>188630</td>\n",
       "      <td>ad id quod</td>\n",
       "      <td>100</td>\n",
       "      <td>3</td>\n",
       "      <td>0.000173</td>\n",
       "      <td>0.005232</td>\n",
       "    </tr>\n",
       "    <tr>\n",
       "      <td>25801</td>\n",
       "      <td>Dominus Deus tuus</td>\n",
       "      <td>98</td>\n",
       "      <td>3</td>\n",
       "      <td>0.000169</td>\n",
       "      <td>0.005401</td>\n",
       "    </tr>\n",
       "    <tr>\n",
       "      <td>17090</td>\n",
       "      <td>ex iis quae</td>\n",
       "      <td>95</td>\n",
       "      <td>3</td>\n",
       "      <td>0.000164</td>\n",
       "      <td>0.005565</td>\n",
       "    </tr>\n",
       "    <tr>\n",
       "      <td>48873</td>\n",
       "      <td>et ea quae</td>\n",
       "      <td>95</td>\n",
       "      <td>3</td>\n",
       "      <td>0.000164</td>\n",
       "      <td>0.005729</td>\n",
       "    </tr>\n",
       "    <tr>\n",
       "      <td>75512</td>\n",
       "      <td>ut ea quae</td>\n",
       "      <td>95</td>\n",
       "      <td>3</td>\n",
       "      <td>0.000164</td>\n",
       "      <td>0.005893</td>\n",
       "    </tr>\n",
       "    <tr>\n",
       "      <td>256469</td>\n",
       "      <td>in rem publicam</td>\n",
       "      <td>94</td>\n",
       "      <td>3</td>\n",
       "      <td>0.000162</td>\n",
       "      <td>0.006055</td>\n",
       "    </tr>\n",
       "    <tr>\n",
       "      <td>79767</td>\n",
       "      <td>in hac re</td>\n",
       "      <td>94</td>\n",
       "      <td>3</td>\n",
       "      <td>0.000162</td>\n",
       "      <td>0.006217</td>\n",
       "    </tr>\n",
       "    <tr>\n",
       "      <td>95026</td>\n",
       "      <td>locutus est Dominus</td>\n",
       "      <td>90</td>\n",
       "      <td>3</td>\n",
       "      <td>0.000155</td>\n",
       "      <td>0.006372</td>\n",
       "    </tr>\n",
       "    <tr>\n",
       "      <td>8876</td>\n",
       "      <td>in eo quod</td>\n",
       "      <td>88</td>\n",
       "      <td>3</td>\n",
       "      <td>0.000152</td>\n",
       "      <td>0.006524</td>\n",
       "    </tr>\n",
       "    <tr>\n",
       "      <td>107285</td>\n",
       "      <td>in hoc genere</td>\n",
       "      <td>87</td>\n",
       "      <td>3</td>\n",
       "      <td>0.000150</td>\n",
       "      <td>0.006674</td>\n",
       "    </tr>\n",
       "    <tr>\n",
       "      <td>94449</td>\n",
       "      <td>de terra Aegypti</td>\n",
       "      <td>85</td>\n",
       "      <td>3</td>\n",
       "      <td>0.000147</td>\n",
       "      <td>0.006821</td>\n",
       "    </tr>\n",
       "    <tr>\n",
       "      <td>20952</td>\n",
       "      <td>et factus est</td>\n",
       "      <td>84</td>\n",
       "      <td>3</td>\n",
       "      <td>0.000145</td>\n",
       "      <td>0.006966</td>\n",
       "    </tr>\n",
       "    <tr>\n",
       "      <td>195429</td>\n",
       "      <td>id est in</td>\n",
       "      <td>83</td>\n",
       "      <td>3</td>\n",
       "      <td>0.000143</td>\n",
       "      <td>0.007109</td>\n",
       "    </tr>\n",
       "    <tr>\n",
       "      <td>31362</td>\n",
       "      <td>ut ita dicam</td>\n",
       "      <td>82</td>\n",
       "      <td>3</td>\n",
       "      <td>0.000141</td>\n",
       "      <td>0.007250</td>\n",
       "    </tr>\n",
       "    <tr>\n",
       "      <td>229833</td>\n",
       "      <td>quo fit ut</td>\n",
       "      <td>82</td>\n",
       "      <td>3</td>\n",
       "      <td>0.000141</td>\n",
       "      <td>0.007392</td>\n",
       "    </tr>\n",
       "    <tr>\n",
       "      <td>44588</td>\n",
       "      <td>quam ob causam</td>\n",
       "      <td>82</td>\n",
       "      <td>3</td>\n",
       "      <td>0.000141</td>\n",
       "      <td>0.007533</td>\n",
       "    </tr>\n",
       "    <tr>\n",
       "      <td>49536</td>\n",
       "      <td>rei publicae causa</td>\n",
       "      <td>81</td>\n",
       "      <td>3</td>\n",
       "      <td>0.000140</td>\n",
       "      <td>0.007673</td>\n",
       "    </tr>\n",
       "    <tr>\n",
       "      <td>175142</td>\n",
       "      <td>in ea re</td>\n",
       "      <td>80</td>\n",
       "      <td>3</td>\n",
       "      <td>0.000138</td>\n",
       "      <td>0.007811</td>\n",
       "    </tr>\n",
       "    <tr>\n",
       "      <td>82839</td>\n",
       "      <td>et per se</td>\n",
       "      <td>80</td>\n",
       "      <td>3</td>\n",
       "      <td>0.000138</td>\n",
       "      <td>0.007949</td>\n",
       "    </tr>\n",
       "    <tr>\n",
       "      <td>50796</td>\n",
       "      <td>factum est autem</td>\n",
       "      <td>78</td>\n",
       "      <td>3</td>\n",
       "      <td>0.000135</td>\n",
       "      <td>0.008083</td>\n",
       "    </tr>\n",
       "    <tr>\n",
       "      <td>41645</td>\n",
       "      <td>in hac causa</td>\n",
       "      <td>78</td>\n",
       "      <td>3</td>\n",
       "      <td>0.000135</td>\n",
       "      <td>0.008218</td>\n",
       "    </tr>\n",
       "    <tr>\n",
       "      <td>13833</td>\n",
       "      <td>in utramque partem</td>\n",
       "      <td>77</td>\n",
       "      <td>3</td>\n",
       "      <td>0.000133</td>\n",
       "      <td>0.008351</td>\n",
       "    </tr>\n",
       "    <tr>\n",
       "      <td>61679</td>\n",
       "      <td>ut diximus supra</td>\n",
       "      <td>77</td>\n",
       "      <td>3</td>\n",
       "      <td>0.000133</td>\n",
       "      <td>0.008484</td>\n",
       "    </tr>\n",
       "    <tr>\n",
       "      <td>3715</td>\n",
       "      <td>ut hoc loco</td>\n",
       "      <td>76</td>\n",
       "      <td>3</td>\n",
       "      <td>0.000131</td>\n",
       "      <td>0.008615</td>\n",
       "    </tr>\n",
       "  </tbody>\n",
       "</table>\n",
       "</div>"
      ],
      "text/plain": [
       "                    phrases  values  len   percent      zipf\n",
       "263           quem ad modum     481    3  0.000830  0.000830\n",
       "4100            quam ob rem     407    3  0.000702  0.001532\n",
       "46954         in re publica     252    3  0.000435  0.001967\n",
       "4052          de re publica     217    3  0.000374  0.002341\n",
       "23927         et factum est     198    3  0.000342  0.002682\n",
       "2809             ab eo quod     197    3  0.000340  0.003022\n",
       "23472    haec dicit Dominus     136    3  0.000235  0.003257\n",
       "34050           in die illa     136    3  0.000235  0.003491\n",
       "44828      ut supra diximus     125    3  0.000216  0.003707\n",
       "253916           ex eo quod     121    3  0.000209  0.003916\n",
       "92898         ac si diceret     120    3  0.000207  0.004123\n",
       "40926      Dominus ad Mosen     118    3  0.000204  0.004326\n",
       "5462             ad ea quae     112    3  0.000193  0.004520\n",
       "7752        solum sed etiam     108    3  0.000186  0.004706\n",
       "79944         factum est ut     105    3  0.000181  0.004887\n",
       "14972          sed etiam in     100    3  0.000173  0.005059\n",
       "188630           ad id quod     100    3  0.000173  0.005232\n",
       "25801     Dominus Deus tuus      98    3  0.000169  0.005401\n",
       "17090           ex iis quae      95    3  0.000164  0.005565\n",
       "48873            et ea quae      95    3  0.000164  0.005729\n",
       "75512            ut ea quae      95    3  0.000164  0.005893\n",
       "256469      in rem publicam      94    3  0.000162  0.006055\n",
       "79767             in hac re      94    3  0.000162  0.006217\n",
       "95026   locutus est Dominus      90    3  0.000155  0.006372\n",
       "8876             in eo quod      88    3  0.000152  0.006524\n",
       "107285        in hoc genere      87    3  0.000150  0.006674\n",
       "94449      de terra Aegypti      85    3  0.000147  0.006821\n",
       "20952         et factus est      84    3  0.000145  0.006966\n",
       "195429            id est in      83    3  0.000143  0.007109\n",
       "31362          ut ita dicam      82    3  0.000141  0.007250\n",
       "229833           quo fit ut      82    3  0.000141  0.007392\n",
       "44588        quam ob causam      82    3  0.000141  0.007533\n",
       "49536    rei publicae causa      81    3  0.000140  0.007673\n",
       "175142             in ea re      80    3  0.000138  0.007811\n",
       "82839             et per se      80    3  0.000138  0.007949\n",
       "50796      factum est autem      78    3  0.000135  0.008083\n",
       "41645          in hac causa      78    3  0.000135  0.008218\n",
       "13833    in utramque partem      77    3  0.000133  0.008351\n",
       "61679      ut diximus supra      77    3  0.000133  0.008484\n",
       "3715            ut hoc loco      76    3  0.000131  0.008615"
      ]
     },
     "execution_count": 61,
     "metadata": {},
     "output_type": "execute_result"
    }
   ],
   "source": [
    "top_trigrams[:40]"
   ]
  },
  {
   "cell_type": "code",
   "execution_count": null,
   "metadata": {},
   "outputs": [],
   "source": []
  }
 ],
 "metadata": {
  "@webio": {
   "lastCommId": null,
   "lastKernelId": null
  },
  "kernelspec": {
   "display_name": "Python 3",
   "language": "python",
   "name": "python3"
  },
  "language_info": {
   "codemirror_mode": {
    "name": "ipython",
    "version": 3
   },
   "file_extension": ".py",
   "mimetype": "text/x-python",
   "name": "python",
   "nbconvert_exporter": "python",
   "pygments_lexer": "ipython3",
   "version": "3.6.7"
  }
 },
 "nbformat": 4,
 "nbformat_minor": 2
}
